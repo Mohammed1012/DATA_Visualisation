{
  "nbformat": 4,
  "nbformat_minor": 0,
  "metadata": {
    "colab": {
      "name": "Bienvenue dans Colaboratory",
      "provenance": [],
      "collapsed_sections": [],
      "toc_visible": true
    },
    "kernelspec": {
      "display_name": "Python 3",
      "name": "python3"
    },
    "widgets": {
      "application/vnd.jupyter.widget-state+json": {
        "ce243bb1be7a4dd89587b71a3d16d7d8": {
          "model_module": "@jupyter-widgets/controls",
          "model_name": "VBoxModel",
          "state": {
            "_view_name": "VBoxView",
            "_dom_classes": [
              "widget-interact"
            ],
            "_model_name": "VBoxModel",
            "_view_module": "@jupyter-widgets/controls",
            "_model_module_version": "1.5.0",
            "_view_count": null,
            "_view_module_version": "1.5.0",
            "box_style": "",
            "layout": "IPY_MODEL_6bb0fc4053c34ed5bce0c73a1c9aa815",
            "_model_module": "@jupyter-widgets/controls",
            "children": [
              "IPY_MODEL_695da54e1576490cad63a5a733f94ecd",
              "IPY_MODEL_26b5d624a7e940e3940b70a7129700d9"
            ]
          }
        },
        "6bb0fc4053c34ed5bce0c73a1c9aa815": {
          "model_module": "@jupyter-widgets/base",
          "model_name": "LayoutModel",
          "state": {
            "_view_name": "LayoutView",
            "grid_template_rows": null,
            "right": null,
            "justify_content": null,
            "_view_module": "@jupyter-widgets/base",
            "overflow": null,
            "_model_module_version": "1.2.0",
            "_view_count": null,
            "flex_flow": null,
            "width": null,
            "min_width": null,
            "border": null,
            "align_items": null,
            "bottom": null,
            "_model_module": "@jupyter-widgets/base",
            "top": null,
            "grid_column": null,
            "overflow_y": null,
            "overflow_x": null,
            "grid_auto_flow": null,
            "grid_area": null,
            "grid_template_columns": null,
            "flex": null,
            "_model_name": "LayoutModel",
            "justify_items": null,
            "grid_row": null,
            "max_height": null,
            "align_content": null,
            "visibility": null,
            "align_self": null,
            "height": null,
            "min_height": null,
            "padding": null,
            "grid_auto_rows": null,
            "grid_gap": null,
            "max_width": null,
            "order": null,
            "_view_module_version": "1.2.0",
            "grid_template_areas": null,
            "object_position": null,
            "object_fit": null,
            "grid_auto_columns": null,
            "margin": null,
            "display": null,
            "left": null
          }
        },
        "695da54e1576490cad63a5a733f94ecd": {
          "model_module": "@jupyter-widgets/controls",
          "model_name": "TextModel",
          "state": {
            "_view_name": "TextView",
            "style": "IPY_MODEL_18180e158d2d4df78fc3588d6c6626af",
            "_dom_classes": [],
            "description": "n",
            "_model_name": "TextModel",
            "placeholder": "​",
            "_view_module": "@jupyter-widgets/controls",
            "_model_module_version": "1.5.0",
            "value": "50",
            "_view_count": null,
            "disabled": false,
            "_view_module_version": "1.5.0",
            "continuous_update": true,
            "description_tooltip": null,
            "_model_module": "@jupyter-widgets/controls",
            "layout": "IPY_MODEL_f1f2dab264454f10a7dc05b48fa5e403"
          }
        },
        "26b5d624a7e940e3940b70a7129700d9": {
          "model_module": "@jupyter-widgets/output",
          "model_name": "OutputModel",
          "state": {
            "_view_name": "OutputView",
            "msg_id": "",
            "_dom_classes": [],
            "_model_name": "OutputModel",
            "outputs": [
              {
                "output_type": "display_data",
                "metadata": {
                  "tags": []
                },
                "text/html": "<style  type=\"text/css\" >\n#T_421efae2_92e2_11eb_98fe_0242ac1c0002row0_col4,#T_421efae2_92e2_11eb_98fe_0242ac1c0002row1_col4,#T_421efae2_92e2_11eb_98fe_0242ac1c0002row2_col4,#T_421efae2_92e2_11eb_98fe_0242ac1c0002row3_col4,#T_421efae2_92e2_11eb_98fe_0242ac1c0002row4_col4,#T_421efae2_92e2_11eb_98fe_0242ac1c0002row5_col4,#T_421efae2_92e2_11eb_98fe_0242ac1c0002row6_col4,#T_421efae2_92e2_11eb_98fe_0242ac1c0002row7_col4,#T_421efae2_92e2_11eb_98fe_0242ac1c0002row8_col4,#T_421efae2_92e2_11eb_98fe_0242ac1c0002row9_col4,#T_421efae2_92e2_11eb_98fe_0242ac1c0002row10_col4,#T_421efae2_92e2_11eb_98fe_0242ac1c0002row11_col4,#T_421efae2_92e2_11eb_98fe_0242ac1c0002row12_col4,#T_421efae2_92e2_11eb_98fe_0242ac1c0002row13_col4,#T_421efae2_92e2_11eb_98fe_0242ac1c0002row14_col4,#T_421efae2_92e2_11eb_98fe_0242ac1c0002row15_col4,#T_421efae2_92e2_11eb_98fe_0242ac1c0002row16_col4,#T_421efae2_92e2_11eb_98fe_0242ac1c0002row17_col4,#T_421efae2_92e2_11eb_98fe_0242ac1c0002row18_col4,#T_421efae2_92e2_11eb_98fe_0242ac1c0002row19_col4,#T_421efae2_92e2_11eb_98fe_0242ac1c0002row20_col4,#T_421efae2_92e2_11eb_98fe_0242ac1c0002row21_col4,#T_421efae2_92e2_11eb_98fe_0242ac1c0002row22_col4,#T_421efae2_92e2_11eb_98fe_0242ac1c0002row23_col4,#T_421efae2_92e2_11eb_98fe_0242ac1c0002row24_col4,#T_421efae2_92e2_11eb_98fe_0242ac1c0002row25_col4,#T_421efae2_92e2_11eb_98fe_0242ac1c0002row26_col4,#T_421efae2_92e2_11eb_98fe_0242ac1c0002row27_col4,#T_421efae2_92e2_11eb_98fe_0242ac1c0002row28_col4,#T_421efae2_92e2_11eb_98fe_0242ac1c0002row29_col4,#T_421efae2_92e2_11eb_98fe_0242ac1c0002row30_col4,#T_421efae2_92e2_11eb_98fe_0242ac1c0002row31_col4,#T_421efae2_92e2_11eb_98fe_0242ac1c0002row32_col4,#T_421efae2_92e2_11eb_98fe_0242ac1c0002row33_col4,#T_421efae2_92e2_11eb_98fe_0242ac1c0002row34_col4,#T_421efae2_92e2_11eb_98fe_0242ac1c0002row35_col4,#T_421efae2_92e2_11eb_98fe_0242ac1c0002row36_col4,#T_421efae2_92e2_11eb_98fe_0242ac1c0002row37_col4,#T_421efae2_92e2_11eb_98fe_0242ac1c0002row38_col4,#T_421efae2_92e2_11eb_98fe_0242ac1c0002row39_col4,#T_421efae2_92e2_11eb_98fe_0242ac1c0002row40_col4,#T_421efae2_92e2_11eb_98fe_0242ac1c0002row41_col4,#T_421efae2_92e2_11eb_98fe_0242ac1c0002row42_col4,#T_421efae2_92e2_11eb_98fe_0242ac1c0002row43_col4,#T_421efae2_92e2_11eb_98fe_0242ac1c0002row44_col4,#T_421efae2_92e2_11eb_98fe_0242ac1c0002row45_col4,#T_421efae2_92e2_11eb_98fe_0242ac1c0002row46_col4,#T_421efae2_92e2_11eb_98fe_0242ac1c0002row47_col4,#T_421efae2_92e2_11eb_98fe_0242ac1c0002row48_col4,#T_421efae2_92e2_11eb_98fe_0242ac1c0002row49_col4{\n            background-color: yellow;\n        }#T_421efae2_92e2_11eb_98fe_0242ac1c0002row0_col5,#T_421efae2_92e2_11eb_98fe_0242ac1c0002row1_col5,#T_421efae2_92e2_11eb_98fe_0242ac1c0002row2_col5,#T_421efae2_92e2_11eb_98fe_0242ac1c0002row3_col5,#T_421efae2_92e2_11eb_98fe_0242ac1c0002row4_col5,#T_421efae2_92e2_11eb_98fe_0242ac1c0002row5_col5,#T_421efae2_92e2_11eb_98fe_0242ac1c0002row6_col5,#T_421efae2_92e2_11eb_98fe_0242ac1c0002row7_col5,#T_421efae2_92e2_11eb_98fe_0242ac1c0002row8_col5,#T_421efae2_92e2_11eb_98fe_0242ac1c0002row9_col5,#T_421efae2_92e2_11eb_98fe_0242ac1c0002row10_col5,#T_421efae2_92e2_11eb_98fe_0242ac1c0002row11_col5,#T_421efae2_92e2_11eb_98fe_0242ac1c0002row12_col5,#T_421efae2_92e2_11eb_98fe_0242ac1c0002row13_col5,#T_421efae2_92e2_11eb_98fe_0242ac1c0002row14_col5,#T_421efae2_92e2_11eb_98fe_0242ac1c0002row15_col5,#T_421efae2_92e2_11eb_98fe_0242ac1c0002row16_col5,#T_421efae2_92e2_11eb_98fe_0242ac1c0002row17_col5,#T_421efae2_92e2_11eb_98fe_0242ac1c0002row18_col5,#T_421efae2_92e2_11eb_98fe_0242ac1c0002row19_col5,#T_421efae2_92e2_11eb_98fe_0242ac1c0002row20_col5,#T_421efae2_92e2_11eb_98fe_0242ac1c0002row21_col5,#T_421efae2_92e2_11eb_98fe_0242ac1c0002row22_col5,#T_421efae2_92e2_11eb_98fe_0242ac1c0002row23_col5,#T_421efae2_92e2_11eb_98fe_0242ac1c0002row24_col5,#T_421efae2_92e2_11eb_98fe_0242ac1c0002row25_col5,#T_421efae2_92e2_11eb_98fe_0242ac1c0002row26_col5,#T_421efae2_92e2_11eb_98fe_0242ac1c0002row27_col5,#T_421efae2_92e2_11eb_98fe_0242ac1c0002row28_col5,#T_421efae2_92e2_11eb_98fe_0242ac1c0002row29_col5,#T_421efae2_92e2_11eb_98fe_0242ac1c0002row30_col5,#T_421efae2_92e2_11eb_98fe_0242ac1c0002row31_col5,#T_421efae2_92e2_11eb_98fe_0242ac1c0002row32_col5,#T_421efae2_92e2_11eb_98fe_0242ac1c0002row33_col5,#T_421efae2_92e2_11eb_98fe_0242ac1c0002row34_col5,#T_421efae2_92e2_11eb_98fe_0242ac1c0002row35_col5,#T_421efae2_92e2_11eb_98fe_0242ac1c0002row36_col5,#T_421efae2_92e2_11eb_98fe_0242ac1c0002row37_col5,#T_421efae2_92e2_11eb_98fe_0242ac1c0002row38_col5,#T_421efae2_92e2_11eb_98fe_0242ac1c0002row39_col5,#T_421efae2_92e2_11eb_98fe_0242ac1c0002row40_col5,#T_421efae2_92e2_11eb_98fe_0242ac1c0002row41_col5,#T_421efae2_92e2_11eb_98fe_0242ac1c0002row42_col5,#T_421efae2_92e2_11eb_98fe_0242ac1c0002row43_col5,#T_421efae2_92e2_11eb_98fe_0242ac1c0002row44_col5,#T_421efae2_92e2_11eb_98fe_0242ac1c0002row45_col5,#T_421efae2_92e2_11eb_98fe_0242ac1c0002row46_col5,#T_421efae2_92e2_11eb_98fe_0242ac1c0002row47_col5,#T_421efae2_92e2_11eb_98fe_0242ac1c0002row48_col5,#T_421efae2_92e2_11eb_98fe_0242ac1c0002row49_col5{\n            background-color: red;\n        }#T_421efae2_92e2_11eb_98fe_0242ac1c0002row0_col6,#T_421efae2_92e2_11eb_98fe_0242ac1c0002row1_col6,#T_421efae2_92e2_11eb_98fe_0242ac1c0002row2_col6,#T_421efae2_92e2_11eb_98fe_0242ac1c0002row3_col6,#T_421efae2_92e2_11eb_98fe_0242ac1c0002row4_col6,#T_421efae2_92e2_11eb_98fe_0242ac1c0002row5_col6,#T_421efae2_92e2_11eb_98fe_0242ac1c0002row6_col6,#T_421efae2_92e2_11eb_98fe_0242ac1c0002row7_col6,#T_421efae2_92e2_11eb_98fe_0242ac1c0002row8_col6,#T_421efae2_92e2_11eb_98fe_0242ac1c0002row9_col6,#T_421efae2_92e2_11eb_98fe_0242ac1c0002row10_col6,#T_421efae2_92e2_11eb_98fe_0242ac1c0002row11_col6,#T_421efae2_92e2_11eb_98fe_0242ac1c0002row12_col6,#T_421efae2_92e2_11eb_98fe_0242ac1c0002row13_col6,#T_421efae2_92e2_11eb_98fe_0242ac1c0002row14_col6,#T_421efae2_92e2_11eb_98fe_0242ac1c0002row15_col6,#T_421efae2_92e2_11eb_98fe_0242ac1c0002row16_col6,#T_421efae2_92e2_11eb_98fe_0242ac1c0002row17_col6,#T_421efae2_92e2_11eb_98fe_0242ac1c0002row18_col6,#T_421efae2_92e2_11eb_98fe_0242ac1c0002row19_col6,#T_421efae2_92e2_11eb_98fe_0242ac1c0002row20_col6,#T_421efae2_92e2_11eb_98fe_0242ac1c0002row21_col6,#T_421efae2_92e2_11eb_98fe_0242ac1c0002row22_col6,#T_421efae2_92e2_11eb_98fe_0242ac1c0002row23_col6,#T_421efae2_92e2_11eb_98fe_0242ac1c0002row24_col6,#T_421efae2_92e2_11eb_98fe_0242ac1c0002row25_col6,#T_421efae2_92e2_11eb_98fe_0242ac1c0002row26_col6,#T_421efae2_92e2_11eb_98fe_0242ac1c0002row27_col6,#T_421efae2_92e2_11eb_98fe_0242ac1c0002row28_col6,#T_421efae2_92e2_11eb_98fe_0242ac1c0002row29_col6,#T_421efae2_92e2_11eb_98fe_0242ac1c0002row30_col6,#T_421efae2_92e2_11eb_98fe_0242ac1c0002row31_col6,#T_421efae2_92e2_11eb_98fe_0242ac1c0002row32_col6,#T_421efae2_92e2_11eb_98fe_0242ac1c0002row33_col6,#T_421efae2_92e2_11eb_98fe_0242ac1c0002row34_col6,#T_421efae2_92e2_11eb_98fe_0242ac1c0002row35_col6,#T_421efae2_92e2_11eb_98fe_0242ac1c0002row36_col6,#T_421efae2_92e2_11eb_98fe_0242ac1c0002row37_col6,#T_421efae2_92e2_11eb_98fe_0242ac1c0002row38_col6,#T_421efae2_92e2_11eb_98fe_0242ac1c0002row39_col6,#T_421efae2_92e2_11eb_98fe_0242ac1c0002row40_col6,#T_421efae2_92e2_11eb_98fe_0242ac1c0002row41_col6,#T_421efae2_92e2_11eb_98fe_0242ac1c0002row42_col6,#T_421efae2_92e2_11eb_98fe_0242ac1c0002row43_col6,#T_421efae2_92e2_11eb_98fe_0242ac1c0002row44_col6,#T_421efae2_92e2_11eb_98fe_0242ac1c0002row45_col6,#T_421efae2_92e2_11eb_98fe_0242ac1c0002row46_col6,#T_421efae2_92e2_11eb_98fe_0242ac1c0002row47_col6,#T_421efae2_92e2_11eb_98fe_0242ac1c0002row48_col6,#T_421efae2_92e2_11eb_98fe_0242ac1c0002row49_col6{\n            background-color: green;\n        }</style><table id=\"T_421efae2_92e2_11eb_98fe_0242ac1c0002\" ><thead>    <tr>        <th class=\"blank level0\" ></th>        <th class=\"col_heading level0 col0\" >Country_Region</th>        <th class=\"col_heading level0 col1\" >Last_Update</th>        <th class=\"col_heading level0 col2\" >Lat</th>        <th class=\"col_heading level0 col3\" >Long_</th>        <th class=\"col_heading level0 col4\" >Confirmed</th>        <th class=\"col_heading level0 col5\" >Deaths</th>        <th class=\"col_heading level0 col6\" >Recovered</th>        <th class=\"col_heading level0 col7\" >Active</th>        <th class=\"col_heading level0 col8\" >Incident_Rate</th>        <th class=\"col_heading level0 col9\" >People_Tested</th>        <th class=\"col_heading level0 col10\" >People_Hospitalized</th>        <th class=\"col_heading level0 col11\" >Mortality_Rate</th>        <th class=\"col_heading level0 col12\" >UID</th>        <th class=\"col_heading level0 col13\" >ISO3</th>    </tr></thead><tbody>\n                <tr>\n                        <th id=\"T_421efae2_92e2_11eb_98fe_0242ac1c0002level0_row0\" class=\"row_heading level0 row0\" >178</th>\n                        <td id=\"T_421efae2_92e2_11eb_98fe_0242ac1c0002row0_col0\" class=\"data row0 col0\" >US</td>\n                        <td id=\"T_421efae2_92e2_11eb_98fe_0242ac1c0002row0_col1\" class=\"data row0 col1\" >2021-04-01 11:25:22</td>\n                        <td id=\"T_421efae2_92e2_11eb_98fe_0242ac1c0002row0_col2\" class=\"data row0 col2\" >40.000000</td>\n                        <td id=\"T_421efae2_92e2_11eb_98fe_0242ac1c0002row0_col3\" class=\"data row0 col3\" >-100.000000</td>\n                        <td id=\"T_421efae2_92e2_11eb_98fe_0242ac1c0002row0_col4\" class=\"data row0 col4\" >30461066.000000</td>\n                        <td id=\"T_421efae2_92e2_11eb_98fe_0242ac1c0002row0_col5\" class=\"data row0 col5\" >552073.000000</td>\n                        <td id=\"T_421efae2_92e2_11eb_98fe_0242ac1c0002row0_col6\" class=\"data row0 col6\" >nan</td>\n                        <td id=\"T_421efae2_92e2_11eb_98fe_0242ac1c0002row0_col7\" class=\"data row0 col7\" >nan</td>\n                        <td id=\"T_421efae2_92e2_11eb_98fe_0242ac1c0002row0_col8\" class=\"data row0 col8\" >9245.579160</td>\n                        <td id=\"T_421efae2_92e2_11eb_98fe_0242ac1c0002row0_col9\" class=\"data row0 col9\" >nan</td>\n                        <td id=\"T_421efae2_92e2_11eb_98fe_0242ac1c0002row0_col10\" class=\"data row0 col10\" >nan</td>\n                        <td id=\"T_421efae2_92e2_11eb_98fe_0242ac1c0002row0_col11\" class=\"data row0 col11\" >1.812389</td>\n                        <td id=\"T_421efae2_92e2_11eb_98fe_0242ac1c0002row0_col12\" class=\"data row0 col12\" >840</td>\n                        <td id=\"T_421efae2_92e2_11eb_98fe_0242ac1c0002row0_col13\" class=\"data row0 col13\" >USA</td>\n            </tr>\n            <tr>\n                        <th id=\"T_421efae2_92e2_11eb_98fe_0242ac1c0002level0_row1\" class=\"row_heading level0 row1\" >23</th>\n                        <td id=\"T_421efae2_92e2_11eb_98fe_0242ac1c0002row1_col0\" class=\"data row1 col0\" >Brazil</td>\n                        <td id=\"T_421efae2_92e2_11eb_98fe_0242ac1c0002row1_col1\" class=\"data row1 col1\" >2021-04-01 11:25:22</td>\n                        <td id=\"T_421efae2_92e2_11eb_98fe_0242ac1c0002row1_col2\" class=\"data row1 col2\" >-14.235000</td>\n                        <td id=\"T_421efae2_92e2_11eb_98fe_0242ac1c0002row1_col3\" class=\"data row1 col3\" >-51.925300</td>\n                        <td id=\"T_421efae2_92e2_11eb_98fe_0242ac1c0002row1_col4\" class=\"data row1 col4\" >12748747.000000</td>\n                        <td id=\"T_421efae2_92e2_11eb_98fe_0242ac1c0002row1_col5\" class=\"data row1 col5\" >321515.000000</td>\n                        <td id=\"T_421efae2_92e2_11eb_98fe_0242ac1c0002row1_col6\" class=\"data row1 col6\" >11181371.000000</td>\n                        <td id=\"T_421efae2_92e2_11eb_98fe_0242ac1c0002row1_col7\" class=\"data row1 col7\" >1245861.000000</td>\n                        <td id=\"T_421efae2_92e2_11eb_98fe_0242ac1c0002row1_col8\" class=\"data row1 col8\" >5997.733556</td>\n                        <td id=\"T_421efae2_92e2_11eb_98fe_0242ac1c0002row1_col9\" class=\"data row1 col9\" >nan</td>\n                        <td id=\"T_421efae2_92e2_11eb_98fe_0242ac1c0002row1_col10\" class=\"data row1 col10\" >nan</td>\n                        <td id=\"T_421efae2_92e2_11eb_98fe_0242ac1c0002row1_col11\" class=\"data row1 col11\" >2.521934</td>\n                        <td id=\"T_421efae2_92e2_11eb_98fe_0242ac1c0002row1_col12\" class=\"data row1 col12\" >76</td>\n                        <td id=\"T_421efae2_92e2_11eb_98fe_0242ac1c0002row1_col13\" class=\"data row1 col13\" >BRA</td>\n            </tr>\n            <tr>\n                        <th id=\"T_421efae2_92e2_11eb_98fe_0242ac1c0002level0_row2\" class=\"row_heading level0 row2\" >79</th>\n                        <td id=\"T_421efae2_92e2_11eb_98fe_0242ac1c0002row2_col0\" class=\"data row2 col0\" >India</td>\n                        <td id=\"T_421efae2_92e2_11eb_98fe_0242ac1c0002row2_col1\" class=\"data row2 col1\" >2021-04-01 11:25:22</td>\n                        <td id=\"T_421efae2_92e2_11eb_98fe_0242ac1c0002row2_col2\" class=\"data row2 col2\" >20.593684</td>\n                        <td id=\"T_421efae2_92e2_11eb_98fe_0242ac1c0002row2_col3\" class=\"data row2 col3\" >78.962880</td>\n                        <td id=\"T_421efae2_92e2_11eb_98fe_0242ac1c0002row2_col4\" class=\"data row2 col4\" >12221665.000000</td>\n                        <td id=\"T_421efae2_92e2_11eb_98fe_0242ac1c0002row2_col5\" class=\"data row2 col5\" >162927.000000</td>\n                        <td id=\"T_421efae2_92e2_11eb_98fe_0242ac1c0002row2_col6\" class=\"data row2 col6\" >11474683.000000</td>\n                        <td id=\"T_421efae2_92e2_11eb_98fe_0242ac1c0002row2_col7\" class=\"data row2 col7\" >584055.000000</td>\n                        <td id=\"T_421efae2_92e2_11eb_98fe_0242ac1c0002row2_col8\" class=\"data row2 col8\" >885.625084</td>\n                        <td id=\"T_421efae2_92e2_11eb_98fe_0242ac1c0002row2_col9\" class=\"data row2 col9\" >nan</td>\n                        <td id=\"T_421efae2_92e2_11eb_98fe_0242ac1c0002row2_col10\" class=\"data row2 col10\" >nan</td>\n                        <td id=\"T_421efae2_92e2_11eb_98fe_0242ac1c0002row2_col11\" class=\"data row2 col11\" >1.333100</td>\n                        <td id=\"T_421efae2_92e2_11eb_98fe_0242ac1c0002row2_col12\" class=\"data row2 col12\" >356</td>\n                        <td id=\"T_421efae2_92e2_11eb_98fe_0242ac1c0002row2_col13\" class=\"data row2 col13\" >IND</td>\n            </tr>\n            <tr>\n                        <th id=\"T_421efae2_92e2_11eb_98fe_0242ac1c0002level0_row3\" class=\"row_heading level0 row3\" >62</th>\n                        <td id=\"T_421efae2_92e2_11eb_98fe_0242ac1c0002row3_col0\" class=\"data row3 col0\" >France</td>\n                        <td id=\"T_421efae2_92e2_11eb_98fe_0242ac1c0002row3_col1\" class=\"data row3 col1\" >2021-04-01 11:25:22</td>\n                        <td id=\"T_421efae2_92e2_11eb_98fe_0242ac1c0002row3_col2\" class=\"data row3 col2\" >46.227600</td>\n                        <td id=\"T_421efae2_92e2_11eb_98fe_0242ac1c0002row3_col3\" class=\"data row3 col3\" >2.213700</td>\n                        <td id=\"T_421efae2_92e2_11eb_98fe_0242ac1c0002row3_col4\" class=\"data row3 col4\" >4705074.000000</td>\n                        <td id=\"T_421efae2_92e2_11eb_98fe_0242ac1c0002row3_col5\" class=\"data row3 col5\" >95798.000000</td>\n                        <td id=\"T_421efae2_92e2_11eb_98fe_0242ac1c0002row3_col6\" class=\"data row3 col6\" >301467.000000</td>\n                        <td id=\"T_421efae2_92e2_11eb_98fe_0242ac1c0002row3_col7\" class=\"data row3 col7\" >4307809.000000</td>\n                        <td id=\"T_421efae2_92e2_11eb_98fe_0242ac1c0002row3_col8\" class=\"data row3 col8\" >7208.243981</td>\n                        <td id=\"T_421efae2_92e2_11eb_98fe_0242ac1c0002row3_col9\" class=\"data row3 col9\" >nan</td>\n                        <td id=\"T_421efae2_92e2_11eb_98fe_0242ac1c0002row3_col10\" class=\"data row3 col10\" >nan</td>\n                        <td id=\"T_421efae2_92e2_11eb_98fe_0242ac1c0002row3_col11\" class=\"data row3 col11\" >2.036057</td>\n                        <td id=\"T_421efae2_92e2_11eb_98fe_0242ac1c0002row3_col12\" class=\"data row3 col12\" >250</td>\n                        <td id=\"T_421efae2_92e2_11eb_98fe_0242ac1c0002row3_col13\" class=\"data row3 col13\" >FRA</td>\n            </tr>\n            <tr>\n                        <th id=\"T_421efae2_92e2_11eb_98fe_0242ac1c0002level0_row4\" class=\"row_heading level0 row4\" >142</th>\n                        <td id=\"T_421efae2_92e2_11eb_98fe_0242ac1c0002row4_col0\" class=\"data row4 col0\" >Russia</td>\n                        <td id=\"T_421efae2_92e2_11eb_98fe_0242ac1c0002row4_col1\" class=\"data row4 col1\" >2021-04-01 11:25:22</td>\n                        <td id=\"T_421efae2_92e2_11eb_98fe_0242ac1c0002row4_col2\" class=\"data row4 col2\" >61.524000</td>\n                        <td id=\"T_421efae2_92e2_11eb_98fe_0242ac1c0002row4_col3\" class=\"data row4 col3\" >105.318800</td>\n                        <td id=\"T_421efae2_92e2_11eb_98fe_0242ac1c0002row4_col4\" class=\"data row4 col4\" >4503291.000000</td>\n                        <td id=\"T_421efae2_92e2_11eb_98fe_0242ac1c0002row4_col5\" class=\"data row4 col5\" >97594.000000</td>\n                        <td id=\"T_421efae2_92e2_11eb_98fe_0242ac1c0002row4_col6\" class=\"data row4 col6\" >4128769.000000</td>\n                        <td id=\"T_421efae2_92e2_11eb_98fe_0242ac1c0002row4_col7\" class=\"data row4 col7\" >276928.000000</td>\n                        <td id=\"T_421efae2_92e2_11eb_98fe_0242ac1c0002row4_col8\" class=\"data row4 col8\" >3085.831133</td>\n                        <td id=\"T_421efae2_92e2_11eb_98fe_0242ac1c0002row4_col9\" class=\"data row4 col9\" >nan</td>\n                        <td id=\"T_421efae2_92e2_11eb_98fe_0242ac1c0002row4_col10\" class=\"data row4 col10\" >nan</td>\n                        <td id=\"T_421efae2_92e2_11eb_98fe_0242ac1c0002row4_col11\" class=\"data row4 col11\" >2.167171</td>\n                        <td id=\"T_421efae2_92e2_11eb_98fe_0242ac1c0002row4_col12\" class=\"data row4 col12\" >643</td>\n                        <td id=\"T_421efae2_92e2_11eb_98fe_0242ac1c0002row4_col13\" class=\"data row4 col13\" >RUS</td>\n            </tr>\n            <tr>\n                        <th id=\"T_421efae2_92e2_11eb_98fe_0242ac1c0002level0_row5\" class=\"row_heading level0 row5\" >182</th>\n                        <td id=\"T_421efae2_92e2_11eb_98fe_0242ac1c0002row5_col0\" class=\"data row5 col0\" >United Kingdom</td>\n                        <td id=\"T_421efae2_92e2_11eb_98fe_0242ac1c0002row5_col1\" class=\"data row5 col1\" >2021-04-01 11:25:22</td>\n                        <td id=\"T_421efae2_92e2_11eb_98fe_0242ac1c0002row5_col2\" class=\"data row5 col2\" >55.000000</td>\n                        <td id=\"T_421efae2_92e2_11eb_98fe_0242ac1c0002row5_col3\" class=\"data row5 col3\" >-3.000000</td>\n                        <td id=\"T_421efae2_92e2_11eb_98fe_0242ac1c0002row5_col4\" class=\"data row5 col4\" >4359984.000000</td>\n                        <td id=\"T_421efae2_92e2_11eb_98fe_0242ac1c0002row5_col5\" class=\"data row5 col5\" >126955.000000</td>\n                        <td id=\"T_421efae2_92e2_11eb_98fe_0242ac1c0002row5_col6\" class=\"data row5 col6\" >13074.000000</td>\n                        <td id=\"T_421efae2_92e2_11eb_98fe_0242ac1c0002row5_col7\" class=\"data row5 col7\" >4219955.000000</td>\n                        <td id=\"T_421efae2_92e2_11eb_98fe_0242ac1c0002row5_col8\" class=\"data row5 col8\" >6422.507944</td>\n                        <td id=\"T_421efae2_92e2_11eb_98fe_0242ac1c0002row5_col9\" class=\"data row5 col9\" >nan</td>\n                        <td id=\"T_421efae2_92e2_11eb_98fe_0242ac1c0002row5_col10\" class=\"data row5 col10\" >nan</td>\n                        <td id=\"T_421efae2_92e2_11eb_98fe_0242ac1c0002row5_col11\" class=\"data row5 col11\" >2.911823</td>\n                        <td id=\"T_421efae2_92e2_11eb_98fe_0242ac1c0002row5_col12\" class=\"data row5 col12\" >826</td>\n                        <td id=\"T_421efae2_92e2_11eb_98fe_0242ac1c0002row5_col13\" class=\"data row5 col13\" >GBR</td>\n            </tr>\n            <tr>\n                        <th id=\"T_421efae2_92e2_11eb_98fe_0242ac1c0002level0_row6\" class=\"row_heading level0 row6\" >85</th>\n                        <td id=\"T_421efae2_92e2_11eb_98fe_0242ac1c0002row6_col0\" class=\"data row6 col0\" >Italy</td>\n                        <td id=\"T_421efae2_92e2_11eb_98fe_0242ac1c0002row6_col1\" class=\"data row6 col1\" >2021-04-01 11:25:22</td>\n                        <td id=\"T_421efae2_92e2_11eb_98fe_0242ac1c0002row6_col2\" class=\"data row6 col2\" >41.871900</td>\n                        <td id=\"T_421efae2_92e2_11eb_98fe_0242ac1c0002row6_col3\" class=\"data row6 col3\" >12.567400</td>\n                        <td id=\"T_421efae2_92e2_11eb_98fe_0242ac1c0002row6_col4\" class=\"data row6 col4\" >3584899.000000</td>\n                        <td id=\"T_421efae2_92e2_11eb_98fe_0242ac1c0002row6_col5\" class=\"data row6 col5\" >109346.000000</td>\n                        <td id=\"T_421efae2_92e2_11eb_98fe_0242ac1c0002row6_col6\" class=\"data row6 col6\" >2913045.000000</td>\n                        <td id=\"T_421efae2_92e2_11eb_98fe_0242ac1c0002row6_col7\" class=\"data row6 col7\" >562508.000000</td>\n                        <td id=\"T_421efae2_92e2_11eb_98fe_0242ac1c0002row6_col8\" class=\"data row6 col8\" >5929.193871</td>\n                        <td id=\"T_421efae2_92e2_11eb_98fe_0242ac1c0002row6_col9\" class=\"data row6 col9\" >nan</td>\n                        <td id=\"T_421efae2_92e2_11eb_98fe_0242ac1c0002row6_col10\" class=\"data row6 col10\" >nan</td>\n                        <td id=\"T_421efae2_92e2_11eb_98fe_0242ac1c0002row6_col11\" class=\"data row6 col11\" >3.050184</td>\n                        <td id=\"T_421efae2_92e2_11eb_98fe_0242ac1c0002row6_col12\" class=\"data row6 col12\" >380</td>\n                        <td id=\"T_421efae2_92e2_11eb_98fe_0242ac1c0002row6_col13\" class=\"data row6 col13\" >ITA</td>\n            </tr>\n            <tr>\n                        <th id=\"T_421efae2_92e2_11eb_98fe_0242ac1c0002level0_row7\" class=\"row_heading level0 row7\" >177</th>\n                        <td id=\"T_421efae2_92e2_11eb_98fe_0242ac1c0002row7_col0\" class=\"data row7 col0\" >Turkey</td>\n                        <td id=\"T_421efae2_92e2_11eb_98fe_0242ac1c0002row7_col1\" class=\"data row7 col1\" >2021-04-01 11:25:22</td>\n                        <td id=\"T_421efae2_92e2_11eb_98fe_0242ac1c0002row7_col2\" class=\"data row7 col2\" >38.963700</td>\n                        <td id=\"T_421efae2_92e2_11eb_98fe_0242ac1c0002row7_col3\" class=\"data row7 col3\" >35.243300</td>\n                        <td id=\"T_421efae2_92e2_11eb_98fe_0242ac1c0002row7_col4\" class=\"data row7 col4\" >3317182.000000</td>\n                        <td id=\"T_421efae2_92e2_11eb_98fe_0242ac1c0002row7_col5\" class=\"data row7 col5\" >31537.000000</td>\n                        <td id=\"T_421efae2_92e2_11eb_98fe_0242ac1c0002row7_col6\" class=\"data row7 col6\" >3014226.000000</td>\n                        <td id=\"T_421efae2_92e2_11eb_98fe_0242ac1c0002row7_col7\" class=\"data row7 col7\" >271419.000000</td>\n                        <td id=\"T_421efae2_92e2_11eb_98fe_0242ac1c0002row7_col8\" class=\"data row7 col8\" >3933.149984</td>\n                        <td id=\"T_421efae2_92e2_11eb_98fe_0242ac1c0002row7_col9\" class=\"data row7 col9\" >nan</td>\n                        <td id=\"T_421efae2_92e2_11eb_98fe_0242ac1c0002row7_col10\" class=\"data row7 col10\" >nan</td>\n                        <td id=\"T_421efae2_92e2_11eb_98fe_0242ac1c0002row7_col11\" class=\"data row7 col11\" >0.950717</td>\n                        <td id=\"T_421efae2_92e2_11eb_98fe_0242ac1c0002row7_col12\" class=\"data row7 col12\" >792</td>\n                        <td id=\"T_421efae2_92e2_11eb_98fe_0242ac1c0002row7_col13\" class=\"data row7 col13\" >TUR</td>\n            </tr>\n            <tr>\n                        <th id=\"T_421efae2_92e2_11eb_98fe_0242ac1c0002level0_row8\" class=\"row_heading level0 row8\" >162</th>\n                        <td id=\"T_421efae2_92e2_11eb_98fe_0242ac1c0002row8_col0\" class=\"data row8 col0\" >Spain</td>\n                        <td id=\"T_421efae2_92e2_11eb_98fe_0242ac1c0002row8_col1\" class=\"data row8 col1\" >2021-04-01 11:25:22</td>\n                        <td id=\"T_421efae2_92e2_11eb_98fe_0242ac1c0002row8_col2\" class=\"data row8 col2\" >40.463667</td>\n                        <td id=\"T_421efae2_92e2_11eb_98fe_0242ac1c0002row8_col3\" class=\"data row8 col3\" >-3.749220</td>\n                        <td id=\"T_421efae2_92e2_11eb_98fe_0242ac1c0002row8_col4\" class=\"data row8 col4\" >3284353.000000</td>\n                        <td id=\"T_421efae2_92e2_11eb_98fe_0242ac1c0002row8_col5\" class=\"data row8 col5\" >75459.000000</td>\n                        <td id=\"T_421efae2_92e2_11eb_98fe_0242ac1c0002row8_col6\" class=\"data row8 col6\" >150376.000000</td>\n                        <td id=\"T_421efae2_92e2_11eb_98fe_0242ac1c0002row8_col7\" class=\"data row8 col7\" >3058518.000000</td>\n                        <td id=\"T_421efae2_92e2_11eb_98fe_0242ac1c0002row8_col8\" class=\"data row8 col8\" >7024.635319</td>\n                        <td id=\"T_421efae2_92e2_11eb_98fe_0242ac1c0002row8_col9\" class=\"data row8 col9\" >nan</td>\n                        <td id=\"T_421efae2_92e2_11eb_98fe_0242ac1c0002row8_col10\" class=\"data row8 col10\" >nan</td>\n                        <td id=\"T_421efae2_92e2_11eb_98fe_0242ac1c0002row8_col11\" class=\"data row8 col11\" >2.297530</td>\n                        <td id=\"T_421efae2_92e2_11eb_98fe_0242ac1c0002row8_col12\" class=\"data row8 col12\" >724</td>\n                        <td id=\"T_421efae2_92e2_11eb_98fe_0242ac1c0002row8_col13\" class=\"data row8 col13\" >ESP</td>\n            </tr>\n            <tr>\n                        <th id=\"T_421efae2_92e2_11eb_98fe_0242ac1c0002level0_row9\" class=\"row_heading level0 row9\" >66</th>\n                        <td id=\"T_421efae2_92e2_11eb_98fe_0242ac1c0002row9_col0\" class=\"data row9 col0\" >Germany</td>\n                        <td id=\"T_421efae2_92e2_11eb_98fe_0242ac1c0002row9_col1\" class=\"data row9 col1\" >2021-04-01 11:25:22</td>\n                        <td id=\"T_421efae2_92e2_11eb_98fe_0242ac1c0002row9_col2\" class=\"data row9 col2\" >51.165691</td>\n                        <td id=\"T_421efae2_92e2_11eb_98fe_0242ac1c0002row9_col3\" class=\"data row9 col3\" >10.451526</td>\n                        <td id=\"T_421efae2_92e2_11eb_98fe_0242ac1c0002row9_col4\" class=\"data row9 col4\" >2843644.000000</td>\n                        <td id=\"T_421efae2_92e2_11eb_98fe_0242ac1c0002row9_col5\" class=\"data row9 col5\" >76589.000000</td>\n                        <td id=\"T_421efae2_92e2_11eb_98fe_0242ac1c0002row9_col6\" class=\"data row9 col6\" >2539690.000000</td>\n                        <td id=\"T_421efae2_92e2_11eb_98fe_0242ac1c0002row9_col7\" class=\"data row9 col7\" >227365.000000</td>\n                        <td id=\"T_421efae2_92e2_11eb_98fe_0242ac1c0002row9_col8\" class=\"data row9 col8\" >3394.020179</td>\n                        <td id=\"T_421efae2_92e2_11eb_98fe_0242ac1c0002row9_col9\" class=\"data row9 col9\" >nan</td>\n                        <td id=\"T_421efae2_92e2_11eb_98fe_0242ac1c0002row9_col10\" class=\"data row9 col10\" >nan</td>\n                        <td id=\"T_421efae2_92e2_11eb_98fe_0242ac1c0002row9_col11\" class=\"data row9 col11\" >2.693340</td>\n                        <td id=\"T_421efae2_92e2_11eb_98fe_0242ac1c0002row9_col12\" class=\"data row9 col12\" >276</td>\n                        <td id=\"T_421efae2_92e2_11eb_98fe_0242ac1c0002row9_col13\" class=\"data row9 col13\" >DEU</td>\n            </tr>\n            <tr>\n                        <th id=\"T_421efae2_92e2_11eb_98fe_0242ac1c0002level0_row10\" class=\"row_heading level0 row10\" >37</th>\n                        <td id=\"T_421efae2_92e2_11eb_98fe_0242ac1c0002row10_col0\" class=\"data row10 col0\" >Colombia</td>\n                        <td id=\"T_421efae2_92e2_11eb_98fe_0242ac1c0002row10_col1\" class=\"data row10 col1\" >2021-04-01 11:25:22</td>\n                        <td id=\"T_421efae2_92e2_11eb_98fe_0242ac1c0002row10_col2\" class=\"data row10 col2\" >4.570900</td>\n                        <td id=\"T_421efae2_92e2_11eb_98fe_0242ac1c0002row10_col3\" class=\"data row10 col3\" >-74.297300</td>\n                        <td id=\"T_421efae2_92e2_11eb_98fe_0242ac1c0002row10_col4\" class=\"data row10 col4\" >2406377.000000</td>\n                        <td id=\"T_421efae2_92e2_11eb_98fe_0242ac1c0002row10_col5\" class=\"data row10 col5\" >63422.000000</td>\n                        <td id=\"T_421efae2_92e2_11eb_98fe_0242ac1c0002row10_col6\" class=\"data row10 col6\" >2285515.000000</td>\n                        <td id=\"T_421efae2_92e2_11eb_98fe_0242ac1c0002row10_col7\" class=\"data row10 col7\" >57440.000000</td>\n                        <td id=\"T_421efae2_92e2_11eb_98fe_0242ac1c0002row10_col8\" class=\"data row10 col8\" >4729.246479</td>\n                        <td id=\"T_421efae2_92e2_11eb_98fe_0242ac1c0002row10_col9\" class=\"data row10 col9\" >nan</td>\n                        <td id=\"T_421efae2_92e2_11eb_98fe_0242ac1c0002row10_col10\" class=\"data row10 col10\" >nan</td>\n                        <td id=\"T_421efae2_92e2_11eb_98fe_0242ac1c0002row10_col11\" class=\"data row10 col11\" >2.635580</td>\n                        <td id=\"T_421efae2_92e2_11eb_98fe_0242ac1c0002row10_col12\" class=\"data row10 col12\" >170</td>\n                        <td id=\"T_421efae2_92e2_11eb_98fe_0242ac1c0002row10_col13\" class=\"data row10 col13\" >COL</td>\n            </tr>\n            <tr>\n                        <th id=\"T_421efae2_92e2_11eb_98fe_0242ac1c0002level0_row11\" class=\"row_heading level0 row11\" >138</th>\n                        <td id=\"T_421efae2_92e2_11eb_98fe_0242ac1c0002row11_col0\" class=\"data row11 col0\" >Poland</td>\n                        <td id=\"T_421efae2_92e2_11eb_98fe_0242ac1c0002row11_col1\" class=\"data row11 col1\" >2021-04-01 11:25:22</td>\n                        <td id=\"T_421efae2_92e2_11eb_98fe_0242ac1c0002row11_col2\" class=\"data row11 col2\" >51.919400</td>\n                        <td id=\"T_421efae2_92e2_11eb_98fe_0242ac1c0002row11_col3\" class=\"data row11 col3\" >19.145100</td>\n                        <td id=\"T_421efae2_92e2_11eb_98fe_0242ac1c0002row11_col4\" class=\"data row11 col4\" >2356970.000000</td>\n                        <td id=\"T_421efae2_92e2_11eb_98fe_0242ac1c0002row11_col5\" class=\"data row11 col5\" >53665.000000</td>\n                        <td id=\"T_421efae2_92e2_11eb_98fe_0242ac1c0002row11_col6\" class=\"data row11 col6\" >1882179.000000</td>\n                        <td id=\"T_421efae2_92e2_11eb_98fe_0242ac1c0002row11_col7\" class=\"data row11 col7\" >421126.000000</td>\n                        <td id=\"T_421efae2_92e2_11eb_98fe_0242ac1c0002row11_col8\" class=\"data row11 col8\" >6227.692022</td>\n                        <td id=\"T_421efae2_92e2_11eb_98fe_0242ac1c0002row11_col9\" class=\"data row11 col9\" >nan</td>\n                        <td id=\"T_421efae2_92e2_11eb_98fe_0242ac1c0002row11_col10\" class=\"data row11 col10\" >nan</td>\n                        <td id=\"T_421efae2_92e2_11eb_98fe_0242ac1c0002row11_col11\" class=\"data row11 col11\" >2.276864</td>\n                        <td id=\"T_421efae2_92e2_11eb_98fe_0242ac1c0002row11_col12\" class=\"data row11 col12\" >616</td>\n                        <td id=\"T_421efae2_92e2_11eb_98fe_0242ac1c0002row11_col13\" class=\"data row11 col13\" >POL</td>\n            </tr>\n            <tr>\n                        <th id=\"T_421efae2_92e2_11eb_98fe_0242ac1c0002level0_row12\" class=\"row_heading level0 row12\" >6</th>\n                        <td id=\"T_421efae2_92e2_11eb_98fe_0242ac1c0002row12_col0\" class=\"data row12 col0\" >Argentina</td>\n                        <td id=\"T_421efae2_92e2_11eb_98fe_0242ac1c0002row12_col1\" class=\"data row12 col1\" >2021-04-01 11:25:22</td>\n                        <td id=\"T_421efae2_92e2_11eb_98fe_0242ac1c0002row12_col2\" class=\"data row12 col2\" >-38.416100</td>\n                        <td id=\"T_421efae2_92e2_11eb_98fe_0242ac1c0002row12_col3\" class=\"data row12 col3\" >-63.616700</td>\n                        <td id=\"T_421efae2_92e2_11eb_98fe_0242ac1c0002row12_col4\" class=\"data row12 col4\" >2348821.000000</td>\n                        <td id=\"T_421efae2_92e2_11eb_98fe_0242ac1c0002row12_col5\" class=\"data row12 col5\" >55858.000000</td>\n                        <td id=\"T_421efae2_92e2_11eb_98fe_0242ac1c0002row12_col6\" class=\"data row12 col6\" >2102616.000000</td>\n                        <td id=\"T_421efae2_92e2_11eb_98fe_0242ac1c0002row12_col7\" class=\"data row12 col7\" >190347.000000</td>\n                        <td id=\"T_421efae2_92e2_11eb_98fe_0242ac1c0002row12_col8\" class=\"data row12 col8\" >5196.992188</td>\n                        <td id=\"T_421efae2_92e2_11eb_98fe_0242ac1c0002row12_col9\" class=\"data row12 col9\" >nan</td>\n                        <td id=\"T_421efae2_92e2_11eb_98fe_0242ac1c0002row12_col10\" class=\"data row12 col10\" >nan</td>\n                        <td id=\"T_421efae2_92e2_11eb_98fe_0242ac1c0002row12_col11\" class=\"data row12 col11\" >2.378129</td>\n                        <td id=\"T_421efae2_92e2_11eb_98fe_0242ac1c0002row12_col12\" class=\"data row12 col12\" >32</td>\n                        <td id=\"T_421efae2_92e2_11eb_98fe_0242ac1c0002row12_col13\" class=\"data row12 col13\" >ARG</td>\n            </tr>\n            <tr>\n                        <th id=\"T_421efae2_92e2_11eb_98fe_0242ac1c0002level0_row13\" class=\"row_heading level0 row13\" >114</th>\n                        <td id=\"T_421efae2_92e2_11eb_98fe_0242ac1c0002row13_col0\" class=\"data row13 col0\" >Mexico</td>\n                        <td id=\"T_421efae2_92e2_11eb_98fe_0242ac1c0002row13_col1\" class=\"data row13 col1\" >2021-04-01 11:25:22</td>\n                        <td id=\"T_421efae2_92e2_11eb_98fe_0242ac1c0002row13_col2\" class=\"data row13 col2\" >23.634500</td>\n                        <td id=\"T_421efae2_92e2_11eb_98fe_0242ac1c0002row13_col3\" class=\"data row13 col3\" >-102.552800</td>\n                        <td id=\"T_421efae2_92e2_11eb_98fe_0242ac1c0002row13_col4\" class=\"data row13 col4\" >2238887.000000</td>\n                        <td id=\"T_421efae2_92e2_11eb_98fe_0242ac1c0002row13_col5\" class=\"data row13 col5\" >203210.000000</td>\n                        <td id=\"T_421efae2_92e2_11eb_98fe_0242ac1c0002row13_col6\" class=\"data row13 col6\" >1765244.000000</td>\n                        <td id=\"T_421efae2_92e2_11eb_98fe_0242ac1c0002row13_col7\" class=\"data row13 col7\" >270433.000000</td>\n                        <td id=\"T_421efae2_92e2_11eb_98fe_0242ac1c0002row13_col8\" class=\"data row13 col8\" >1751.973511</td>\n                        <td id=\"T_421efae2_92e2_11eb_98fe_0242ac1c0002row13_col9\" class=\"data row13 col9\" >nan</td>\n                        <td id=\"T_421efae2_92e2_11eb_98fe_0242ac1c0002row13_col10\" class=\"data row13 col10\" >nan</td>\n                        <td id=\"T_421efae2_92e2_11eb_98fe_0242ac1c0002row13_col11\" class=\"data row13 col11\" >9.076385</td>\n                        <td id=\"T_421efae2_92e2_11eb_98fe_0242ac1c0002row13_col12\" class=\"data row13 col12\" >484</td>\n                        <td id=\"T_421efae2_92e2_11eb_98fe_0242ac1c0002row13_col13\" class=\"data row13 col13\" >MEX</td>\n            </tr>\n            <tr>\n                        <th id=\"T_421efae2_92e2_11eb_98fe_0242ac1c0002level0_row14\" class=\"row_heading level0 row14\" >81</th>\n                        <td id=\"T_421efae2_92e2_11eb_98fe_0242ac1c0002row14_col0\" class=\"data row14 col0\" >Iran</td>\n                        <td id=\"T_421efae2_92e2_11eb_98fe_0242ac1c0002row14_col1\" class=\"data row14 col1\" >2021-04-01 11:25:22</td>\n                        <td id=\"T_421efae2_92e2_11eb_98fe_0242ac1c0002row14_col2\" class=\"data row14 col2\" >32.427908</td>\n                        <td id=\"T_421efae2_92e2_11eb_98fe_0242ac1c0002row14_col3\" class=\"data row14 col3\" >53.688046</td>\n                        <td id=\"T_421efae2_92e2_11eb_98fe_0242ac1c0002row14_col4\" class=\"data row14 col4\" >1885564.000000</td>\n                        <td id=\"T_421efae2_92e2_11eb_98fe_0242ac1c0002row14_col5\" class=\"data row14 col5\" >62759.000000</td>\n                        <td id=\"T_421efae2_92e2_11eb_98fe_0242ac1c0002row14_col6\" class=\"data row14 col6\" >1626144.000000</td>\n                        <td id=\"T_421efae2_92e2_11eb_98fe_0242ac1c0002row14_col7\" class=\"data row14 col7\" >196661.000000</td>\n                        <td id=\"T_421efae2_92e2_11eb_98fe_0242ac1c0002row14_col8\" class=\"data row14 col8\" >2244.907379</td>\n                        <td id=\"T_421efae2_92e2_11eb_98fe_0242ac1c0002row14_col9\" class=\"data row14 col9\" >nan</td>\n                        <td id=\"T_421efae2_92e2_11eb_98fe_0242ac1c0002row14_col10\" class=\"data row14 col10\" >nan</td>\n                        <td id=\"T_421efae2_92e2_11eb_98fe_0242ac1c0002row14_col11\" class=\"data row14 col11\" >3.328394</td>\n                        <td id=\"T_421efae2_92e2_11eb_98fe_0242ac1c0002row14_col12\" class=\"data row14 col12\" >364</td>\n                        <td id=\"T_421efae2_92e2_11eb_98fe_0242ac1c0002row14_col13\" class=\"data row14 col13\" >IRN</td>\n            </tr>\n            <tr>\n                        <th id=\"T_421efae2_92e2_11eb_98fe_0242ac1c0002level0_row15\" class=\"row_heading level0 row15\" >180</th>\n                        <td id=\"T_421efae2_92e2_11eb_98fe_0242ac1c0002row15_col0\" class=\"data row15 col0\" >Ukraine</td>\n                        <td id=\"T_421efae2_92e2_11eb_98fe_0242ac1c0002row15_col1\" class=\"data row15 col1\" >2021-04-01 11:25:22</td>\n                        <td id=\"T_421efae2_92e2_11eb_98fe_0242ac1c0002row15_col2\" class=\"data row15 col2\" >48.379400</td>\n                        <td id=\"T_421efae2_92e2_11eb_98fe_0242ac1c0002row15_col3\" class=\"data row15 col3\" >31.165600</td>\n                        <td id=\"T_421efae2_92e2_11eb_98fe_0242ac1c0002row15_col4\" class=\"data row15 col4\" >1742710.000000</td>\n                        <td id=\"T_421efae2_92e2_11eb_98fe_0242ac1c0002row15_col5\" class=\"data row15 col5\" >34885.000000</td>\n                        <td id=\"T_421efae2_92e2_11eb_98fe_0242ac1c0002row15_col6\" class=\"data row15 col6\" >1370733.000000</td>\n                        <td id=\"T_421efae2_92e2_11eb_98fe_0242ac1c0002row15_col7\" class=\"data row15 col7\" >337092.000000</td>\n                        <td id=\"T_421efae2_92e2_11eb_98fe_0242ac1c0002row15_col8\" class=\"data row15 col8\" >3984.816398</td>\n                        <td id=\"T_421efae2_92e2_11eb_98fe_0242ac1c0002row15_col9\" class=\"data row15 col9\" >nan</td>\n                        <td id=\"T_421efae2_92e2_11eb_98fe_0242ac1c0002row15_col10\" class=\"data row15 col10\" >nan</td>\n                        <td id=\"T_421efae2_92e2_11eb_98fe_0242ac1c0002row15_col11\" class=\"data row15 col11\" >2.001767</td>\n                        <td id=\"T_421efae2_92e2_11eb_98fe_0242ac1c0002row15_col12\" class=\"data row15 col12\" >804</td>\n                        <td id=\"T_421efae2_92e2_11eb_98fe_0242ac1c0002row15_col13\" class=\"data row15 col13\" >UKR</td>\n            </tr>\n            <tr>\n                        <th id=\"T_421efae2_92e2_11eb_98fe_0242ac1c0002level0_row16\" class=\"row_heading level0 row16\" >136</th>\n                        <td id=\"T_421efae2_92e2_11eb_98fe_0242ac1c0002row16_col0\" class=\"data row16 col0\" >Peru</td>\n                        <td id=\"T_421efae2_92e2_11eb_98fe_0242ac1c0002row16_col1\" class=\"data row16 col1\" >2021-04-01 11:25:22</td>\n                        <td id=\"T_421efae2_92e2_11eb_98fe_0242ac1c0002row16_col2\" class=\"data row16 col2\" >-9.190000</td>\n                        <td id=\"T_421efae2_92e2_11eb_98fe_0242ac1c0002row16_col3\" class=\"data row16 col3\" >-75.015200</td>\n                        <td id=\"T_421efae2_92e2_11eb_98fe_0242ac1c0002row16_col4\" class=\"data row16 col4\" >1548807.000000</td>\n                        <td id=\"T_421efae2_92e2_11eb_98fe_0242ac1c0002row16_col5\" class=\"data row16 col5\" >52008.000000</td>\n                        <td id=\"T_421efae2_92e2_11eb_98fe_0242ac1c0002row16_col6\" class=\"data row16 col6\" >1468457.000000</td>\n                        <td id=\"T_421efae2_92e2_11eb_98fe_0242ac1c0002row16_col7\" class=\"data row16 col7\" >28342.000000</td>\n                        <td id=\"T_421efae2_92e2_11eb_98fe_0242ac1c0002row16_col8\" class=\"data row16 col8\" >4697.362107</td>\n                        <td id=\"T_421efae2_92e2_11eb_98fe_0242ac1c0002row16_col9\" class=\"data row16 col9\" >nan</td>\n                        <td id=\"T_421efae2_92e2_11eb_98fe_0242ac1c0002row16_col10\" class=\"data row16 col10\" >nan</td>\n                        <td id=\"T_421efae2_92e2_11eb_98fe_0242ac1c0002row16_col11\" class=\"data row16 col11\" >3.357939</td>\n                        <td id=\"T_421efae2_92e2_11eb_98fe_0242ac1c0002row16_col12\" class=\"data row16 col12\" >604</td>\n                        <td id=\"T_421efae2_92e2_11eb_98fe_0242ac1c0002row16_col13\" class=\"data row16 col13\" >PER</td>\n            </tr>\n            <tr>\n                        <th id=\"T_421efae2_92e2_11eb_98fe_0242ac1c0002level0_row17\" class=\"row_heading level0 row17\" >160</th>\n                        <td id=\"T_421efae2_92e2_11eb_98fe_0242ac1c0002row17_col0\" class=\"data row17 col0\" >South Africa</td>\n                        <td id=\"T_421efae2_92e2_11eb_98fe_0242ac1c0002row17_col1\" class=\"data row17 col1\" >2021-04-01 11:25:22</td>\n                        <td id=\"T_421efae2_92e2_11eb_98fe_0242ac1c0002row17_col2\" class=\"data row17 col2\" >-30.559500</td>\n                        <td id=\"T_421efae2_92e2_11eb_98fe_0242ac1c0002row17_col3\" class=\"data row17 col3\" >22.937500</td>\n                        <td id=\"T_421efae2_92e2_11eb_98fe_0242ac1c0002row17_col4\" class=\"data row17 col4\" >1548157.000000</td>\n                        <td id=\"T_421efae2_92e2_11eb_98fe_0242ac1c0002row17_col5\" class=\"data row17 col5\" >52846.000000</td>\n                        <td id=\"T_421efae2_92e2_11eb_98fe_0242ac1c0002row17_col6\" class=\"data row17 col6\" >1474319.000000</td>\n                        <td id=\"T_421efae2_92e2_11eb_98fe_0242ac1c0002row17_col7\" class=\"data row17 col7\" >20992.000000</td>\n                        <td id=\"T_421efae2_92e2_11eb_98fe_0242ac1c0002row17_col8\" class=\"data row17 col8\" >2610.337541</td>\n                        <td id=\"T_421efae2_92e2_11eb_98fe_0242ac1c0002row17_col9\" class=\"data row17 col9\" >nan</td>\n                        <td id=\"T_421efae2_92e2_11eb_98fe_0242ac1c0002row17_col10\" class=\"data row17 col10\" >nan</td>\n                        <td id=\"T_421efae2_92e2_11eb_98fe_0242ac1c0002row17_col11\" class=\"data row17 col11\" >3.413478</td>\n                        <td id=\"T_421efae2_92e2_11eb_98fe_0242ac1c0002row17_col12\" class=\"data row17 col12\" >710</td>\n                        <td id=\"T_421efae2_92e2_11eb_98fe_0242ac1c0002row17_col13\" class=\"data row17 col13\" >ZAF</td>\n            </tr>\n            <tr>\n                        <th id=\"T_421efae2_92e2_11eb_98fe_0242ac1c0002level0_row18\" class=\"row_heading level0 row18\" >46</th>\n                        <td id=\"T_421efae2_92e2_11eb_98fe_0242ac1c0002row18_col0\" class=\"data row18 col0\" >Czechia</td>\n                        <td id=\"T_421efae2_92e2_11eb_98fe_0242ac1c0002row18_col1\" class=\"data row18 col1\" >2021-04-01 11:25:22</td>\n                        <td id=\"T_421efae2_92e2_11eb_98fe_0242ac1c0002row18_col2\" class=\"data row18 col2\" >49.817500</td>\n                        <td id=\"T_421efae2_92e2_11eb_98fe_0242ac1c0002row18_col3\" class=\"data row18 col3\" >15.473000</td>\n                        <td id=\"T_421efae2_92e2_11eb_98fe_0242ac1c0002row18_col4\" class=\"data row18 col4\" >1539617.000000</td>\n                        <td id=\"T_421efae2_92e2_11eb_98fe_0242ac1c0002row18_col5\" class=\"data row18 col5\" >26586.000000</td>\n                        <td id=\"T_421efae2_92e2_11eb_98fe_0242ac1c0002row18_col6\" class=\"data row18 col6\" >1371074.000000</td>\n                        <td id=\"T_421efae2_92e2_11eb_98fe_0242ac1c0002row18_col7\" class=\"data row18 col7\" >141957.000000</td>\n                        <td id=\"T_421efae2_92e2_11eb_98fe_0242ac1c0002row18_col8\" class=\"data row18 col8\" >14376.875412</td>\n                        <td id=\"T_421efae2_92e2_11eb_98fe_0242ac1c0002row18_col9\" class=\"data row18 col9\" >nan</td>\n                        <td id=\"T_421efae2_92e2_11eb_98fe_0242ac1c0002row18_col10\" class=\"data row18 col10\" >nan</td>\n                        <td id=\"T_421efae2_92e2_11eb_98fe_0242ac1c0002row18_col11\" class=\"data row18 col11\" >1.726793</td>\n                        <td id=\"T_421efae2_92e2_11eb_98fe_0242ac1c0002row18_col12\" class=\"data row18 col12\" >203</td>\n                        <td id=\"T_421efae2_92e2_11eb_98fe_0242ac1c0002row18_col13\" class=\"data row18 col13\" >CZE</td>\n            </tr>\n            <tr>\n                        <th id=\"T_421efae2_92e2_11eb_98fe_0242ac1c0002level0_row19\" class=\"row_heading level0 row19\" >80</th>\n                        <td id=\"T_421efae2_92e2_11eb_98fe_0242ac1c0002row19_col0\" class=\"data row19 col0\" >Indonesia</td>\n                        <td id=\"T_421efae2_92e2_11eb_98fe_0242ac1c0002row19_col1\" class=\"data row19 col1\" >2021-04-01 11:25:22</td>\n                        <td id=\"T_421efae2_92e2_11eb_98fe_0242ac1c0002row19_col2\" class=\"data row19 col2\" >-0.789300</td>\n                        <td id=\"T_421efae2_92e2_11eb_98fe_0242ac1c0002row19_col3\" class=\"data row19 col3\" >113.921300</td>\n                        <td id=\"T_421efae2_92e2_11eb_98fe_0242ac1c0002row19_col4\" class=\"data row19 col4\" >1517854.000000</td>\n                        <td id=\"T_421efae2_92e2_11eb_98fe_0242ac1c0002row19_col5\" class=\"data row19 col5\" >41054.000000</td>\n                        <td id=\"T_421efae2_92e2_11eb_98fe_0242ac1c0002row19_col6\" class=\"data row19 col6\" >1355578.000000</td>\n                        <td id=\"T_421efae2_92e2_11eb_98fe_0242ac1c0002row19_col7\" class=\"data row19 col7\" >121222.000000</td>\n                        <td id=\"T_421efae2_92e2_11eb_98fe_0242ac1c0002row19_col8\" class=\"data row19 col8\" >554.926114</td>\n                        <td id=\"T_421efae2_92e2_11eb_98fe_0242ac1c0002row19_col9\" class=\"data row19 col9\" >nan</td>\n                        <td id=\"T_421efae2_92e2_11eb_98fe_0242ac1c0002row19_col10\" class=\"data row19 col10\" >nan</td>\n                        <td id=\"T_421efae2_92e2_11eb_98fe_0242ac1c0002row19_col11\" class=\"data row19 col11\" >2.704740</td>\n                        <td id=\"T_421efae2_92e2_11eb_98fe_0242ac1c0002row19_col12\" class=\"data row19 col12\" >360</td>\n                        <td id=\"T_421efae2_92e2_11eb_98fe_0242ac1c0002row19_col13\" class=\"data row19 col13\" >IDN</td>\n            </tr>\n            <tr>\n                        <th id=\"T_421efae2_92e2_11eb_98fe_0242ac1c0002level0_row20\" class=\"row_heading level0 row20\" >124</th>\n                        <td id=\"T_421efae2_92e2_11eb_98fe_0242ac1c0002row20_col0\" class=\"data row20 col0\" >Netherlands</td>\n                        <td id=\"T_421efae2_92e2_11eb_98fe_0242ac1c0002row20_col1\" class=\"data row20 col1\" >2021-04-01 11:25:22</td>\n                        <td id=\"T_421efae2_92e2_11eb_98fe_0242ac1c0002row20_col2\" class=\"data row20 col2\" >52.316700</td>\n                        <td id=\"T_421efae2_92e2_11eb_98fe_0242ac1c0002row20_col3\" class=\"data row20 col3\" >5.550000</td>\n                        <td id=\"T_421efae2_92e2_11eb_98fe_0242ac1c0002row20_col4\" class=\"data row20 col4\" >1292806.000000</td>\n                        <td id=\"T_421efae2_92e2_11eb_98fe_0242ac1c0002row20_col5\" class=\"data row20 col5\" >16689.000000</td>\n                        <td id=\"T_421efae2_92e2_11eb_98fe_0242ac1c0002row20_col6\" class=\"data row20 col6\" >16209.000000</td>\n                        <td id=\"T_421efae2_92e2_11eb_98fe_0242ac1c0002row20_col7\" class=\"data row20 col7\" >1259908.000000</td>\n                        <td id=\"T_421efae2_92e2_11eb_98fe_0242ac1c0002row20_col8\" class=\"data row20 col8\" >7544.882299</td>\n                        <td id=\"T_421efae2_92e2_11eb_98fe_0242ac1c0002row20_col9\" class=\"data row20 col9\" >nan</td>\n                        <td id=\"T_421efae2_92e2_11eb_98fe_0242ac1c0002row20_col10\" class=\"data row20 col10\" >nan</td>\n                        <td id=\"T_421efae2_92e2_11eb_98fe_0242ac1c0002row20_col11\" class=\"data row20 col11\" >1.290913</td>\n                        <td id=\"T_421efae2_92e2_11eb_98fe_0242ac1c0002row20_col12\" class=\"data row20 col12\" >528</td>\n                        <td id=\"T_421efae2_92e2_11eb_98fe_0242ac1c0002row20_col13\" class=\"data row20 col13\" >NLD</td>\n            </tr>\n            <tr>\n                        <th id=\"T_421efae2_92e2_11eb_98fe_0242ac1c0002level0_row21\" class=\"row_heading level0 row21\" >35</th>\n                        <td id=\"T_421efae2_92e2_11eb_98fe_0242ac1c0002row21_col0\" class=\"data row21 col0\" >Chile</td>\n                        <td id=\"T_421efae2_92e2_11eb_98fe_0242ac1c0002row21_col1\" class=\"data row21 col1\" >2021-04-01 11:25:22</td>\n                        <td id=\"T_421efae2_92e2_11eb_98fe_0242ac1c0002row21_col2\" class=\"data row21 col2\" >-35.675100</td>\n                        <td id=\"T_421efae2_92e2_11eb_98fe_0242ac1c0002row21_col3\" class=\"data row21 col3\" >-71.543000</td>\n                        <td id=\"T_421efae2_92e2_11eb_98fe_0242ac1c0002row21_col4\" class=\"data row21 col4\" >995538.000000</td>\n                        <td id=\"T_421efae2_92e2_11eb_98fe_0242ac1c0002row21_col5\" class=\"data row21 col5\" >23135.000000</td>\n                        <td id=\"T_421efae2_92e2_11eb_98fe_0242ac1c0002row21_col6\" class=\"data row21 col6\" >931270.000000</td>\n                        <td id=\"T_421efae2_92e2_11eb_98fe_0242ac1c0002row21_col7\" class=\"data row21 col7\" >41133.000000</td>\n                        <td id=\"T_421efae2_92e2_11eb_98fe_0242ac1c0002row21_col8\" class=\"data row21 col8\" >5207.821279</td>\n                        <td id=\"T_421efae2_92e2_11eb_98fe_0242ac1c0002row21_col9\" class=\"data row21 col9\" >nan</td>\n                        <td id=\"T_421efae2_92e2_11eb_98fe_0242ac1c0002row21_col10\" class=\"data row21 col10\" >nan</td>\n                        <td id=\"T_421efae2_92e2_11eb_98fe_0242ac1c0002row21_col11\" class=\"data row21 col11\" >2.323869</td>\n                        <td id=\"T_421efae2_92e2_11eb_98fe_0242ac1c0002row21_col12\" class=\"data row21 col12\" >152</td>\n                        <td id=\"T_421efae2_92e2_11eb_98fe_0242ac1c0002row21_col13\" class=\"data row21 col13\" >CHL</td>\n            </tr>\n            <tr>\n                        <th id=\"T_421efae2_92e2_11eb_98fe_0242ac1c0002level0_row22\" class=\"row_heading level0 row22\" >32</th>\n                        <td id=\"T_421efae2_92e2_11eb_98fe_0242ac1c0002row22_col0\" class=\"data row22 col0\" >Canada</td>\n                        <td id=\"T_421efae2_92e2_11eb_98fe_0242ac1c0002row22_col1\" class=\"data row22 col1\" >2021-04-01 11:25:22</td>\n                        <td id=\"T_421efae2_92e2_11eb_98fe_0242ac1c0002row22_col2\" class=\"data row22 col2\" >60.001000</td>\n                        <td id=\"T_421efae2_92e2_11eb_98fe_0242ac1c0002row22_col3\" class=\"data row22 col3\" >-95.001000</td>\n                        <td id=\"T_421efae2_92e2_11eb_98fe_0242ac1c0002row22_col4\" class=\"data row22 col4\" >988808.000000</td>\n                        <td id=\"T_421efae2_92e2_11eb_98fe_0242ac1c0002row22_col5\" class=\"data row22 col5\" >22960.000000</td>\n                        <td id=\"T_421efae2_92e2_11eb_98fe_0242ac1c0002row22_col6\" class=\"data row22 col6\" >918581.000000</td>\n                        <td id=\"T_421efae2_92e2_11eb_98fe_0242ac1c0002row22_col7\" class=\"data row22 col7\" >47267.000000</td>\n                        <td id=\"T_421efae2_92e2_11eb_98fe_0242ac1c0002row22_col8\" class=\"data row22 col8\" >2612.045076</td>\n                        <td id=\"T_421efae2_92e2_11eb_98fe_0242ac1c0002row22_col9\" class=\"data row22 col9\" >nan</td>\n                        <td id=\"T_421efae2_92e2_11eb_98fe_0242ac1c0002row22_col10\" class=\"data row22 col10\" >nan</td>\n                        <td id=\"T_421efae2_92e2_11eb_98fe_0242ac1c0002row22_col11\" class=\"data row22 col11\" >2.321988</td>\n                        <td id=\"T_421efae2_92e2_11eb_98fe_0242ac1c0002row22_col12\" class=\"data row22 col12\" >124</td>\n                        <td id=\"T_421efae2_92e2_11eb_98fe_0242ac1c0002row22_col13\" class=\"data row22 col13\" >CAN</td>\n            </tr>\n            <tr>\n                        <th id=\"T_421efae2_92e2_11eb_98fe_0242ac1c0002level0_row23\" class=\"row_heading level0 row23\" >141</th>\n                        <td id=\"T_421efae2_92e2_11eb_98fe_0242ac1c0002row23_col0\" class=\"data row23 col0\" >Romania</td>\n                        <td id=\"T_421efae2_92e2_11eb_98fe_0242ac1c0002row23_col1\" class=\"data row23 col1\" >2021-04-01 11:25:22</td>\n                        <td id=\"T_421efae2_92e2_11eb_98fe_0242ac1c0002row23_col2\" class=\"data row23 col2\" >45.943200</td>\n                        <td id=\"T_421efae2_92e2_11eb_98fe_0242ac1c0002row23_col3\" class=\"data row23 col3\" >24.966800</td>\n                        <td id=\"T_421efae2_92e2_11eb_98fe_0242ac1c0002row23_col4\" class=\"data row23 col4\" >958918.000000</td>\n                        <td id=\"T_421efae2_92e2_11eb_98fe_0242ac1c0002row23_col5\" class=\"data row23 col5\" >23674.000000</td>\n                        <td id=\"T_421efae2_92e2_11eb_98fe_0242ac1c0002row23_col6\" class=\"data row23 col6\" >856405.000000</td>\n                        <td id=\"T_421efae2_92e2_11eb_98fe_0242ac1c0002row23_col7\" class=\"data row23 col7\" >78839.000000</td>\n                        <td id=\"T_421efae2_92e2_11eb_98fe_0242ac1c0002row23_col8\" class=\"data row23 col8\" >4984.581822</td>\n                        <td id=\"T_421efae2_92e2_11eb_98fe_0242ac1c0002row23_col9\" class=\"data row23 col9\" >nan</td>\n                        <td id=\"T_421efae2_92e2_11eb_98fe_0242ac1c0002row23_col10\" class=\"data row23 col10\" >nan</td>\n                        <td id=\"T_421efae2_92e2_11eb_98fe_0242ac1c0002row23_col11\" class=\"data row23 col11\" >2.468824</td>\n                        <td id=\"T_421efae2_92e2_11eb_98fe_0242ac1c0002row23_col12\" class=\"data row23 col12\" >642</td>\n                        <td id=\"T_421efae2_92e2_11eb_98fe_0242ac1c0002row23_col13\" class=\"data row23 col13\" >ROU</td>\n            </tr>\n            <tr>\n                        <th id=\"T_421efae2_92e2_11eb_98fe_0242ac1c0002level0_row24\" class=\"row_heading level0 row24\" >16</th>\n                        <td id=\"T_421efae2_92e2_11eb_98fe_0242ac1c0002row24_col0\" class=\"data row24 col0\" >Belgium</td>\n                        <td id=\"T_421efae2_92e2_11eb_98fe_0242ac1c0002row24_col1\" class=\"data row24 col1\" >2021-04-01 11:25:22</td>\n                        <td id=\"T_421efae2_92e2_11eb_98fe_0242ac1c0002row24_col2\" class=\"data row24 col2\" >50.833300</td>\n                        <td id=\"T_421efae2_92e2_11eb_98fe_0242ac1c0002row24_col3\" class=\"data row24 col3\" >4.469936</td>\n                        <td id=\"T_421efae2_92e2_11eb_98fe_0242ac1c0002row24_col4\" class=\"data row24 col4\" >882453.000000</td>\n                        <td id=\"T_421efae2_92e2_11eb_98fe_0242ac1c0002row24_col5\" class=\"data row24 col5\" >23016.000000</td>\n                        <td id=\"T_421efae2_92e2_11eb_98fe_0242ac1c0002row24_col6\" class=\"data row24 col6\" >nan</td>\n                        <td id=\"T_421efae2_92e2_11eb_98fe_0242ac1c0002row24_col7\" class=\"data row24 col7\" >859437.000000</td>\n                        <td id=\"T_421efae2_92e2_11eb_98fe_0242ac1c0002row24_col8\" class=\"data row24 col8\" >7614.169443</td>\n                        <td id=\"T_421efae2_92e2_11eb_98fe_0242ac1c0002row24_col9\" class=\"data row24 col9\" >nan</td>\n                        <td id=\"T_421efae2_92e2_11eb_98fe_0242ac1c0002row24_col10\" class=\"data row24 col10\" >nan</td>\n                        <td id=\"T_421efae2_92e2_11eb_98fe_0242ac1c0002row24_col11\" class=\"data row24 col11\" >2.608184</td>\n                        <td id=\"T_421efae2_92e2_11eb_98fe_0242ac1c0002row24_col12\" class=\"data row24 col12\" >56</td>\n                        <td id=\"T_421efae2_92e2_11eb_98fe_0242ac1c0002row24_col13\" class=\"data row24 col13\" >BEL</td>\n            </tr>\n            <tr>\n                        <th id=\"T_421efae2_92e2_11eb_98fe_0242ac1c0002level0_row25\" class=\"row_heading level0 row25\" >82</th>\n                        <td id=\"T_421efae2_92e2_11eb_98fe_0242ac1c0002row25_col0\" class=\"data row25 col0\" >Iraq</td>\n                        <td id=\"T_421efae2_92e2_11eb_98fe_0242ac1c0002row25_col1\" class=\"data row25 col1\" >2021-04-01 11:25:22</td>\n                        <td id=\"T_421efae2_92e2_11eb_98fe_0242ac1c0002row25_col2\" class=\"data row25 col2\" >33.223191</td>\n                        <td id=\"T_421efae2_92e2_11eb_98fe_0242ac1c0002row25_col3\" class=\"data row25 col3\" >43.679291</td>\n                        <td id=\"T_421efae2_92e2_11eb_98fe_0242ac1c0002row25_col4\" class=\"data row25 col4\" >850924.000000</td>\n                        <td id=\"T_421efae2_92e2_11eb_98fe_0242ac1c0002row25_col5\" class=\"data row25 col5\" >14323.000000</td>\n                        <td id=\"T_421efae2_92e2_11eb_98fe_0242ac1c0002row25_col6\" class=\"data row25 col6\" >759560.000000</td>\n                        <td id=\"T_421efae2_92e2_11eb_98fe_0242ac1c0002row25_col7\" class=\"data row25 col7\" >77041.000000</td>\n                        <td id=\"T_421efae2_92e2_11eb_98fe_0242ac1c0002row25_col8\" class=\"data row25 col8\" >2115.542138</td>\n                        <td id=\"T_421efae2_92e2_11eb_98fe_0242ac1c0002row25_col9\" class=\"data row25 col9\" >nan</td>\n                        <td id=\"T_421efae2_92e2_11eb_98fe_0242ac1c0002row25_col10\" class=\"data row25 col10\" >nan</td>\n                        <td id=\"T_421efae2_92e2_11eb_98fe_0242ac1c0002row25_col11\" class=\"data row25 col11\" >1.683229</td>\n                        <td id=\"T_421efae2_92e2_11eb_98fe_0242ac1c0002row25_col12\" class=\"data row25 col12\" >368</td>\n                        <td id=\"T_421efae2_92e2_11eb_98fe_0242ac1c0002row25_col13\" class=\"data row25 col13\" >IRQ</td>\n            </tr>\n            <tr>\n                        <th id=\"T_421efae2_92e2_11eb_98fe_0242ac1c0002level0_row26\" class=\"row_heading level0 row26\" >84</th>\n                        <td id=\"T_421efae2_92e2_11eb_98fe_0242ac1c0002row26_col0\" class=\"data row26 col0\" >Israel</td>\n                        <td id=\"T_421efae2_92e2_11eb_98fe_0242ac1c0002row26_col1\" class=\"data row26 col1\" >2021-04-01 11:25:22</td>\n                        <td id=\"T_421efae2_92e2_11eb_98fe_0242ac1c0002row26_col2\" class=\"data row26 col2\" >31.046051</td>\n                        <td id=\"T_421efae2_92e2_11eb_98fe_0242ac1c0002row26_col3\" class=\"data row26 col3\" >34.851612</td>\n                        <td id=\"T_421efae2_92e2_11eb_98fe_0242ac1c0002row26_col4\" class=\"data row26 col4\" >833281.000000</td>\n                        <td id=\"T_421efae2_92e2_11eb_98fe_0242ac1c0002row26_col5\" class=\"data row26 col5\" >6214.000000</td>\n                        <td id=\"T_421efae2_92e2_11eb_98fe_0242ac1c0002row26_col6\" class=\"data row26 col6\" >819867.000000</td>\n                        <td id=\"T_421efae2_92e2_11eb_98fe_0242ac1c0002row26_col7\" class=\"data row26 col7\" >7200.000000</td>\n                        <td id=\"T_421efae2_92e2_11eb_98fe_0242ac1c0002row26_col8\" class=\"data row26 col8\" >9627.139424</td>\n                        <td id=\"T_421efae2_92e2_11eb_98fe_0242ac1c0002row26_col9\" class=\"data row26 col9\" >nan</td>\n                        <td id=\"T_421efae2_92e2_11eb_98fe_0242ac1c0002row26_col10\" class=\"data row26 col10\" >nan</td>\n                        <td id=\"T_421efae2_92e2_11eb_98fe_0242ac1c0002row26_col11\" class=\"data row26 col11\" >0.745727</td>\n                        <td id=\"T_421efae2_92e2_11eb_98fe_0242ac1c0002row26_col12\" class=\"data row26 col12\" >376</td>\n                        <td id=\"T_421efae2_92e2_11eb_98fe_0242ac1c0002row26_col13\" class=\"data row26 col13\" >ISR</td>\n            </tr>\n            <tr>\n                        <th id=\"T_421efae2_92e2_11eb_98fe_0242ac1c0002level0_row27\" class=\"row_heading level0 row27\" >139</th>\n                        <td id=\"T_421efae2_92e2_11eb_98fe_0242ac1c0002row27_col0\" class=\"data row27 col0\" >Portugal</td>\n                        <td id=\"T_421efae2_92e2_11eb_98fe_0242ac1c0002row27_col1\" class=\"data row27 col1\" >2021-04-01 11:25:22</td>\n                        <td id=\"T_421efae2_92e2_11eb_98fe_0242ac1c0002row27_col2\" class=\"data row27 col2\" >39.399900</td>\n                        <td id=\"T_421efae2_92e2_11eb_98fe_0242ac1c0002row27_col3\" class=\"data row27 col3\" >-8.224500</td>\n                        <td id=\"T_421efae2_92e2_11eb_98fe_0242ac1c0002row27_col4\" class=\"data row27 col4\" >821722.000000</td>\n                        <td id=\"T_421efae2_92e2_11eb_98fe_0242ac1c0002row27_col5\" class=\"data row27 col5\" >16848.000000</td>\n                        <td id=\"T_421efae2_92e2_11eb_98fe_0242ac1c0002row27_col6\" class=\"data row27 col6\" >778210.000000</td>\n                        <td id=\"T_421efae2_92e2_11eb_98fe_0242ac1c0002row27_col7\" class=\"data row27 col7\" >26664.000000</td>\n                        <td id=\"T_421efae2_92e2_11eb_98fe_0242ac1c0002row27_col8\" class=\"data row27 col8\" >8058.699735</td>\n                        <td id=\"T_421efae2_92e2_11eb_98fe_0242ac1c0002row27_col9\" class=\"data row27 col9\" >nan</td>\n                        <td id=\"T_421efae2_92e2_11eb_98fe_0242ac1c0002row27_col10\" class=\"data row27 col10\" >nan</td>\n                        <td id=\"T_421efae2_92e2_11eb_98fe_0242ac1c0002row27_col11\" class=\"data row27 col11\" >2.050328</td>\n                        <td id=\"T_421efae2_92e2_11eb_98fe_0242ac1c0002row27_col12\" class=\"data row27 col12\" >620</td>\n                        <td id=\"T_421efae2_92e2_11eb_98fe_0242ac1c0002row27_col13\" class=\"data row27 col13\" >PRT</td>\n            </tr>\n            <tr>\n                        <th id=\"T_421efae2_92e2_11eb_98fe_0242ac1c0002level0_row28\" class=\"row_heading level0 row28\" >166</th>\n                        <td id=\"T_421efae2_92e2_11eb_98fe_0242ac1c0002row28_col0\" class=\"data row28 col0\" >Sweden</td>\n                        <td id=\"T_421efae2_92e2_11eb_98fe_0242ac1c0002row28_col1\" class=\"data row28 col1\" >2021-04-01 11:25:22</td>\n                        <td id=\"T_421efae2_92e2_11eb_98fe_0242ac1c0002row28_col2\" class=\"data row28 col2\" >60.128200</td>\n                        <td id=\"T_421efae2_92e2_11eb_98fe_0242ac1c0002row28_col3\" class=\"data row28 col3\" >18.643500</td>\n                        <td id=\"T_421efae2_92e2_11eb_98fe_0242ac1c0002row28_col4\" class=\"data row28 col4\" >804886.000000</td>\n                        <td id=\"T_421efae2_92e2_11eb_98fe_0242ac1c0002row28_col5\" class=\"data row28 col5\" >13465.000000</td>\n                        <td id=\"T_421efae2_92e2_11eb_98fe_0242ac1c0002row28_col6\" class=\"data row28 col6\" >nan</td>\n                        <td id=\"T_421efae2_92e2_11eb_98fe_0242ac1c0002row28_col7\" class=\"data row28 col7\" >791421.000000</td>\n                        <td id=\"T_421efae2_92e2_11eb_98fe_0242ac1c0002row28_col8\" class=\"data row28 col8\" >7969.744348</td>\n                        <td id=\"T_421efae2_92e2_11eb_98fe_0242ac1c0002row28_col9\" class=\"data row28 col9\" >nan</td>\n                        <td id=\"T_421efae2_92e2_11eb_98fe_0242ac1c0002row28_col10\" class=\"data row28 col10\" >nan</td>\n                        <td id=\"T_421efae2_92e2_11eb_98fe_0242ac1c0002row28_col11\" class=\"data row28 col11\" >1.672908</td>\n                        <td id=\"T_421efae2_92e2_11eb_98fe_0242ac1c0002row28_col12\" class=\"data row28 col12\" >752</td>\n                        <td id=\"T_421efae2_92e2_11eb_98fe_0242ac1c0002row28_col13\" class=\"data row28 col13\" >SWE</td>\n            </tr>\n            <tr>\n                        <th id=\"T_421efae2_92e2_11eb_98fe_0242ac1c0002level0_row29\" class=\"row_heading level0 row29\" >137</th>\n                        <td id=\"T_421efae2_92e2_11eb_98fe_0242ac1c0002row29_col0\" class=\"data row29 col0\" >Philippines</td>\n                        <td id=\"T_421efae2_92e2_11eb_98fe_0242ac1c0002row29_col1\" class=\"data row29 col1\" >2021-04-01 11:25:22</td>\n                        <td id=\"T_421efae2_92e2_11eb_98fe_0242ac1c0002row29_col2\" class=\"data row29 col2\" >12.879721</td>\n                        <td id=\"T_421efae2_92e2_11eb_98fe_0242ac1c0002row29_col3\" class=\"data row29 col3\" >121.774017</td>\n                        <td id=\"T_421efae2_92e2_11eb_98fe_0242ac1c0002row29_col4\" class=\"data row29 col4\" >756199.000000</td>\n                        <td id=\"T_421efae2_92e2_11eb_98fe_0242ac1c0002row29_col5\" class=\"data row29 col5\" >13303.000000</td>\n                        <td id=\"T_421efae2_92e2_11eb_98fe_0242ac1c0002row29_col6\" class=\"data row29 col6\" >603948.000000</td>\n                        <td id=\"T_421efae2_92e2_11eb_98fe_0242ac1c0002row29_col7\" class=\"data row29 col7\" >138948.000000</td>\n                        <td id=\"T_421efae2_92e2_11eb_98fe_0242ac1c0002row29_col8\" class=\"data row29 col8\" >690.081687</td>\n                        <td id=\"T_421efae2_92e2_11eb_98fe_0242ac1c0002row29_col9\" class=\"data row29 col9\" >nan</td>\n                        <td id=\"T_421efae2_92e2_11eb_98fe_0242ac1c0002row29_col10\" class=\"data row29 col10\" >nan</td>\n                        <td id=\"T_421efae2_92e2_11eb_98fe_0242ac1c0002row29_col11\" class=\"data row29 col11\" >1.759193</td>\n                        <td id=\"T_421efae2_92e2_11eb_98fe_0242ac1c0002row29_col12\" class=\"data row29 col12\" >608</td>\n                        <td id=\"T_421efae2_92e2_11eb_98fe_0242ac1c0002row29_col13\" class=\"data row29 col13\" >PHL</td>\n            </tr>\n            <tr>\n                        <th id=\"T_421efae2_92e2_11eb_98fe_0242ac1c0002level0_row30\" class=\"row_heading level0 row30\" >132</th>\n                        <td id=\"T_421efae2_92e2_11eb_98fe_0242ac1c0002row30_col0\" class=\"data row30 col0\" >Pakistan</td>\n                        <td id=\"T_421efae2_92e2_11eb_98fe_0242ac1c0002row30_col1\" class=\"data row30 col1\" >2021-04-01 11:25:22</td>\n                        <td id=\"T_421efae2_92e2_11eb_98fe_0242ac1c0002row30_col2\" class=\"data row30 col2\" >30.375300</td>\n                        <td id=\"T_421efae2_92e2_11eb_98fe_0242ac1c0002row30_col3\" class=\"data row30 col3\" >69.345100</td>\n                        <td id=\"T_421efae2_92e2_11eb_98fe_0242ac1c0002row30_col4\" class=\"data row30 col4\" >672931.000000</td>\n                        <td id=\"T_421efae2_92e2_11eb_98fe_0242ac1c0002row30_col5\" class=\"data row30 col5\" >14530.000000</td>\n                        <td id=\"T_421efae2_92e2_11eb_98fe_0242ac1c0002row30_col6\" class=\"data row30 col6\" >605274.000000</td>\n                        <td id=\"T_421efae2_92e2_11eb_98fe_0242ac1c0002row30_col7\" class=\"data row30 col7\" >53127.000000</td>\n                        <td id=\"T_421efae2_92e2_11eb_98fe_0242ac1c0002row30_col8\" class=\"data row30 col8\" >304.642084</td>\n                        <td id=\"T_421efae2_92e2_11eb_98fe_0242ac1c0002row30_col9\" class=\"data row30 col9\" >nan</td>\n                        <td id=\"T_421efae2_92e2_11eb_98fe_0242ac1c0002row30_col10\" class=\"data row30 col10\" >nan</td>\n                        <td id=\"T_421efae2_92e2_11eb_98fe_0242ac1c0002row30_col11\" class=\"data row30 col11\" >2.159211</td>\n                        <td id=\"T_421efae2_92e2_11eb_98fe_0242ac1c0002row30_col12\" class=\"data row30 col12\" >586</td>\n                        <td id=\"T_421efae2_92e2_11eb_98fe_0242ac1c0002row30_col13\" class=\"data row30 col13\" >PAK</td>\n            </tr>\n            <tr>\n                        <th id=\"T_421efae2_92e2_11eb_98fe_0242ac1c0002level0_row31\" class=\"row_heading level0 row31\" >77</th>\n                        <td id=\"T_421efae2_92e2_11eb_98fe_0242ac1c0002row31_col0\" class=\"data row31 col0\" >Hungary</td>\n                        <td id=\"T_421efae2_92e2_11eb_98fe_0242ac1c0002row31_col1\" class=\"data row31 col1\" >2021-04-01 11:25:22</td>\n                        <td id=\"T_421efae2_92e2_11eb_98fe_0242ac1c0002row31_col2\" class=\"data row31 col2\" >47.162500</td>\n                        <td id=\"T_421efae2_92e2_11eb_98fe_0242ac1c0002row31_col3\" class=\"data row31 col3\" >19.503300</td>\n                        <td id=\"T_421efae2_92e2_11eb_98fe_0242ac1c0002row31_col4\" class=\"data row31 col4\" >661721.000000</td>\n                        <td id=\"T_421efae2_92e2_11eb_98fe_0242ac1c0002row31_col5\" class=\"data row31 col5\" >20995.000000</td>\n                        <td id=\"T_421efae2_92e2_11eb_98fe_0242ac1c0002row31_col6\" class=\"data row31 col6\" >410565.000000</td>\n                        <td id=\"T_421efae2_92e2_11eb_98fe_0242ac1c0002row31_col7\" class=\"data row31 col7\" >230161.000000</td>\n                        <td id=\"T_421efae2_92e2_11eb_98fe_0242ac1c0002row31_col8\" class=\"data row31 col8\" >6849.865688</td>\n                        <td id=\"T_421efae2_92e2_11eb_98fe_0242ac1c0002row31_col9\" class=\"data row31 col9\" >nan</td>\n                        <td id=\"T_421efae2_92e2_11eb_98fe_0242ac1c0002row31_col10\" class=\"data row31 col10\" >nan</td>\n                        <td id=\"T_421efae2_92e2_11eb_98fe_0242ac1c0002row31_col11\" class=\"data row31 col11\" >3.172787</td>\n                        <td id=\"T_421efae2_92e2_11eb_98fe_0242ac1c0002row31_col12\" class=\"data row31 col12\" >348</td>\n                        <td id=\"T_421efae2_92e2_11eb_98fe_0242ac1c0002row31_col13\" class=\"data row31 col13\" >HUN</td>\n            </tr>\n            <tr>\n                        <th id=\"T_421efae2_92e2_11eb_98fe_0242ac1c0002level0_row32\" class=\"row_heading level0 row32\" >88</th>\n                        <td id=\"T_421efae2_92e2_11eb_98fe_0242ac1c0002row32_col0\" class=\"data row32 col0\" >Jordan</td>\n                        <td id=\"T_421efae2_92e2_11eb_98fe_0242ac1c0002row32_col1\" class=\"data row32 col1\" >2021-04-01 11:25:22</td>\n                        <td id=\"T_421efae2_92e2_11eb_98fe_0242ac1c0002row32_col2\" class=\"data row32 col2\" >31.240000</td>\n                        <td id=\"T_421efae2_92e2_11eb_98fe_0242ac1c0002row32_col3\" class=\"data row32 col3\" >36.510000</td>\n                        <td id=\"T_421efae2_92e2_11eb_98fe_0242ac1c0002row32_col4\" class=\"data row32 col4\" >611577.000000</td>\n                        <td id=\"T_421efae2_92e2_11eb_98fe_0242ac1c0002row32_col5\" class=\"data row32 col5\" >6858.000000</td>\n                        <td id=\"T_421efae2_92e2_11eb_98fe_0242ac1c0002row32_col6\" class=\"data row32 col6\" >513144.000000</td>\n                        <td id=\"T_421efae2_92e2_11eb_98fe_0242ac1c0002row32_col7\" class=\"data row32 col7\" >91575.000000</td>\n                        <td id=\"T_421efae2_92e2_11eb_98fe_0242ac1c0002row32_col8\" class=\"data row32 col8\" >5994.007727</td>\n                        <td id=\"T_421efae2_92e2_11eb_98fe_0242ac1c0002row32_col9\" class=\"data row32 col9\" >nan</td>\n                        <td id=\"T_421efae2_92e2_11eb_98fe_0242ac1c0002row32_col10\" class=\"data row32 col10\" >nan</td>\n                        <td id=\"T_421efae2_92e2_11eb_98fe_0242ac1c0002row32_col11\" class=\"data row32 col11\" >1.121363</td>\n                        <td id=\"T_421efae2_92e2_11eb_98fe_0242ac1c0002row32_col12\" class=\"data row32 col12\" >400</td>\n                        <td id=\"T_421efae2_92e2_11eb_98fe_0242ac1c0002row32_col13\" class=\"data row32 col13\" >JOR</td>\n            </tr>\n            <tr>\n                        <th id=\"T_421efae2_92e2_11eb_98fe_0242ac1c0002level0_row33\" class=\"row_heading level0 row33\" >13</th>\n                        <td id=\"T_421efae2_92e2_11eb_98fe_0242ac1c0002row33_col0\" class=\"data row33 col0\" >Bangladesh</td>\n                        <td id=\"T_421efae2_92e2_11eb_98fe_0242ac1c0002row33_col1\" class=\"data row33 col1\" >2021-04-01 11:25:22</td>\n                        <td id=\"T_421efae2_92e2_11eb_98fe_0242ac1c0002row33_col2\" class=\"data row33 col2\" >23.685000</td>\n                        <td id=\"T_421efae2_92e2_11eb_98fe_0242ac1c0002row33_col3\" class=\"data row33 col3\" >90.356300</td>\n                        <td id=\"T_421efae2_92e2_11eb_98fe_0242ac1c0002row33_col4\" class=\"data row33 col4\" >611295.000000</td>\n                        <td id=\"T_421efae2_92e2_11eb_98fe_0242ac1c0002row33_col5\" class=\"data row33 col5\" >9046.000000</td>\n                        <td id=\"T_421efae2_92e2_11eb_98fe_0242ac1c0002row33_col6\" class=\"data row33 col6\" >542099.000000</td>\n                        <td id=\"T_421efae2_92e2_11eb_98fe_0242ac1c0002row33_col7\" class=\"data row33 col7\" >60150.000000</td>\n                        <td id=\"T_421efae2_92e2_11eb_98fe_0242ac1c0002row33_col8\" class=\"data row33 col8\" >371.180576</td>\n                        <td id=\"T_421efae2_92e2_11eb_98fe_0242ac1c0002row33_col9\" class=\"data row33 col9\" >nan</td>\n                        <td id=\"T_421efae2_92e2_11eb_98fe_0242ac1c0002row33_col10\" class=\"data row33 col10\" >nan</td>\n                        <td id=\"T_421efae2_92e2_11eb_98fe_0242ac1c0002row33_col11\" class=\"data row33 col11\" >1.479809</td>\n                        <td id=\"T_421efae2_92e2_11eb_98fe_0242ac1c0002row33_col12\" class=\"data row33 col12\" >50</td>\n                        <td id=\"T_421efae2_92e2_11eb_98fe_0242ac1c0002row33_col13\" class=\"data row33 col13\" >BGD</td>\n            </tr>\n            <tr>\n                        <th id=\"T_421efae2_92e2_11eb_98fe_0242ac1c0002level0_row34\" class=\"row_heading level0 row34\" >167</th>\n                        <td id=\"T_421efae2_92e2_11eb_98fe_0242ac1c0002row34_col0\" class=\"data row34 col0\" >Switzerland</td>\n                        <td id=\"T_421efae2_92e2_11eb_98fe_0242ac1c0002row34_col1\" class=\"data row34 col1\" >2021-04-01 11:25:22</td>\n                        <td id=\"T_421efae2_92e2_11eb_98fe_0242ac1c0002row34_col2\" class=\"data row34 col2\" >46.818200</td>\n                        <td id=\"T_421efae2_92e2_11eb_98fe_0242ac1c0002row34_col3\" class=\"data row34 col3\" >8.227500</td>\n                        <td id=\"T_421efae2_92e2_11eb_98fe_0242ac1c0002row34_col4\" class=\"data row34 col4\" >601124.000000</td>\n                        <td id=\"T_421efae2_92e2_11eb_98fe_0242ac1c0002row34_col5\" class=\"data row34 col5\" >10337.000000</td>\n                        <td id=\"T_421efae2_92e2_11eb_98fe_0242ac1c0002row34_col6\" class=\"data row34 col6\" >317600.000000</td>\n                        <td id=\"T_421efae2_92e2_11eb_98fe_0242ac1c0002row34_col7\" class=\"data row34 col7\" >273187.000000</td>\n                        <td id=\"T_421efae2_92e2_11eb_98fe_0242ac1c0002row34_col8\" class=\"data row34 col8\" >6945.702283</td>\n                        <td id=\"T_421efae2_92e2_11eb_98fe_0242ac1c0002row34_col9\" class=\"data row34 col9\" >nan</td>\n                        <td id=\"T_421efae2_92e2_11eb_98fe_0242ac1c0002row34_col10\" class=\"data row34 col10\" >nan</td>\n                        <td id=\"T_421efae2_92e2_11eb_98fe_0242ac1c0002row34_col11\" class=\"data row34 col11\" >1.719612</td>\n                        <td id=\"T_421efae2_92e2_11eb_98fe_0242ac1c0002row34_col12\" class=\"data row34 col12\" >756</td>\n                        <td id=\"T_421efae2_92e2_11eb_98fe_0242ac1c0002row34_col13\" class=\"data row34 col13\" >CHE</td>\n            </tr>\n            <tr>\n                        <th id=\"T_421efae2_92e2_11eb_98fe_0242ac1c0002level0_row35\" class=\"row_heading level0 row35\" >152</th>\n                        <td id=\"T_421efae2_92e2_11eb_98fe_0242ac1c0002row35_col0\" class=\"data row35 col0\" >Serbia</td>\n                        <td id=\"T_421efae2_92e2_11eb_98fe_0242ac1c0002row35_col1\" class=\"data row35 col1\" >2021-04-01 11:25:22</td>\n                        <td id=\"T_421efae2_92e2_11eb_98fe_0242ac1c0002row35_col2\" class=\"data row35 col2\" >44.016500</td>\n                        <td id=\"T_421efae2_92e2_11eb_98fe_0242ac1c0002row35_col3\" class=\"data row35 col3\" >21.005900</td>\n                        <td id=\"T_421efae2_92e2_11eb_98fe_0242ac1c0002row35_col4\" class=\"data row35 col4\" >600596.000000</td>\n                        <td id=\"T_421efae2_92e2_11eb_98fe_0242ac1c0002row35_col5\" class=\"data row35 col5\" >5308.000000</td>\n                        <td id=\"T_421efae2_92e2_11eb_98fe_0242ac1c0002row35_col6\" class=\"data row35 col6\" >nan</td>\n                        <td id=\"T_421efae2_92e2_11eb_98fe_0242ac1c0002row35_col7\" class=\"data row35 col7\" >595288.000000</td>\n                        <td id=\"T_421efae2_92e2_11eb_98fe_0242ac1c0002row35_col8\" class=\"data row35 col8\" >6873.876235</td>\n                        <td id=\"T_421efae2_92e2_11eb_98fe_0242ac1c0002row35_col9\" class=\"data row35 col9\" >nan</td>\n                        <td id=\"T_421efae2_92e2_11eb_98fe_0242ac1c0002row35_col10\" class=\"data row35 col10\" >nan</td>\n                        <td id=\"T_421efae2_92e2_11eb_98fe_0242ac1c0002row35_col11\" class=\"data row35 col11\" >0.883789</td>\n                        <td id=\"T_421efae2_92e2_11eb_98fe_0242ac1c0002row35_col12\" class=\"data row35 col12\" >688</td>\n                        <td id=\"T_421efae2_92e2_11eb_98fe_0242ac1c0002row35_col13\" class=\"data row35 col13\" >SRB</td>\n            </tr>\n            <tr>\n                        <th id=\"T_421efae2_92e2_11eb_98fe_0242ac1c0002level0_row36\" class=\"row_heading level0 row36\" >9</th>\n                        <td id=\"T_421efae2_92e2_11eb_98fe_0242ac1c0002row36_col0\" class=\"data row36 col0\" >Austria</td>\n                        <td id=\"T_421efae2_92e2_11eb_98fe_0242ac1c0002row36_col1\" class=\"data row36 col1\" >2021-04-01 11:25:22</td>\n                        <td id=\"T_421efae2_92e2_11eb_98fe_0242ac1c0002row36_col2\" class=\"data row36 col2\" >47.516200</td>\n                        <td id=\"T_421efae2_92e2_11eb_98fe_0242ac1c0002row36_col3\" class=\"data row36 col3\" >14.550100</td>\n                        <td id=\"T_421efae2_92e2_11eb_98fe_0242ac1c0002row36_col4\" class=\"data row36 col4\" >549592.000000</td>\n                        <td id=\"T_421efae2_92e2_11eb_98fe_0242ac1c0002row36_col5\" class=\"data row36 col5\" >9368.000000</td>\n                        <td id=\"T_421efae2_92e2_11eb_98fe_0242ac1c0002row36_col6\" class=\"data row36 col6\" >503729.000000</td>\n                        <td id=\"T_421efae2_92e2_11eb_98fe_0242ac1c0002row36_col7\" class=\"data row36 col7\" >36495.000000</td>\n                        <td id=\"T_421efae2_92e2_11eb_98fe_0242ac1c0002row36_col8\" class=\"data row36 col8\" >6102.238408</td>\n                        <td id=\"T_421efae2_92e2_11eb_98fe_0242ac1c0002row36_col9\" class=\"data row36 col9\" >nan</td>\n                        <td id=\"T_421efae2_92e2_11eb_98fe_0242ac1c0002row36_col10\" class=\"data row36 col10\" >nan</td>\n                        <td id=\"T_421efae2_92e2_11eb_98fe_0242ac1c0002row36_col11\" class=\"data row36 col11\" >1.704537</td>\n                        <td id=\"T_421efae2_92e2_11eb_98fe_0242ac1c0002row36_col12\" class=\"data row36 col12\" >40</td>\n                        <td id=\"T_421efae2_92e2_11eb_98fe_0242ac1c0002row36_col13\" class=\"data row36 col13\" >AUT</td>\n            </tr>\n            <tr>\n                        <th id=\"T_421efae2_92e2_11eb_98fe_0242ac1c0002level0_row37\" class=\"row_heading level0 row37\" >120</th>\n                        <td id=\"T_421efae2_92e2_11eb_98fe_0242ac1c0002row37_col0\" class=\"data row37 col0\" >Morocco</td>\n                        <td id=\"T_421efae2_92e2_11eb_98fe_0242ac1c0002row37_col1\" class=\"data row37 col1\" >2021-04-01 11:25:22</td>\n                        <td id=\"T_421efae2_92e2_11eb_98fe_0242ac1c0002row37_col2\" class=\"data row37 col2\" >31.791700</td>\n                        <td id=\"T_421efae2_92e2_11eb_98fe_0242ac1c0002row37_col3\" class=\"data row37 col3\" >-7.092600</td>\n                        <td id=\"T_421efae2_92e2_11eb_98fe_0242ac1c0002row37_col4\" class=\"data row37 col4\" >496097.000000</td>\n                        <td id=\"T_421efae2_92e2_11eb_98fe_0242ac1c0002row37_col5\" class=\"data row37 col5\" >8818.000000</td>\n                        <td id=\"T_421efae2_92e2_11eb_98fe_0242ac1c0002row37_col6\" class=\"data row37 col6\" >483363.000000</td>\n                        <td id=\"T_421efae2_92e2_11eb_98fe_0242ac1c0002row37_col7\" class=\"data row37 col7\" >3916.000000</td>\n                        <td id=\"T_421efae2_92e2_11eb_98fe_0242ac1c0002row37_col8\" class=\"data row37 col8\" >1344.051748</td>\n                        <td id=\"T_421efae2_92e2_11eb_98fe_0242ac1c0002row37_col9\" class=\"data row37 col9\" >nan</td>\n                        <td id=\"T_421efae2_92e2_11eb_98fe_0242ac1c0002row37_col10\" class=\"data row37 col10\" >nan</td>\n                        <td id=\"T_421efae2_92e2_11eb_98fe_0242ac1c0002row37_col11\" class=\"data row37 col11\" >1.777475</td>\n                        <td id=\"T_421efae2_92e2_11eb_98fe_0242ac1c0002row37_col12\" class=\"data row37 col12\" >504</td>\n                        <td id=\"T_421efae2_92e2_11eb_98fe_0242ac1c0002row37_col13\" class=\"data row37 col13\" >MAR</td>\n            </tr>\n            <tr>\n                        <th id=\"T_421efae2_92e2_11eb_98fe_0242ac1c0002level0_row38\" class=\"row_heading level0 row38\" >87</th>\n                        <td id=\"T_421efae2_92e2_11eb_98fe_0242ac1c0002row38_col0\" class=\"data row38 col0\" >Japan</td>\n                        <td id=\"T_421efae2_92e2_11eb_98fe_0242ac1c0002row38_col1\" class=\"data row38 col1\" >2021-04-01 11:25:22</td>\n                        <td id=\"T_421efae2_92e2_11eb_98fe_0242ac1c0002row38_col2\" class=\"data row38 col2\" >36.204824</td>\n                        <td id=\"T_421efae2_92e2_11eb_98fe_0242ac1c0002row38_col3\" class=\"data row38 col3\" >138.252924</td>\n                        <td id=\"T_421efae2_92e2_11eb_98fe_0242ac1c0002row38_col4\" class=\"data row38 col4\" >477053.000000</td>\n                        <td id=\"T_421efae2_92e2_11eb_98fe_0242ac1c0002row38_col5\" class=\"data row38 col5\" >9166.000000</td>\n                        <td id=\"T_421efae2_92e2_11eb_98fe_0242ac1c0002row38_col6\" class=\"data row38 col6\" >446260.000000</td>\n                        <td id=\"T_421efae2_92e2_11eb_98fe_0242ac1c0002row38_col7\" class=\"data row38 col7\" >21627.000000</td>\n                        <td id=\"T_421efae2_92e2_11eb_98fe_0242ac1c0002row38_col8\" class=\"data row38 col8\" >377.187192</td>\n                        <td id=\"T_421efae2_92e2_11eb_98fe_0242ac1c0002row38_col9\" class=\"data row38 col9\" >nan</td>\n                        <td id=\"T_421efae2_92e2_11eb_98fe_0242ac1c0002row38_col10\" class=\"data row38 col10\" >nan</td>\n                        <td id=\"T_421efae2_92e2_11eb_98fe_0242ac1c0002row38_col11\" class=\"data row38 col11\" >1.921380</td>\n                        <td id=\"T_421efae2_92e2_11eb_98fe_0242ac1c0002row38_col12\" class=\"data row38 col12\" >392</td>\n                        <td id=\"T_421efae2_92e2_11eb_98fe_0242ac1c0002row38_col13\" class=\"data row38 col13\" >JPN</td>\n            </tr>\n            <tr>\n                        <th id=\"T_421efae2_92e2_11eb_98fe_0242ac1c0002level0_row39\" class=\"row_heading level0 row39\" >97</th>\n                        <td id=\"T_421efae2_92e2_11eb_98fe_0242ac1c0002row39_col0\" class=\"data row39 col0\" >Lebanon</td>\n                        <td id=\"T_421efae2_92e2_11eb_98fe_0242ac1c0002row39_col1\" class=\"data row39 col1\" >2021-04-01 11:25:22</td>\n                        <td id=\"T_421efae2_92e2_11eb_98fe_0242ac1c0002row39_col2\" class=\"data row39 col2\" >33.854700</td>\n                        <td id=\"T_421efae2_92e2_11eb_98fe_0242ac1c0002row39_col3\" class=\"data row39 col3\" >35.862300</td>\n                        <td id=\"T_421efae2_92e2_11eb_98fe_0242ac1c0002row39_col4\" class=\"data row39 col4\" >468400.000000</td>\n                        <td id=\"T_421efae2_92e2_11eb_98fe_0242ac1c0002row39_col5\" class=\"data row39 col5\" >6234.000000</td>\n                        <td id=\"T_421efae2_92e2_11eb_98fe_0242ac1c0002row39_col6\" class=\"data row39 col6\" >370687.000000</td>\n                        <td id=\"T_421efae2_92e2_11eb_98fe_0242ac1c0002row39_col7\" class=\"data row39 col7\" >91479.000000</td>\n                        <td id=\"T_421efae2_92e2_11eb_98fe_0242ac1c0002row39_col8\" class=\"data row39 col8\" >6862.559231</td>\n                        <td id=\"T_421efae2_92e2_11eb_98fe_0242ac1c0002row39_col9\" class=\"data row39 col9\" >nan</td>\n                        <td id=\"T_421efae2_92e2_11eb_98fe_0242ac1c0002row39_col10\" class=\"data row39 col10\" >nan</td>\n                        <td id=\"T_421efae2_92e2_11eb_98fe_0242ac1c0002row39_col11\" class=\"data row39 col11\" >1.330914</td>\n                        <td id=\"T_421efae2_92e2_11eb_98fe_0242ac1c0002row39_col12\" class=\"data row39 col12\" >422</td>\n                        <td id=\"T_421efae2_92e2_11eb_98fe_0242ac1c0002row39_col13\" class=\"data row39 col13\" >LBN</td>\n            </tr>\n            <tr>\n                        <th id=\"T_421efae2_92e2_11eb_98fe_0242ac1c0002level0_row40\" class=\"row_heading level0 row40\" >181</th>\n                        <td id=\"T_421efae2_92e2_11eb_98fe_0242ac1c0002row40_col0\" class=\"data row40 col0\" >United Arab Emirates</td>\n                        <td id=\"T_421efae2_92e2_11eb_98fe_0242ac1c0002row40_col1\" class=\"data row40 col1\" >2021-04-01 11:25:22</td>\n                        <td id=\"T_421efae2_92e2_11eb_98fe_0242ac1c0002row40_col2\" class=\"data row40 col2\" >23.424076</td>\n                        <td id=\"T_421efae2_92e2_11eb_98fe_0242ac1c0002row40_col3\" class=\"data row40 col3\" >53.847818</td>\n                        <td id=\"T_421efae2_92e2_11eb_98fe_0242ac1c0002row40_col4\" class=\"data row40 col4\" >461444.000000</td>\n                        <td id=\"T_421efae2_92e2_11eb_98fe_0242ac1c0002row40_col5\" class=\"data row40 col5\" >1497.000000</td>\n                        <td id=\"T_421efae2_92e2_11eb_98fe_0242ac1c0002row40_col6\" class=\"data row40 col6\" >445355.000000</td>\n                        <td id=\"T_421efae2_92e2_11eb_98fe_0242ac1c0002row40_col7\" class=\"data row40 col7\" >14592.000000</td>\n                        <td id=\"T_421efae2_92e2_11eb_98fe_0242ac1c0002row40_col8\" class=\"data row40 col8\" >4665.574699</td>\n                        <td id=\"T_421efae2_92e2_11eb_98fe_0242ac1c0002row40_col9\" class=\"data row40 col9\" >nan</td>\n                        <td id=\"T_421efae2_92e2_11eb_98fe_0242ac1c0002row40_col10\" class=\"data row40 col10\" >nan</td>\n                        <td id=\"T_421efae2_92e2_11eb_98fe_0242ac1c0002row40_col11\" class=\"data row40 col11\" >0.324416</td>\n                        <td id=\"T_421efae2_92e2_11eb_98fe_0242ac1c0002row40_col12\" class=\"data row40 col12\" >784</td>\n                        <td id=\"T_421efae2_92e2_11eb_98fe_0242ac1c0002row40_col13\" class=\"data row40 col13\" >ARE</td>\n            </tr>\n            <tr>\n                        <th id=\"T_421efae2_92e2_11eb_98fe_0242ac1c0002level0_row41\" class=\"row_heading level0 row41\" >150</th>\n                        <td id=\"T_421efae2_92e2_11eb_98fe_0242ac1c0002row41_col0\" class=\"data row41 col0\" >Saudi Arabia</td>\n                        <td id=\"T_421efae2_92e2_11eb_98fe_0242ac1c0002row41_col1\" class=\"data row41 col1\" >2021-04-01 11:25:22</td>\n                        <td id=\"T_421efae2_92e2_11eb_98fe_0242ac1c0002row41_col2\" class=\"data row41 col2\" >23.885942</td>\n                        <td id=\"T_421efae2_92e2_11eb_98fe_0242ac1c0002row41_col3\" class=\"data row41 col3\" >45.079162</td>\n                        <td id=\"T_421efae2_92e2_11eb_98fe_0242ac1c0002row41_col4\" class=\"data row41 col4\" >390007.000000</td>\n                        <td id=\"T_421efae2_92e2_11eb_98fe_0242ac1c0002row41_col5\" class=\"data row41 col5\" >6669.000000</td>\n                        <td id=\"T_421efae2_92e2_11eb_98fe_0242ac1c0002row41_col6\" class=\"data row41 col6\" >378083.000000</td>\n                        <td id=\"T_421efae2_92e2_11eb_98fe_0242ac1c0002row41_col7\" class=\"data row41 col7\" >5255.000000</td>\n                        <td id=\"T_421efae2_92e2_11eb_98fe_0242ac1c0002row41_col8\" class=\"data row41 col8\" >1120.263371</td>\n                        <td id=\"T_421efae2_92e2_11eb_98fe_0242ac1c0002row41_col9\" class=\"data row41 col9\" >nan</td>\n                        <td id=\"T_421efae2_92e2_11eb_98fe_0242ac1c0002row41_col10\" class=\"data row41 col10\" >nan</td>\n                        <td id=\"T_421efae2_92e2_11eb_98fe_0242ac1c0002row41_col11\" class=\"data row41 col11\" >1.709969</td>\n                        <td id=\"T_421efae2_92e2_11eb_98fe_0242ac1c0002row41_col12\" class=\"data row41 col12\" >682</td>\n                        <td id=\"T_421efae2_92e2_11eb_98fe_0242ac1c0002row41_col13\" class=\"data row41 col13\" >SAU</td>\n            </tr>\n            <tr>\n                        <th id=\"T_421efae2_92e2_11eb_98fe_0242ac1c0002level0_row42\" class=\"row_heading level0 row42\" >156</th>\n                        <td id=\"T_421efae2_92e2_11eb_98fe_0242ac1c0002row42_col0\" class=\"data row42 col0\" >Slovakia</td>\n                        <td id=\"T_421efae2_92e2_11eb_98fe_0242ac1c0002row42_col1\" class=\"data row42 col1\" >2021-04-01 11:25:22</td>\n                        <td id=\"T_421efae2_92e2_11eb_98fe_0242ac1c0002row42_col2\" class=\"data row42 col2\" >48.669000</td>\n                        <td id=\"T_421efae2_92e2_11eb_98fe_0242ac1c0002row42_col3\" class=\"data row42 col3\" >19.699000</td>\n                        <td id=\"T_421efae2_92e2_11eb_98fe_0242ac1c0002row42_col4\" class=\"data row42 col4\" >362489.000000</td>\n                        <td id=\"T_421efae2_92e2_11eb_98fe_0242ac1c0002row42_col5\" class=\"data row42 col5\" >9790.000000</td>\n                        <td id=\"T_421efae2_92e2_11eb_98fe_0242ac1c0002row42_col6\" class=\"data row42 col6\" >255300.000000</td>\n                        <td id=\"T_421efae2_92e2_11eb_98fe_0242ac1c0002row42_col7\" class=\"data row42 col7\" >97399.000000</td>\n                        <td id=\"T_421efae2_92e2_11eb_98fe_0242ac1c0002row42_col8\" class=\"data row42 col8\" >6639.426790</td>\n                        <td id=\"T_421efae2_92e2_11eb_98fe_0242ac1c0002row42_col9\" class=\"data row42 col9\" >nan</td>\n                        <td id=\"T_421efae2_92e2_11eb_98fe_0242ac1c0002row42_col10\" class=\"data row42 col10\" >nan</td>\n                        <td id=\"T_421efae2_92e2_11eb_98fe_0242ac1c0002row42_col11\" class=\"data row42 col11\" >2.700772</td>\n                        <td id=\"T_421efae2_92e2_11eb_98fe_0242ac1c0002row42_col12\" class=\"data row42 col12\" >703</td>\n                        <td id=\"T_421efae2_92e2_11eb_98fe_0242ac1c0002row42_col13\" class=\"data row42 col13\" >SVK</td>\n            </tr>\n            <tr>\n                        <th id=\"T_421efae2_92e2_11eb_98fe_0242ac1c0002level0_row43\" class=\"row_heading level0 row43\" >133</th>\n                        <td id=\"T_421efae2_92e2_11eb_98fe_0242ac1c0002row43_col0\" class=\"data row43 col0\" >Panama</td>\n                        <td id=\"T_421efae2_92e2_11eb_98fe_0242ac1c0002row43_col1\" class=\"data row43 col1\" >2021-04-01 11:25:22</td>\n                        <td id=\"T_421efae2_92e2_11eb_98fe_0242ac1c0002row43_col2\" class=\"data row43 col2\" >8.538000</td>\n                        <td id=\"T_421efae2_92e2_11eb_98fe_0242ac1c0002row43_col3\" class=\"data row43 col3\" >-80.782100</td>\n                        <td id=\"T_421efae2_92e2_11eb_98fe_0242ac1c0002row43_col4\" class=\"data row43 col4\" >355051.000000</td>\n                        <td id=\"T_421efae2_92e2_11eb_98fe_0242ac1c0002row43_col5\" class=\"data row43 col5\" >6114.000000</td>\n                        <td id=\"T_421efae2_92e2_11eb_98fe_0242ac1c0002row43_col6\" class=\"data row43 col6\" >343904.000000</td>\n                        <td id=\"T_421efae2_92e2_11eb_98fe_0242ac1c0002row43_col7\" class=\"data row43 col7\" >5033.000000</td>\n                        <td id=\"T_421efae2_92e2_11eb_98fe_0242ac1c0002row43_col8\" class=\"data row43 col8\" >8228.739065</td>\n                        <td id=\"T_421efae2_92e2_11eb_98fe_0242ac1c0002row43_col9\" class=\"data row43 col9\" >nan</td>\n                        <td id=\"T_421efae2_92e2_11eb_98fe_0242ac1c0002row43_col10\" class=\"data row43 col10\" >nan</td>\n                        <td id=\"T_421efae2_92e2_11eb_98fe_0242ac1c0002row43_col11\" class=\"data row43 col11\" >1.722006</td>\n                        <td id=\"T_421efae2_92e2_11eb_98fe_0242ac1c0002row43_col12\" class=\"data row43 col12\" >591</td>\n                        <td id=\"T_421efae2_92e2_11eb_98fe_0242ac1c0002row43_col13\" class=\"data row43 col13\" >PAN</td>\n            </tr>\n            <tr>\n                        <th id=\"T_421efae2_92e2_11eb_98fe_0242ac1c0002level0_row44\" class=\"row_heading level0 row44\" >107</th>\n                        <td id=\"T_421efae2_92e2_11eb_98fe_0242ac1c0002row44_col0\" class=\"data row44 col0\" >Malaysia</td>\n                        <td id=\"T_421efae2_92e2_11eb_98fe_0242ac1c0002row44_col1\" class=\"data row44 col1\" >2021-04-01 11:25:22</td>\n                        <td id=\"T_421efae2_92e2_11eb_98fe_0242ac1c0002row44_col2\" class=\"data row44 col2\" >4.210484</td>\n                        <td id=\"T_421efae2_92e2_11eb_98fe_0242ac1c0002row44_col3\" class=\"data row44 col3\" >101.975766</td>\n                        <td id=\"T_421efae2_92e2_11eb_98fe_0242ac1c0002row44_col4\" class=\"data row44 col4\" >346678.000000</td>\n                        <td id=\"T_421efae2_92e2_11eb_98fe_0242ac1c0002row44_col5\" class=\"data row44 col5\" >1278.000000</td>\n                        <td id=\"T_421efae2_92e2_11eb_98fe_0242ac1c0002row44_col6\" class=\"data row44 col6\" >331001.000000</td>\n                        <td id=\"T_421efae2_92e2_11eb_98fe_0242ac1c0002row44_col7\" class=\"data row44 col7\" >14399.000000</td>\n                        <td id=\"T_421efae2_92e2_11eb_98fe_0242ac1c0002row44_col8\" class=\"data row44 col8\" >1071.117906</td>\n                        <td id=\"T_421efae2_92e2_11eb_98fe_0242ac1c0002row44_col9\" class=\"data row44 col9\" >nan</td>\n                        <td id=\"T_421efae2_92e2_11eb_98fe_0242ac1c0002row44_col10\" class=\"data row44 col10\" >nan</td>\n                        <td id=\"T_421efae2_92e2_11eb_98fe_0242ac1c0002row44_col11\" class=\"data row44 col11\" >0.368642</td>\n                        <td id=\"T_421efae2_92e2_11eb_98fe_0242ac1c0002row44_col12\" class=\"data row44 col12\" >458</td>\n                        <td id=\"T_421efae2_92e2_11eb_98fe_0242ac1c0002row44_col13\" class=\"data row44 col13\" >MYS</td>\n            </tr>\n            <tr>\n                        <th id=\"T_421efae2_92e2_11eb_98fe_0242ac1c0002level0_row45\" class=\"row_heading level0 row45\" >25</th>\n                        <td id=\"T_421efae2_92e2_11eb_98fe_0242ac1c0002row45_col0\" class=\"data row45 col0\" >Bulgaria</td>\n                        <td id=\"T_421efae2_92e2_11eb_98fe_0242ac1c0002row45_col1\" class=\"data row45 col1\" >2021-04-01 11:25:22</td>\n                        <td id=\"T_421efae2_92e2_11eb_98fe_0242ac1c0002row45_col2\" class=\"data row45 col2\" >42.733900</td>\n                        <td id=\"T_421efae2_92e2_11eb_98fe_0242ac1c0002row45_col3\" class=\"data row45 col3\" >25.485800</td>\n                        <td id=\"T_421efae2_92e2_11eb_98fe_0242ac1c0002row45_col4\" class=\"data row45 col4\" >342633.000000</td>\n                        <td id=\"T_421efae2_92e2_11eb_98fe_0242ac1c0002row45_col5\" class=\"data row45 col5\" >13197.000000</td>\n                        <td id=\"T_421efae2_92e2_11eb_98fe_0242ac1c0002row45_col6\" class=\"data row45 col6\" >259561.000000</td>\n                        <td id=\"T_421efae2_92e2_11eb_98fe_0242ac1c0002row45_col7\" class=\"data row45 col7\" >69875.000000</td>\n                        <td id=\"T_421efae2_92e2_11eb_98fe_0242ac1c0002row45_col8\" class=\"data row45 col8\" >4931.074507</td>\n                        <td id=\"T_421efae2_92e2_11eb_98fe_0242ac1c0002row45_col9\" class=\"data row45 col9\" >nan</td>\n                        <td id=\"T_421efae2_92e2_11eb_98fe_0242ac1c0002row45_col10\" class=\"data row45 col10\" >nan</td>\n                        <td id=\"T_421efae2_92e2_11eb_98fe_0242ac1c0002row45_col11\" class=\"data row45 col11\" >3.851643</td>\n                        <td id=\"T_421efae2_92e2_11eb_98fe_0242ac1c0002row45_col12\" class=\"data row45 col12\" >100</td>\n                        <td id=\"T_421efae2_92e2_11eb_98fe_0242ac1c0002row45_col13\" class=\"data row45 col13\" >BGR</td>\n            </tr>\n            <tr>\n                        <th id=\"T_421efae2_92e2_11eb_98fe_0242ac1c0002level0_row46\" class=\"row_heading level0 row46\" >52</th>\n                        <td id=\"T_421efae2_92e2_11eb_98fe_0242ac1c0002row46_col0\" class=\"data row46 col0\" >Ecuador</td>\n                        <td id=\"T_421efae2_92e2_11eb_98fe_0242ac1c0002row46_col1\" class=\"data row46 col1\" >2021-04-01 11:25:22</td>\n                        <td id=\"T_421efae2_92e2_11eb_98fe_0242ac1c0002row46_col2\" class=\"data row46 col2\" >-1.831200</td>\n                        <td id=\"T_421efae2_92e2_11eb_98fe_0242ac1c0002row46_col3\" class=\"data row46 col3\" >-78.183400</td>\n                        <td id=\"T_421efae2_92e2_11eb_98fe_0242ac1c0002row46_col4\" class=\"data row46 col4\" >328755.000000</td>\n                        <td id=\"T_421efae2_92e2_11eb_98fe_0242ac1c0002row46_col5\" class=\"data row46 col5\" >16847.000000</td>\n                        <td id=\"T_421efae2_92e2_11eb_98fe_0242ac1c0002row46_col6\" class=\"data row46 col6\" >281684.000000</td>\n                        <td id=\"T_421efae2_92e2_11eb_98fe_0242ac1c0002row46_col7\" class=\"data row46 col7\" >30224.000000</td>\n                        <td id=\"T_421efae2_92e2_11eb_98fe_0242ac1c0002row46_col8\" class=\"data row46 col8\" >1863.367239</td>\n                        <td id=\"T_421efae2_92e2_11eb_98fe_0242ac1c0002row46_col9\" class=\"data row46 col9\" >nan</td>\n                        <td id=\"T_421efae2_92e2_11eb_98fe_0242ac1c0002row46_col10\" class=\"data row46 col10\" >nan</td>\n                        <td id=\"T_421efae2_92e2_11eb_98fe_0242ac1c0002row46_col11\" class=\"data row46 col11\" >5.124485</td>\n                        <td id=\"T_421efae2_92e2_11eb_98fe_0242ac1c0002row46_col12\" class=\"data row46 col12\" >218</td>\n                        <td id=\"T_421efae2_92e2_11eb_98fe_0242ac1c0002row46_col13\" class=\"data row46 col13\" >ECU</td>\n            </tr>\n            <tr>\n                        <th id=\"T_421efae2_92e2_11eb_98fe_0242ac1c0002level0_row47\" class=\"row_heading level0 row47\" >15</th>\n                        <td id=\"T_421efae2_92e2_11eb_98fe_0242ac1c0002row47_col0\" class=\"data row47 col0\" >Belarus</td>\n                        <td id=\"T_421efae2_92e2_11eb_98fe_0242ac1c0002row47_col1\" class=\"data row47 col1\" >2021-04-01 11:25:22</td>\n                        <td id=\"T_421efae2_92e2_11eb_98fe_0242ac1c0002row47_col2\" class=\"data row47 col2\" >53.709800</td>\n                        <td id=\"T_421efae2_92e2_11eb_98fe_0242ac1c0002row47_col3\" class=\"data row47 col3\" >27.953400</td>\n                        <td id=\"T_421efae2_92e2_11eb_98fe_0242ac1c0002row47_col4\" class=\"data row47 col4\" >321807.000000</td>\n                        <td id=\"T_421efae2_92e2_11eb_98fe_0242ac1c0002row47_col5\" class=\"data row47 col5\" >2247.000000</td>\n                        <td id=\"T_421efae2_92e2_11eb_98fe_0242ac1c0002row47_col6\" class=\"data row47 col6\" >312320.000000</td>\n                        <td id=\"T_421efae2_92e2_11eb_98fe_0242ac1c0002row47_col7\" class=\"data row47 col7\" >7240.000000</td>\n                        <td id=\"T_421efae2_92e2_11eb_98fe_0242ac1c0002row47_col8\" class=\"data row47 col8\" >3405.609779</td>\n                        <td id=\"T_421efae2_92e2_11eb_98fe_0242ac1c0002row47_col9\" class=\"data row47 col9\" >nan</td>\n                        <td id=\"T_421efae2_92e2_11eb_98fe_0242ac1c0002row47_col10\" class=\"data row47 col10\" >nan</td>\n                        <td id=\"T_421efae2_92e2_11eb_98fe_0242ac1c0002row47_col11\" class=\"data row47 col11\" >0.698245</td>\n                        <td id=\"T_421efae2_92e2_11eb_98fe_0242ac1c0002row47_col12\" class=\"data row47 col12\" >112</td>\n                        <td id=\"T_421efae2_92e2_11eb_98fe_0242ac1c0002row47_col13\" class=\"data row47 col13\" >BLR</td>\n            </tr>\n            <tr>\n                        <th id=\"T_421efae2_92e2_11eb_98fe_0242ac1c0002level0_row48\" class=\"row_heading level0 row48\" >89</th>\n                        <td id=\"T_421efae2_92e2_11eb_98fe_0242ac1c0002row48_col0\" class=\"data row48 col0\" >Kazakhstan</td>\n                        <td id=\"T_421efae2_92e2_11eb_98fe_0242ac1c0002row48_col1\" class=\"data row48 col1\" >2021-04-01 11:25:22</td>\n                        <td id=\"T_421efae2_92e2_11eb_98fe_0242ac1c0002row48_col2\" class=\"data row48 col2\" >48.019600</td>\n                        <td id=\"T_421efae2_92e2_11eb_98fe_0242ac1c0002row48_col3\" class=\"data row48 col3\" >66.923700</td>\n                        <td id=\"T_421efae2_92e2_11eb_98fe_0242ac1c0002row48_col4\" class=\"data row48 col4\" >297472.000000</td>\n                        <td id=\"T_421efae2_92e2_11eb_98fe_0242ac1c0002row48_col5\" class=\"data row48 col5\" >3232.000000</td>\n                        <td id=\"T_421efae2_92e2_11eb_98fe_0242ac1c0002row48_col6\" class=\"data row48 col6\" >268564.000000</td>\n                        <td id=\"T_421efae2_92e2_11eb_98fe_0242ac1c0002row48_col7\" class=\"data row48 col7\" >25676.000000</td>\n                        <td id=\"T_421efae2_92e2_11eb_98fe_0242ac1c0002row48_col8\" class=\"data row48 col8\" >1584.260755</td>\n                        <td id=\"T_421efae2_92e2_11eb_98fe_0242ac1c0002row48_col9\" class=\"data row48 col9\" >nan</td>\n                        <td id=\"T_421efae2_92e2_11eb_98fe_0242ac1c0002row48_col10\" class=\"data row48 col10\" >nan</td>\n                        <td id=\"T_421efae2_92e2_11eb_98fe_0242ac1c0002row48_col11\" class=\"data row48 col11\" >1.086489</td>\n                        <td id=\"T_421efae2_92e2_11eb_98fe_0242ac1c0002row48_col12\" class=\"data row48 col12\" >398</td>\n                        <td id=\"T_421efae2_92e2_11eb_98fe_0242ac1c0002row48_col13\" class=\"data row48 col13\" >KAZ</td>\n            </tr>\n            <tr>\n                        <th id=\"T_421efae2_92e2_11eb_98fe_0242ac1c0002level0_row49\" class=\"row_heading level0 row49\" >65</th>\n                        <td id=\"T_421efae2_92e2_11eb_98fe_0242ac1c0002row49_col0\" class=\"data row49 col0\" >Georgia</td>\n                        <td id=\"T_421efae2_92e2_11eb_98fe_0242ac1c0002row49_col1\" class=\"data row49 col1\" >2021-04-01 11:25:22</td>\n                        <td id=\"T_421efae2_92e2_11eb_98fe_0242ac1c0002row49_col2\" class=\"data row49 col2\" >42.315400</td>\n                        <td id=\"T_421efae2_92e2_11eb_98fe_0242ac1c0002row49_col3\" class=\"data row49 col3\" >43.356900</td>\n                        <td id=\"T_421efae2_92e2_11eb_98fe_0242ac1c0002row49_col4\" class=\"data row49 col4\" >282260.000000</td>\n                        <td id=\"T_421efae2_92e2_11eb_98fe_0242ac1c0002row49_col5\" class=\"data row49 col5\" >3785.000000</td>\n                        <td id=\"T_421efae2_92e2_11eb_98fe_0242ac1c0002row49_col6\" class=\"data row49 col6\" >273604.000000</td>\n                        <td id=\"T_421efae2_92e2_11eb_98fe_0242ac1c0002row49_col7\" class=\"data row49 col7\" >4871.000000</td>\n                        <td id=\"T_421efae2_92e2_11eb_98fe_0242ac1c0002row49_col8\" class=\"data row49 col8\" >7075.648474</td>\n                        <td id=\"T_421efae2_92e2_11eb_98fe_0242ac1c0002row49_col9\" class=\"data row49 col9\" >nan</td>\n                        <td id=\"T_421efae2_92e2_11eb_98fe_0242ac1c0002row49_col10\" class=\"data row49 col10\" >nan</td>\n                        <td id=\"T_421efae2_92e2_11eb_98fe_0242ac1c0002row49_col11\" class=\"data row49 col11\" >1.340962</td>\n                        <td id=\"T_421efae2_92e2_11eb_98fe_0242ac1c0002row49_col12\" class=\"data row49 col12\" >268</td>\n                        <td id=\"T_421efae2_92e2_11eb_98fe_0242ac1c0002row49_col13\" class=\"data row49 col13\" >GEO</td>\n            </tr>\n    </tbody></table>",
                "text/plain": "<pandas.io.formats.style.Styler at 0x7fba93e8ead0>"
              }
            ],
            "_view_module": "@jupyter-widgets/output",
            "_model_module_version": "1.0.0",
            "_view_count": null,
            "_view_module_version": "1.0.0",
            "layout": "IPY_MODEL_61f0560e52a444dbaf5b5f79410c10b0",
            "_model_module": "@jupyter-widgets/output"
          }
        },
        "18180e158d2d4df78fc3588d6c6626af": {
          "model_module": "@jupyter-widgets/controls",
          "model_name": "DescriptionStyleModel",
          "state": {
            "_view_name": "StyleView",
            "_model_name": "DescriptionStyleModel",
            "description_width": "",
            "_view_module": "@jupyter-widgets/base",
            "_model_module_version": "1.5.0",
            "_view_count": null,
            "_view_module_version": "1.2.0",
            "_model_module": "@jupyter-widgets/controls"
          }
        },
        "f1f2dab264454f10a7dc05b48fa5e403": {
          "model_module": "@jupyter-widgets/base",
          "model_name": "LayoutModel",
          "state": {
            "_view_name": "LayoutView",
            "grid_template_rows": null,
            "right": null,
            "justify_content": null,
            "_view_module": "@jupyter-widgets/base",
            "overflow": null,
            "_model_module_version": "1.2.0",
            "_view_count": null,
            "flex_flow": null,
            "width": null,
            "min_width": null,
            "border": null,
            "align_items": null,
            "bottom": null,
            "_model_module": "@jupyter-widgets/base",
            "top": null,
            "grid_column": null,
            "overflow_y": null,
            "overflow_x": null,
            "grid_auto_flow": null,
            "grid_area": null,
            "grid_template_columns": null,
            "flex": null,
            "_model_name": "LayoutModel",
            "justify_items": null,
            "grid_row": null,
            "max_height": null,
            "align_content": null,
            "visibility": null,
            "align_self": null,
            "height": null,
            "min_height": null,
            "padding": null,
            "grid_auto_rows": null,
            "grid_gap": null,
            "max_width": null,
            "order": null,
            "_view_module_version": "1.2.0",
            "grid_template_areas": null,
            "object_position": null,
            "object_fit": null,
            "grid_auto_columns": null,
            "margin": null,
            "display": null,
            "left": null
          }
        },
        "61f0560e52a444dbaf5b5f79410c10b0": {
          "model_module": "@jupyter-widgets/base",
          "model_name": "LayoutModel",
          "state": {
            "_view_name": "LayoutView",
            "grid_template_rows": null,
            "right": null,
            "justify_content": null,
            "_view_module": "@jupyter-widgets/base",
            "overflow": null,
            "_model_module_version": "1.2.0",
            "_view_count": null,
            "flex_flow": null,
            "width": null,
            "min_width": null,
            "border": null,
            "align_items": null,
            "bottom": null,
            "_model_module": "@jupyter-widgets/base",
            "top": null,
            "grid_column": null,
            "overflow_y": null,
            "overflow_x": null,
            "grid_auto_flow": null,
            "grid_area": null,
            "grid_template_columns": null,
            "flex": null,
            "_model_name": "LayoutModel",
            "justify_items": null,
            "grid_row": null,
            "max_height": null,
            "align_content": null,
            "visibility": null,
            "align_self": null,
            "height": null,
            "min_height": null,
            "padding": null,
            "grid_auto_rows": null,
            "grid_gap": null,
            "max_width": null,
            "order": null,
            "_view_module_version": "1.2.0",
            "grid_template_areas": null,
            "object_position": null,
            "object_fit": null,
            "grid_auto_columns": null,
            "margin": null,
            "display": null,
            "left": null
          }
        },
        "459c799b36d445bbb613d692f6356655": {
          "model_module": "@jupyter-widgets/controls",
          "model_name": "VBoxModel",
          "state": {
            "_view_name": "VBoxView",
            "_dom_classes": [],
            "_model_name": "VBoxModel",
            "_view_module": "@jupyter-widgets/controls",
            "_model_module_version": "1.5.0",
            "_view_count": null,
            "_view_module_version": "1.5.0",
            "box_style": "",
            "layout": "IPY_MODEL_f6fce107c5354f92a19a8fe9fa55f5bb",
            "_model_module": "@jupyter-widgets/controls",
            "children": [
              "IPY_MODEL_a59b89ddfa1d478c9f9073c0351a96dc"
            ]
          }
        },
        "f6fce107c5354f92a19a8fe9fa55f5bb": {
          "model_module": "@jupyter-widgets/base",
          "model_name": "LayoutModel",
          "state": {
            "_view_name": "LayoutView",
            "grid_template_rows": null,
            "right": null,
            "justify_content": null,
            "_view_module": "@jupyter-widgets/base",
            "overflow": null,
            "_model_module_version": "1.2.0",
            "_view_count": null,
            "flex_flow": null,
            "width": null,
            "min_width": null,
            "border": "solid 2px green",
            "align_items": null,
            "bottom": null,
            "_model_module": "@jupyter-widgets/base",
            "top": null,
            "grid_column": null,
            "overflow_y": null,
            "overflow_x": null,
            "grid_auto_flow": null,
            "grid_area": null,
            "grid_template_columns": null,
            "flex": null,
            "_model_name": "LayoutModel",
            "justify_items": null,
            "grid_row": null,
            "max_height": null,
            "align_content": null,
            "visibility": null,
            "align_self": null,
            "height": null,
            "min_height": null,
            "padding": null,
            "grid_auto_rows": null,
            "grid_gap": null,
            "max_width": null,
            "order": null,
            "_view_module_version": "1.2.0",
            "grid_template_areas": null,
            "object_position": null,
            "object_fit": null,
            "grid_auto_columns": null,
            "margin": null,
            "display": "none",
            "left": null
          }
        },
        "a59b89ddfa1d478c9f9073c0351a96dc": {
          "model_module": "plotlywidget",
          "model_name": "FigureModel",
          "state": {
            "_view_name": "FigureView",
            "_py2js_animate": {},
            "_py2js_removeLayoutProps": {},
            "_last_trace_edit_id": 0,
            "_view_module": "plotlywidget",
            "_model_module_version": "^1.4.0",
            "_view_count": 0,
            "_js2py_relayout": {},
            "_py2js_moveTraces": {},
            "_py2js_addTraces": {},
            "_model_module": "plotlywidget",
            "_py2js_relayout": null,
            "_js2py_pointsCallback": {},
            "_js2py_update": {},
            "_js2py_restyle": {},
            "_py2js_removeTraceProps": {},
            "_py2js_deleteTraces": {},
            "_dom_classes": [],
            "_model_name": "FigureModel",
            "_layout": {},
            "_js2py_layoutDelta": {},
            "_py2js_update": {},
            "_data": [],
            "_config": {
              "plotlyServerURL": "https://plot.ly"
            },
            "_py2js_restyle": {},
            "_view_module_version": "^1.4.0",
            "_last_layout_edit_id": 0,
            "_js2py_traceDeltas": {}
          }
        }
      }
    }
  },
  "cells": [
    {
      "cell_type": "code",
      "metadata": {
        "id": "OD3WJG-8JMXA"
      },
      "source": [
        "#Packages\n",
        "import pandas as pd #Pour explorer les données\n",
        "import numpy as np #Pour l'algèbre linéaire\n",
        "import matplotlib.pyplot as plt #ce package sert à visualiser les données\n",
        "import plotly.express as px\n",
        "import plotly.graph_objects as go\n",
        "from ipywidgets import interact,widgets\n",
        "import folium "
      ],
      "execution_count": 30,
      "outputs": []
    },
    {
      "cell_type": "code",
      "metadata": {
        "id": "1wjveg5_LCLP"
      },
      "source": [
        "#Collecte de données\n",
        "confirme_df=pd.read_csv('https://raw.githubusercontent.com/CSSEGISandData/COVID-19/master/csse_covid_19_data/csse_covid_19_time_series/time_series_covid19_confirmed_global.csv')\n",
        "deces_df=pd.read_csv('https://raw.githubusercontent.com/CSSEGISandData/COVID-19/master/csse_covid_19_data/csse_covid_19_time_series/time_series_covid19_deaths_global.csv')\n",
        "retabli_df=pd.read_csv('https://raw.githubusercontent.com/CSSEGISandData/COVID-19/master/csse_covid_19_data/csse_covid_19_time_series/time_series_covid19_recovered_global.csv')\n",
        "etat_df=pd.read_csv('https://raw.githubusercontent.com/CSSEGISandData/COVID-19/web-data/data/cases_country.csv')"
      ],
      "execution_count": 7,
      "outputs": []
    },
    {
      "cell_type": "code",
      "metadata": {
        "colab": {
          "base_uri": "https://localhost:8080/"
        },
        "id": "2CblmHPHNhpn",
        "outputId": "7816b6cb-3b3b-415d-e8d6-f6e41b4b2907"
      },
      "source": [
        "print(confirme_df.shape)\n",
        "print(deces_df.shape)\n",
        "print(retabli_df.shape)\n",
        "print(etat_df.shape)"
      ],
      "execution_count": 8,
      "outputs": [
        {
          "output_type": "stream",
          "text": [
            "(274, 439)\n",
            "(274, 439)\n",
            "(259, 439)\n",
            "(192, 14)\n"
          ],
          "name": "stdout"
        }
      ]
    },
    {
      "cell_type": "code",
      "metadata": {
        "colab": {
          "base_uri": "https://localhost:8080/",
          "height": 359
        },
        "id": "ZFAeKODTOCk3",
        "outputId": "f2b575d5-24c7-49cc-a15b-0245270ed237"
      },
      "source": [
        "etat_df.head(10)"
      ],
      "execution_count": 11,
      "outputs": [
        {
          "output_type": "execute_result",
          "data": {
            "text/html": [
              "<div>\n",
              "<style scoped>\n",
              "    .dataframe tbody tr th:only-of-type {\n",
              "        vertical-align: middle;\n",
              "    }\n",
              "\n",
              "    .dataframe tbody tr th {\n",
              "        vertical-align: top;\n",
              "    }\n",
              "\n",
              "    .dataframe thead th {\n",
              "        text-align: right;\n",
              "    }\n",
              "</style>\n",
              "<table border=\"1\" class=\"dataframe\">\n",
              "  <thead>\n",
              "    <tr style=\"text-align: right;\">\n",
              "      <th></th>\n",
              "      <th>Country_Region</th>\n",
              "      <th>Last_Update</th>\n",
              "      <th>Lat</th>\n",
              "      <th>Long_</th>\n",
              "      <th>Confirmed</th>\n",
              "      <th>Deaths</th>\n",
              "      <th>Recovered</th>\n",
              "      <th>Active</th>\n",
              "      <th>Incident_Rate</th>\n",
              "      <th>People_Tested</th>\n",
              "      <th>People_Hospitalized</th>\n",
              "      <th>Mortality_Rate</th>\n",
              "      <th>UID</th>\n",
              "      <th>ISO3</th>\n",
              "    </tr>\n",
              "  </thead>\n",
              "  <tbody>\n",
              "    <tr>\n",
              "      <th>0</th>\n",
              "      <td>Afghanistan</td>\n",
              "      <td>2021-04-01 11:25:22</td>\n",
              "      <td>33.93911</td>\n",
              "      <td>67.709953</td>\n",
              "      <td>56454.0</td>\n",
              "      <td>2484.0</td>\n",
              "      <td>51788.0</td>\n",
              "      <td>2182.0</td>\n",
              "      <td>145.020308</td>\n",
              "      <td>NaN</td>\n",
              "      <td>NaN</td>\n",
              "      <td>4.400043</td>\n",
              "      <td>4</td>\n",
              "      <td>AFG</td>\n",
              "    </tr>\n",
              "    <tr>\n",
              "      <th>1</th>\n",
              "      <td>Albania</td>\n",
              "      <td>2021-04-01 11:25:22</td>\n",
              "      <td>41.15330</td>\n",
              "      <td>20.168300</td>\n",
              "      <td>125157.0</td>\n",
              "      <td>2235.0</td>\n",
              "      <td>91271.0</td>\n",
              "      <td>31651.0</td>\n",
              "      <td>4349.051359</td>\n",
              "      <td>NaN</td>\n",
              "      <td>NaN</td>\n",
              "      <td>1.785757</td>\n",
              "      <td>8</td>\n",
              "      <td>ALB</td>\n",
              "    </tr>\n",
              "    <tr>\n",
              "      <th>2</th>\n",
              "      <td>Algeria</td>\n",
              "      <td>2021-04-01 11:25:22</td>\n",
              "      <td>28.03390</td>\n",
              "      <td>1.659600</td>\n",
              "      <td>117192.0</td>\n",
              "      <td>3093.0</td>\n",
              "      <td>81538.0</td>\n",
              "      <td>32561.0</td>\n",
              "      <td>267.250200</td>\n",
              "      <td>NaN</td>\n",
              "      <td>NaN</td>\n",
              "      <td>2.639259</td>\n",
              "      <td>12</td>\n",
              "      <td>DZA</td>\n",
              "    </tr>\n",
              "    <tr>\n",
              "      <th>3</th>\n",
              "      <td>Andorra</td>\n",
              "      <td>2021-04-01 11:25:22</td>\n",
              "      <td>42.50630</td>\n",
              "      <td>1.521800</td>\n",
              "      <td>12010.0</td>\n",
              "      <td>115.0</td>\n",
              "      <td>11365.0</td>\n",
              "      <td>530.0</td>\n",
              "      <td>15543.907332</td>\n",
              "      <td>NaN</td>\n",
              "      <td>NaN</td>\n",
              "      <td>0.957535</td>\n",
              "      <td>20</td>\n",
              "      <td>AND</td>\n",
              "    </tr>\n",
              "    <tr>\n",
              "      <th>4</th>\n",
              "      <td>Angola</td>\n",
              "      <td>2021-04-01 11:25:22</td>\n",
              "      <td>-11.20270</td>\n",
              "      <td>17.873900</td>\n",
              "      <td>22311.0</td>\n",
              "      <td>537.0</td>\n",
              "      <td>20493.0</td>\n",
              "      <td>1281.0</td>\n",
              "      <td>67.884191</td>\n",
              "      <td>NaN</td>\n",
              "      <td>NaN</td>\n",
              "      <td>2.406884</td>\n",
              "      <td>24</td>\n",
              "      <td>AGO</td>\n",
              "    </tr>\n",
              "    <tr>\n",
              "      <th>5</th>\n",
              "      <td>Antigua and Barbuda</td>\n",
              "      <td>2021-04-01 11:25:22</td>\n",
              "      <td>17.06080</td>\n",
              "      <td>-61.796400</td>\n",
              "      <td>1136.0</td>\n",
              "      <td>28.0</td>\n",
              "      <td>820.0</td>\n",
              "      <td>288.0</td>\n",
              "      <td>1160.035945</td>\n",
              "      <td>NaN</td>\n",
              "      <td>NaN</td>\n",
              "      <td>2.464789</td>\n",
              "      <td>28</td>\n",
              "      <td>ATG</td>\n",
              "    </tr>\n",
              "    <tr>\n",
              "      <th>6</th>\n",
              "      <td>Argentina</td>\n",
              "      <td>2021-04-01 11:25:22</td>\n",
              "      <td>-38.41610</td>\n",
              "      <td>-63.616700</td>\n",
              "      <td>2348821.0</td>\n",
              "      <td>55858.0</td>\n",
              "      <td>2102616.0</td>\n",
              "      <td>190347.0</td>\n",
              "      <td>5196.992188</td>\n",
              "      <td>NaN</td>\n",
              "      <td>NaN</td>\n",
              "      <td>2.378129</td>\n",
              "      <td>32</td>\n",
              "      <td>ARG</td>\n",
              "    </tr>\n",
              "    <tr>\n",
              "      <th>7</th>\n",
              "      <td>Armenia</td>\n",
              "      <td>2021-04-01 11:25:22</td>\n",
              "      <td>40.06910</td>\n",
              "      <td>45.038200</td>\n",
              "      <td>193736.0</td>\n",
              "      <td>3533.0</td>\n",
              "      <td>173681.0</td>\n",
              "      <td>16522.0</td>\n",
              "      <td>6537.991937</td>\n",
              "      <td>NaN</td>\n",
              "      <td>NaN</td>\n",
              "      <td>1.823616</td>\n",
              "      <td>51</td>\n",
              "      <td>ARM</td>\n",
              "    </tr>\n",
              "    <tr>\n",
              "      <th>8</th>\n",
              "      <td>Australia</td>\n",
              "      <td>2021-04-01 11:25:22</td>\n",
              "      <td>-25.00000</td>\n",
              "      <td>133.000000</td>\n",
              "      <td>29323.0</td>\n",
              "      <td>909.0</td>\n",
              "      <td>23012.0</td>\n",
              "      <td>5402.0</td>\n",
              "      <td>115.174177</td>\n",
              "      <td>NaN</td>\n",
              "      <td>NaN</td>\n",
              "      <td>3.099956</td>\n",
              "      <td>36</td>\n",
              "      <td>AUS</td>\n",
              "    </tr>\n",
              "    <tr>\n",
              "      <th>9</th>\n",
              "      <td>Austria</td>\n",
              "      <td>2021-04-01 11:25:22</td>\n",
              "      <td>47.51620</td>\n",
              "      <td>14.550100</td>\n",
              "      <td>549592.0</td>\n",
              "      <td>9368.0</td>\n",
              "      <td>503729.0</td>\n",
              "      <td>36495.0</td>\n",
              "      <td>6102.238408</td>\n",
              "      <td>NaN</td>\n",
              "      <td>NaN</td>\n",
              "      <td>1.704537</td>\n",
              "      <td>40</td>\n",
              "      <td>AUT</td>\n",
              "    </tr>\n",
              "  </tbody>\n",
              "</table>\n",
              "</div>"
            ],
            "text/plain": [
              "        Country_Region          Last_Update       Lat  ...  Mortality_Rate  UID  ISO3\n",
              "0          Afghanistan  2021-04-01 11:25:22  33.93911  ...        4.400043    4   AFG\n",
              "1              Albania  2021-04-01 11:25:22  41.15330  ...        1.785757    8   ALB\n",
              "2              Algeria  2021-04-01 11:25:22  28.03390  ...        2.639259   12   DZA\n",
              "3              Andorra  2021-04-01 11:25:22  42.50630  ...        0.957535   20   AND\n",
              "4               Angola  2021-04-01 11:25:22 -11.20270  ...        2.406884   24   AGO\n",
              "5  Antigua and Barbuda  2021-04-01 11:25:22  17.06080  ...        2.464789   28   ATG\n",
              "6            Argentina  2021-04-01 11:25:22 -38.41610  ...        2.378129   32   ARG\n",
              "7              Armenia  2021-04-01 11:25:22  40.06910  ...        1.823616   51   ARM\n",
              "8            Australia  2021-04-01 11:25:22 -25.00000  ...        3.099956   36   AUS\n",
              "9              Austria  2021-04-01 11:25:22  47.51620  ...        1.704537   40   AUT\n",
              "\n",
              "[10 rows x 14 columns]"
            ]
          },
          "metadata": {
            "tags": []
          },
          "execution_count": 11
        }
      ]
    },
    {
      "cell_type": "code",
      "metadata": {
        "colab": {
          "base_uri": "https://localhost:8080/",
          "height": 80
        },
        "id": "zpZGp2BkQJLu",
        "outputId": "0c23d3ba-2197-4d92-9575-4b45ae0a18ba"
      },
      "source": [
        "etat_df[etat_df['Country_Region']=='China']"
      ],
      "execution_count": 13,
      "outputs": [
        {
          "output_type": "execute_result",
          "data": {
            "text/html": [
              "<div>\n",
              "<style scoped>\n",
              "    .dataframe tbody tr th:only-of-type {\n",
              "        vertical-align: middle;\n",
              "    }\n",
              "\n",
              "    .dataframe tbody tr th {\n",
              "        vertical-align: top;\n",
              "    }\n",
              "\n",
              "    .dataframe thead th {\n",
              "        text-align: right;\n",
              "    }\n",
              "</style>\n",
              "<table border=\"1\" class=\"dataframe\">\n",
              "  <thead>\n",
              "    <tr style=\"text-align: right;\">\n",
              "      <th></th>\n",
              "      <th>Country_Region</th>\n",
              "      <th>Last_Update</th>\n",
              "      <th>Lat</th>\n",
              "      <th>Long_</th>\n",
              "      <th>Confirmed</th>\n",
              "      <th>Deaths</th>\n",
              "      <th>Recovered</th>\n",
              "      <th>Active</th>\n",
              "      <th>Incident_Rate</th>\n",
              "      <th>People_Tested</th>\n",
              "      <th>People_Hospitalized</th>\n",
              "      <th>Mortality_Rate</th>\n",
              "      <th>UID</th>\n",
              "      <th>ISO3</th>\n",
              "    </tr>\n",
              "  </thead>\n",
              "  <tbody>\n",
              "    <tr>\n",
              "      <th>36</th>\n",
              "      <td>China</td>\n",
              "      <td>2021-04-01 11:25:22</td>\n",
              "      <td>30.5928</td>\n",
              "      <td>114.3055</td>\n",
              "      <td>101745.0</td>\n",
              "      <td>4841.0</td>\n",
              "      <td>96549.0</td>\n",
              "      <td>355.0</td>\n",
              "      <td>7.243306</td>\n",
              "      <td>NaN</td>\n",
              "      <td>NaN</td>\n",
              "      <td>4.757973</td>\n",
              "      <td>156</td>\n",
              "      <td>CHN</td>\n",
              "    </tr>\n",
              "  </tbody>\n",
              "</table>\n",
              "</div>"
            ],
            "text/plain": [
              "   Country_Region          Last_Update      Lat  ...  Mortality_Rate  UID  ISO3\n",
              "36          China  2021-04-01 11:25:22  30.5928  ...        4.757973  156   CHN\n",
              "\n",
              "[1 rows x 14 columns]"
            ]
          },
          "metadata": {
            "tags": []
          },
          "execution_count": 13
        }
      ]
    },
    {
      "cell_type": "code",
      "metadata": {
        "colab": {
          "base_uri": "https://localhost:8080/"
        },
        "id": "dhtDNFySQt7W",
        "outputId": "b3d895c3-5774-4291-fedc-d44698f49098"
      },
      "source": [
        "etat_df.columns"
      ],
      "execution_count": 14,
      "outputs": [
        {
          "output_type": "execute_result",
          "data": {
            "text/plain": [
              "Index(['Country_Region', 'Last_Update', 'Lat', 'Long_', 'Confirmed', 'Deaths',\n",
              "       'Recovered', 'Active', 'Incident_Rate', 'People_Tested',\n",
              "       'People_Hospitalized', 'Mortality_Rate', 'UID', 'ISO3'],\n",
              "      dtype='object')"
            ]
          },
          "metadata": {
            "tags": []
          },
          "execution_count": 14
        }
      ]
    },
    {
      "cell_type": "code",
      "metadata": {
        "colab": {
          "base_uri": "https://localhost:8080/",
          "height": 80
        },
        "id": "5Wvc5X31Qdr-",
        "outputId": "305d5104-d1cc-4af7-f1b2-447b5e00efa7"
      },
      "source": [
        "#Afficher les statistiques au niveau du monde\n",
        "global_data=etat_df.copy().drop(['Country_Region','Last_Update', 'Lat', 'Long_', 'Active', 'Incident_Rate', 'People_Tested',\n",
        "       'People_Hospitalized', 'Mortality_Rate', 'UID', 'ISO3'],axis=1)\n",
        "global_synthese=pd.DataFrame(global_data.sum()).transpose()\n",
        "global_synthese"
      ],
      "execution_count": 17,
      "outputs": [
        {
          "output_type": "execute_result",
          "data": {
            "text/html": [
              "<div>\n",
              "<style scoped>\n",
              "    .dataframe tbody tr th:only-of-type {\n",
              "        vertical-align: middle;\n",
              "    }\n",
              "\n",
              "    .dataframe tbody tr th {\n",
              "        vertical-align: top;\n",
              "    }\n",
              "\n",
              "    .dataframe thead th {\n",
              "        text-align: right;\n",
              "    }\n",
              "</style>\n",
              "<table border=\"1\" class=\"dataframe\">\n",
              "  <thead>\n",
              "    <tr style=\"text-align: right;\">\n",
              "      <th></th>\n",
              "      <th>Confirmed</th>\n",
              "      <th>Deaths</th>\n",
              "      <th>Recovered</th>\n",
              "    </tr>\n",
              "  </thead>\n",
              "  <tbody>\n",
              "    <tr>\n",
              "      <th>0</th>\n",
              "      <td>129015662.0</td>\n",
              "      <td>2818170.0</td>\n",
              "      <td>73195043.0</td>\n",
              "    </tr>\n",
              "  </tbody>\n",
              "</table>\n",
              "</div>"
            ],
            "text/plain": [
              "     Confirmed     Deaths   Recovered\n",
              "0  129015662.0  2818170.0  73195043.0"
            ]
          },
          "metadata": {
            "tags": []
          },
          "execution_count": 17
        }
      ]
    },
    {
      "cell_type": "code",
      "metadata": {
        "colab": {
          "base_uri": "https://localhost:8080/",
          "height": 1000,
          "referenced_widgets": [
            "ce243bb1be7a4dd89587b71a3d16d7d8",
            "6bb0fc4053c34ed5bce0c73a1c9aa815",
            "695da54e1576490cad63a5a733f94ecd",
            "26b5d624a7e940e3940b70a7129700d9",
            "18180e158d2d4df78fc3588d6c6626af",
            "f1f2dab264454f10a7dc05b48fa5e403",
            "61f0560e52a444dbaf5b5f79410c10b0",
            "459c799b36d445bbb613d692f6356655",
            "f6fce107c5354f92a19a8fe9fa55f5bb",
            "a59b89ddfa1d478c9f9073c0351a96dc"
          ]
        },
        "id": "dcnGrzj9RmFH",
        "outputId": "ca0c0443-5bbf-4dd0-dbb7-2f90fb1e74dd"
      },
      "source": [
        "#Visualiser les payes les plus touchés\n",
        "fig=go.FigureWidget(layout=go.Layout())\n",
        "def highlight_col(x):\n",
        "  r='background-color:red'\n",
        "  y='background-color:yellow'\n",
        "  g='background-color:green'\n",
        "  df1=pd.DataFrame('',index=x.index,columns=x.columns)\n",
        "  df1.iloc[:,4]=y\n",
        "  df1.iloc[:,5]=r\n",
        "  df1.iloc[:,6]=g\n",
        "\n",
        "  return df1\n",
        "\n",
        "def show_cases(n):\n",
        "  n=int(n)\n",
        "  return etat_df.sort_values('Confirmed',ascending=False).head(n).style.apply(highlight_col,axis=None)\n",
        "\n",
        "interact(show_cases,n='10')\n",
        "\n",
        "ipywLayout=widgets.Layout(border='solid 2px green')\n",
        "ipywLayout.display ='none'\n",
        "widgets.VBox([fig],layout=ipywLayout)"
      ],
      "execution_count": 21,
      "outputs": [
        {
          "output_type": "display_data",
          "data": {
            "application/vnd.jupyter.widget-view+json": {
              "model_id": "ce243bb1be7a4dd89587b71a3d16d7d8",
              "version_minor": 0,
              "version_major": 2
            },
            "text/plain": [
              "interactive(children=(Text(value='10', description='n'), Output()), _dom_classes=('widget-interact',))"
            ]
          },
          "metadata": {
            "tags": []
          }
        },
        {
          "output_type": "display_data",
          "data": {
            "application/vnd.jupyter.widget-view+json": {
              "model_id": "459c799b36d445bbb613d692f6356655",
              "version_minor": 0,
              "version_major": 2
            },
            "text/plain": [
              "VBox(children=(FigureWidget({\n",
              "    'data': [], 'layout': {'template': '...'}\n",
              "}),), layout=Layout(border='solid …"
            ]
          },
          "metadata": {
            "tags": []
          }
        }
      ]
    },
    {
      "cell_type": "code",
      "metadata": {
        "colab": {
          "base_uri": "https://localhost:8080/"
        },
        "id": "eQUQbAALUW6H",
        "outputId": "e7df1bee-87e6-486a-ec6a-82c4fc480fd6"
      },
      "source": [
        "etat_class_df=etat_df.sort_values('Confirmed',ascending=False)\n",
        "etat_class_df.columns"
      ],
      "execution_count": 23,
      "outputs": [
        {
          "output_type": "execute_result",
          "data": {
            "text/plain": [
              "Index(['Country_Region', 'Last_Update', 'Lat', 'Long_', 'Confirmed', 'Deaths',\n",
              "       'Recovered', 'Active', 'Incident_Rate', 'People_Tested',\n",
              "       'People_Hospitalized', 'Mortality_Rate', 'UID', 'ISO3'],\n",
              "      dtype='object')"
            ]
          },
          "metadata": {
            "tags": []
          },
          "execution_count": 23
        }
      ]
    },
    {
      "cell_type": "code",
      "metadata": {
        "colab": {
          "base_uri": "https://localhost:8080/",
          "height": 517
        },
        "id": "Y9_ccwPkVNzX",
        "outputId": "bda5a7d0-8204-4703-b94e-fd939c8c3f34"
      },
      "source": [
        "px.bar(\n",
        "    etat_class_df.head(10),\n",
        "    x='Country_Region',\n",
        "    y='Confirmed',\n",
        "  title='Les pays les plus impactés par COVID-19 (cas confirmé)',\n",
        "  color_discrete_sequence=['yellow'],\n",
        "  height=500,\n",
        "  width=800\n",
        ")"
      ],
      "execution_count": 24,
      "outputs": [
        {
          "output_type": "display_data",
          "data": {
            "text/html": [
              "<html>\n",
              "<head><meta charset=\"utf-8\" /></head>\n",
              "<body>\n",
              "    <div>\n",
              "            <script src=\"https://cdnjs.cloudflare.com/ajax/libs/mathjax/2.7.5/MathJax.js?config=TeX-AMS-MML_SVG\"></script><script type=\"text/javascript\">if (window.MathJax) {MathJax.Hub.Config({SVG: {font: \"STIX-Web\"}});}</script>\n",
              "                <script type=\"text/javascript\">window.PlotlyConfig = {MathJaxConfig: 'local'};</script>\n",
              "        <script src=\"https://cdn.plot.ly/plotly-latest.min.js\"></script>    \n",
              "            <div id=\"5c41b16c-61da-4ed8-82d0-1fed1723db0f\" class=\"plotly-graph-div\" style=\"height:500px; width:800px;\"></div>\n",
              "            <script type=\"text/javascript\">\n",
              "                \n",
              "                    window.PLOTLYENV=window.PLOTLYENV || {};\n",
              "                    \n",
              "                if (document.getElementById(\"5c41b16c-61da-4ed8-82d0-1fed1723db0f\")) {\n",
              "                    Plotly.newPlot(\n",
              "                        '5c41b16c-61da-4ed8-82d0-1fed1723db0f',\n",
              "                        [{\"alignmentgroup\": \"True\", \"hoverlabel\": {\"namelength\": 0}, \"hovertemplate\": \"Country_Region=%{x}<br>Confirmed=%{y}\", \"legendgroup\": \"\", \"marker\": {\"color\": \"yellow\"}, \"name\": \"\", \"offsetgroup\": \"\", \"orientation\": \"v\", \"showlegend\": false, \"textposition\": \"auto\", \"type\": \"bar\", \"x\": [\"US\", \"Brazil\", \"India\", \"France\", \"Russia\", \"United Kingdom\", \"Italy\", \"Turkey\", \"Spain\", \"Germany\"], \"xaxis\": \"x\", \"y\": [30461066.0, 12748747.0, 12221665.0, 4705074.0, 4503291.0, 4359984.0, 3584899.0, 3317182.0, 3284353.0, 2843644.0], \"yaxis\": \"y\"}],\n",
              "                        {\"barmode\": \"relative\", \"height\": 500, \"legend\": {\"tracegroupgap\": 0}, \"template\": {\"data\": {\"bar\": [{\"error_x\": {\"color\": \"#2a3f5f\"}, \"error_y\": {\"color\": \"#2a3f5f\"}, \"marker\": {\"line\": {\"color\": \"#E5ECF6\", \"width\": 0.5}}, \"type\": \"bar\"}], \"barpolar\": [{\"marker\": {\"line\": {\"color\": \"#E5ECF6\", \"width\": 0.5}}, \"type\": \"barpolar\"}], \"carpet\": [{\"aaxis\": {\"endlinecolor\": \"#2a3f5f\", \"gridcolor\": \"white\", \"linecolor\": \"white\", \"minorgridcolor\": \"white\", \"startlinecolor\": \"#2a3f5f\"}, \"baxis\": {\"endlinecolor\": \"#2a3f5f\", \"gridcolor\": \"white\", \"linecolor\": \"white\", \"minorgridcolor\": \"white\", \"startlinecolor\": \"#2a3f5f\"}, \"type\": \"carpet\"}], \"choropleth\": [{\"colorbar\": {\"outlinewidth\": 0, \"ticks\": \"\"}, \"type\": \"choropleth\"}], \"contour\": [{\"colorbar\": {\"outlinewidth\": 0, \"ticks\": \"\"}, \"colorscale\": [[0.0, \"#0d0887\"], [0.1111111111111111, \"#46039f\"], [0.2222222222222222, \"#7201a8\"], [0.3333333333333333, \"#9c179e\"], [0.4444444444444444, \"#bd3786\"], [0.5555555555555556, \"#d8576b\"], [0.6666666666666666, \"#ed7953\"], [0.7777777777777778, \"#fb9f3a\"], [0.8888888888888888, \"#fdca26\"], [1.0, \"#f0f921\"]], \"type\": \"contour\"}], \"contourcarpet\": [{\"colorbar\": {\"outlinewidth\": 0, \"ticks\": \"\"}, \"type\": \"contourcarpet\"}], \"heatmap\": [{\"colorbar\": {\"outlinewidth\": 0, \"ticks\": \"\"}, \"colorscale\": [[0.0, \"#0d0887\"], [0.1111111111111111, \"#46039f\"], [0.2222222222222222, \"#7201a8\"], [0.3333333333333333, \"#9c179e\"], [0.4444444444444444, \"#bd3786\"], [0.5555555555555556, \"#d8576b\"], [0.6666666666666666, \"#ed7953\"], [0.7777777777777778, \"#fb9f3a\"], [0.8888888888888888, \"#fdca26\"], [1.0, \"#f0f921\"]], \"type\": \"heatmap\"}], \"heatmapgl\": [{\"colorbar\": {\"outlinewidth\": 0, \"ticks\": \"\"}, \"colorscale\": [[0.0, \"#0d0887\"], [0.1111111111111111, \"#46039f\"], [0.2222222222222222, \"#7201a8\"], [0.3333333333333333, \"#9c179e\"], [0.4444444444444444, \"#bd3786\"], [0.5555555555555556, \"#d8576b\"], [0.6666666666666666, \"#ed7953\"], [0.7777777777777778, \"#fb9f3a\"], [0.8888888888888888, \"#fdca26\"], [1.0, \"#f0f921\"]], \"type\": \"heatmapgl\"}], \"histogram\": [{\"marker\": {\"colorbar\": {\"outlinewidth\": 0, \"ticks\": \"\"}}, \"type\": \"histogram\"}], \"histogram2d\": [{\"colorbar\": {\"outlinewidth\": 0, \"ticks\": \"\"}, \"colorscale\": [[0.0, \"#0d0887\"], [0.1111111111111111, \"#46039f\"], [0.2222222222222222, \"#7201a8\"], [0.3333333333333333, \"#9c179e\"], [0.4444444444444444, \"#bd3786\"], [0.5555555555555556, \"#d8576b\"], [0.6666666666666666, \"#ed7953\"], [0.7777777777777778, \"#fb9f3a\"], [0.8888888888888888, \"#fdca26\"], [1.0, \"#f0f921\"]], \"type\": \"histogram2d\"}], \"histogram2dcontour\": [{\"colorbar\": {\"outlinewidth\": 0, \"ticks\": \"\"}, \"colorscale\": [[0.0, \"#0d0887\"], [0.1111111111111111, \"#46039f\"], [0.2222222222222222, \"#7201a8\"], [0.3333333333333333, \"#9c179e\"], [0.4444444444444444, \"#bd3786\"], [0.5555555555555556, \"#d8576b\"], [0.6666666666666666, \"#ed7953\"], [0.7777777777777778, \"#fb9f3a\"], [0.8888888888888888, \"#fdca26\"], [1.0, \"#f0f921\"]], \"type\": \"histogram2dcontour\"}], \"mesh3d\": [{\"colorbar\": {\"outlinewidth\": 0, \"ticks\": \"\"}, \"type\": \"mesh3d\"}], \"parcoords\": [{\"line\": {\"colorbar\": {\"outlinewidth\": 0, \"ticks\": \"\"}}, \"type\": \"parcoords\"}], \"pie\": [{\"automargin\": true, \"type\": \"pie\"}], \"scatter\": [{\"marker\": {\"colorbar\": {\"outlinewidth\": 0, \"ticks\": \"\"}}, \"type\": \"scatter\"}], \"scatter3d\": [{\"line\": {\"colorbar\": {\"outlinewidth\": 0, \"ticks\": \"\"}}, \"marker\": {\"colorbar\": {\"outlinewidth\": 0, \"ticks\": \"\"}}, \"type\": \"scatter3d\"}], \"scattercarpet\": [{\"marker\": {\"colorbar\": {\"outlinewidth\": 0, \"ticks\": \"\"}}, \"type\": \"scattercarpet\"}], \"scattergeo\": [{\"marker\": {\"colorbar\": {\"outlinewidth\": 0, \"ticks\": \"\"}}, \"type\": \"scattergeo\"}], \"scattergl\": [{\"marker\": {\"colorbar\": {\"outlinewidth\": 0, \"ticks\": \"\"}}, \"type\": \"scattergl\"}], \"scattermapbox\": [{\"marker\": {\"colorbar\": {\"outlinewidth\": 0, \"ticks\": \"\"}}, \"type\": \"scattermapbox\"}], \"scatterpolar\": [{\"marker\": {\"colorbar\": {\"outlinewidth\": 0, \"ticks\": \"\"}}, \"type\": \"scatterpolar\"}], \"scatterpolargl\": [{\"marker\": {\"colorbar\": {\"outlinewidth\": 0, \"ticks\": \"\"}}, \"type\": \"scatterpolargl\"}], \"scatterternary\": [{\"marker\": {\"colorbar\": {\"outlinewidth\": 0, \"ticks\": \"\"}}, \"type\": \"scatterternary\"}], \"surface\": [{\"colorbar\": {\"outlinewidth\": 0, \"ticks\": \"\"}, \"colorscale\": [[0.0, \"#0d0887\"], [0.1111111111111111, \"#46039f\"], [0.2222222222222222, \"#7201a8\"], [0.3333333333333333, \"#9c179e\"], [0.4444444444444444, \"#bd3786\"], [0.5555555555555556, \"#d8576b\"], [0.6666666666666666, \"#ed7953\"], [0.7777777777777778, \"#fb9f3a\"], [0.8888888888888888, \"#fdca26\"], [1.0, \"#f0f921\"]], \"type\": \"surface\"}], \"table\": [{\"cells\": {\"fill\": {\"color\": \"#EBF0F8\"}, \"line\": {\"color\": \"white\"}}, \"header\": {\"fill\": {\"color\": \"#C8D4E3\"}, \"line\": {\"color\": \"white\"}}, \"type\": \"table\"}]}, \"layout\": {\"annotationdefaults\": {\"arrowcolor\": \"#2a3f5f\", \"arrowhead\": 0, \"arrowwidth\": 1}, \"coloraxis\": {\"colorbar\": {\"outlinewidth\": 0, \"ticks\": \"\"}}, \"colorscale\": {\"diverging\": [[0, \"#8e0152\"], [0.1, \"#c51b7d\"], [0.2, \"#de77ae\"], [0.3, \"#f1b6da\"], [0.4, \"#fde0ef\"], [0.5, \"#f7f7f7\"], [0.6, \"#e6f5d0\"], [0.7, \"#b8e186\"], [0.8, \"#7fbc41\"], [0.9, \"#4d9221\"], [1, \"#276419\"]], \"sequential\": [[0.0, \"#0d0887\"], [0.1111111111111111, \"#46039f\"], [0.2222222222222222, \"#7201a8\"], [0.3333333333333333, \"#9c179e\"], [0.4444444444444444, \"#bd3786\"], [0.5555555555555556, \"#d8576b\"], [0.6666666666666666, \"#ed7953\"], [0.7777777777777778, \"#fb9f3a\"], [0.8888888888888888, \"#fdca26\"], [1.0, \"#f0f921\"]], \"sequentialminus\": [[0.0, \"#0d0887\"], [0.1111111111111111, \"#46039f\"], [0.2222222222222222, \"#7201a8\"], [0.3333333333333333, \"#9c179e\"], [0.4444444444444444, \"#bd3786\"], [0.5555555555555556, \"#d8576b\"], [0.6666666666666666, \"#ed7953\"], [0.7777777777777778, \"#fb9f3a\"], [0.8888888888888888, \"#fdca26\"], [1.0, \"#f0f921\"]]}, \"colorway\": [\"#636efa\", \"#EF553B\", \"#00cc96\", \"#ab63fa\", \"#FFA15A\", \"#19d3f3\", \"#FF6692\", \"#B6E880\", \"#FF97FF\", \"#FECB52\"], \"font\": {\"color\": \"#2a3f5f\"}, \"geo\": {\"bgcolor\": \"white\", \"lakecolor\": \"white\", \"landcolor\": \"#E5ECF6\", \"showlakes\": true, \"showland\": true, \"subunitcolor\": \"white\"}, \"hoverlabel\": {\"align\": \"left\"}, \"hovermode\": \"closest\", \"mapbox\": {\"style\": \"light\"}, \"paper_bgcolor\": \"white\", \"plot_bgcolor\": \"#E5ECF6\", \"polar\": {\"angularaxis\": {\"gridcolor\": \"white\", \"linecolor\": \"white\", \"ticks\": \"\"}, \"bgcolor\": \"#E5ECF6\", \"radialaxis\": {\"gridcolor\": \"white\", \"linecolor\": \"white\", \"ticks\": \"\"}}, \"scene\": {\"xaxis\": {\"backgroundcolor\": \"#E5ECF6\", \"gridcolor\": \"white\", \"gridwidth\": 2, \"linecolor\": \"white\", \"showbackground\": true, \"ticks\": \"\", \"zerolinecolor\": \"white\"}, \"yaxis\": {\"backgroundcolor\": \"#E5ECF6\", \"gridcolor\": \"white\", \"gridwidth\": 2, \"linecolor\": \"white\", \"showbackground\": true, \"ticks\": \"\", \"zerolinecolor\": \"white\"}, \"zaxis\": {\"backgroundcolor\": \"#E5ECF6\", \"gridcolor\": \"white\", \"gridwidth\": 2, \"linecolor\": \"white\", \"showbackground\": true, \"ticks\": \"\", \"zerolinecolor\": \"white\"}}, \"shapedefaults\": {\"line\": {\"color\": \"#2a3f5f\"}}, \"ternary\": {\"aaxis\": {\"gridcolor\": \"white\", \"linecolor\": \"white\", \"ticks\": \"\"}, \"baxis\": {\"gridcolor\": \"white\", \"linecolor\": \"white\", \"ticks\": \"\"}, \"bgcolor\": \"#E5ECF6\", \"caxis\": {\"gridcolor\": \"white\", \"linecolor\": \"white\", \"ticks\": \"\"}}, \"title\": {\"x\": 0.05}, \"xaxis\": {\"automargin\": true, \"gridcolor\": \"white\", \"linecolor\": \"white\", \"ticks\": \"\", \"title\": {\"standoff\": 15}, \"zerolinecolor\": \"white\", \"zerolinewidth\": 2}, \"yaxis\": {\"automargin\": true, \"gridcolor\": \"white\", \"linecolor\": \"white\", \"ticks\": \"\", \"title\": {\"standoff\": 15}, \"zerolinecolor\": \"white\", \"zerolinewidth\": 2}}}, \"title\": {\"text\": \"Les pays les plus impact\\u00e9s par COVID-19 (cas confirm\\u00e9)\"}, \"width\": 800, \"xaxis\": {\"anchor\": \"y\", \"domain\": [0.0, 1.0], \"title\": {\"text\": \"Country_Region\"}}, \"yaxis\": {\"anchor\": \"x\", \"domain\": [0.0, 1.0], \"title\": {\"text\": \"Confirmed\"}}},\n",
              "                        {\"responsive\": true}\n",
              "                    ).then(function(){\n",
              "                            \n",
              "var gd = document.getElementById('5c41b16c-61da-4ed8-82d0-1fed1723db0f');\n",
              "var x = new MutationObserver(function (mutations, observer) {{\n",
              "        var display = window.getComputedStyle(gd).display;\n",
              "        if (!display || display === 'none') {{\n",
              "            console.log([gd, 'removed!']);\n",
              "            Plotly.purge(gd);\n",
              "            observer.disconnect();\n",
              "        }}\n",
              "}});\n",
              "\n",
              "// Listen for the removal of the full notebook cells\n",
              "var notebookContainer = gd.closest('#notebook-container');\n",
              "if (notebookContainer) {{\n",
              "    x.observe(notebookContainer, {childList: true});\n",
              "}}\n",
              "\n",
              "// Listen for the clearing of the current output cell\n",
              "var outputEl = gd.closest('.output');\n",
              "if (outputEl) {{\n",
              "    x.observe(outputEl, {childList: true});\n",
              "}}\n",
              "\n",
              "                        })\n",
              "                };\n",
              "                \n",
              "            </script>\n",
              "        </div>\n",
              "</body>\n",
              "</html>"
            ]
          },
          "metadata": {
            "tags": []
          }
        }
      ]
    },
    {
      "cell_type": "code",
      "metadata": {
        "colab": {
          "base_uri": "https://localhost:8080/",
          "height": 517
        },
        "id": "8SXo2AkdV4V-",
        "outputId": "3b93055e-67a1-44cb-e1dd-feed6f1e392e"
      },
      "source": [
        "px.bar(\n",
        "    etat_class_df.head(10),\n",
        "    x='Country_Region',\n",
        "    y='Deaths',\n",
        "  title='Les pays les plus impactés par COVID-19 (Decès)',\n",
        "  color_discrete_sequence=['red'],\n",
        "  height=500,\n",
        "  width=800\n",
        ")"
      ],
      "execution_count": 25,
      "outputs": [
        {
          "output_type": "display_data",
          "data": {
            "text/html": [
              "<html>\n",
              "<head><meta charset=\"utf-8\" /></head>\n",
              "<body>\n",
              "    <div>\n",
              "            <script src=\"https://cdnjs.cloudflare.com/ajax/libs/mathjax/2.7.5/MathJax.js?config=TeX-AMS-MML_SVG\"></script><script type=\"text/javascript\">if (window.MathJax) {MathJax.Hub.Config({SVG: {font: \"STIX-Web\"}});}</script>\n",
              "                <script type=\"text/javascript\">window.PlotlyConfig = {MathJaxConfig: 'local'};</script>\n",
              "        <script src=\"https://cdn.plot.ly/plotly-latest.min.js\"></script>    \n",
              "            <div id=\"c86fe6c4-2eb5-47d0-9fc4-4c639cd220ee\" class=\"plotly-graph-div\" style=\"height:500px; width:800px;\"></div>\n",
              "            <script type=\"text/javascript\">\n",
              "                \n",
              "                    window.PLOTLYENV=window.PLOTLYENV || {};\n",
              "                    \n",
              "                if (document.getElementById(\"c86fe6c4-2eb5-47d0-9fc4-4c639cd220ee\")) {\n",
              "                    Plotly.newPlot(\n",
              "                        'c86fe6c4-2eb5-47d0-9fc4-4c639cd220ee',\n",
              "                        [{\"alignmentgroup\": \"True\", \"hoverlabel\": {\"namelength\": 0}, \"hovertemplate\": \"Country_Region=%{x}<br>Deaths=%{y}\", \"legendgroup\": \"\", \"marker\": {\"color\": \"red\"}, \"name\": \"\", \"offsetgroup\": \"\", \"orientation\": \"v\", \"showlegend\": false, \"textposition\": \"auto\", \"type\": \"bar\", \"x\": [\"US\", \"Brazil\", \"India\", \"France\", \"Russia\", \"United Kingdom\", \"Italy\", \"Turkey\", \"Spain\", \"Germany\"], \"xaxis\": \"x\", \"y\": [552073.0, 321515.0, 162927.0, 95798.0, 97594.0, 126955.0, 109346.0, 31537.0, 75459.0, 76589.0], \"yaxis\": \"y\"}],\n",
              "                        {\"barmode\": \"relative\", \"height\": 500, \"legend\": {\"tracegroupgap\": 0}, \"template\": {\"data\": {\"bar\": [{\"error_x\": {\"color\": \"#2a3f5f\"}, \"error_y\": {\"color\": \"#2a3f5f\"}, \"marker\": {\"line\": {\"color\": \"#E5ECF6\", \"width\": 0.5}}, \"type\": \"bar\"}], \"barpolar\": [{\"marker\": {\"line\": {\"color\": \"#E5ECF6\", \"width\": 0.5}}, \"type\": \"barpolar\"}], \"carpet\": [{\"aaxis\": {\"endlinecolor\": \"#2a3f5f\", \"gridcolor\": \"white\", \"linecolor\": \"white\", \"minorgridcolor\": \"white\", \"startlinecolor\": \"#2a3f5f\"}, \"baxis\": {\"endlinecolor\": \"#2a3f5f\", \"gridcolor\": \"white\", \"linecolor\": \"white\", \"minorgridcolor\": \"white\", \"startlinecolor\": \"#2a3f5f\"}, \"type\": \"carpet\"}], \"choropleth\": [{\"colorbar\": {\"outlinewidth\": 0, \"ticks\": \"\"}, \"type\": \"choropleth\"}], \"contour\": [{\"colorbar\": {\"outlinewidth\": 0, \"ticks\": \"\"}, \"colorscale\": [[0.0, \"#0d0887\"], [0.1111111111111111, \"#46039f\"], [0.2222222222222222, \"#7201a8\"], [0.3333333333333333, \"#9c179e\"], [0.4444444444444444, \"#bd3786\"], [0.5555555555555556, \"#d8576b\"], [0.6666666666666666, \"#ed7953\"], [0.7777777777777778, \"#fb9f3a\"], [0.8888888888888888, \"#fdca26\"], [1.0, \"#f0f921\"]], \"type\": \"contour\"}], \"contourcarpet\": [{\"colorbar\": {\"outlinewidth\": 0, \"ticks\": \"\"}, \"type\": \"contourcarpet\"}], \"heatmap\": [{\"colorbar\": {\"outlinewidth\": 0, \"ticks\": \"\"}, \"colorscale\": [[0.0, \"#0d0887\"], [0.1111111111111111, \"#46039f\"], [0.2222222222222222, \"#7201a8\"], [0.3333333333333333, \"#9c179e\"], [0.4444444444444444, \"#bd3786\"], [0.5555555555555556, \"#d8576b\"], [0.6666666666666666, \"#ed7953\"], [0.7777777777777778, \"#fb9f3a\"], [0.8888888888888888, \"#fdca26\"], [1.0, \"#f0f921\"]], \"type\": \"heatmap\"}], \"heatmapgl\": [{\"colorbar\": {\"outlinewidth\": 0, \"ticks\": \"\"}, \"colorscale\": [[0.0, \"#0d0887\"], [0.1111111111111111, \"#46039f\"], [0.2222222222222222, \"#7201a8\"], [0.3333333333333333, \"#9c179e\"], [0.4444444444444444, \"#bd3786\"], [0.5555555555555556, \"#d8576b\"], [0.6666666666666666, \"#ed7953\"], [0.7777777777777778, \"#fb9f3a\"], [0.8888888888888888, \"#fdca26\"], [1.0, \"#f0f921\"]], \"type\": \"heatmapgl\"}], \"histogram\": [{\"marker\": {\"colorbar\": {\"outlinewidth\": 0, \"ticks\": \"\"}}, \"type\": \"histogram\"}], \"histogram2d\": [{\"colorbar\": {\"outlinewidth\": 0, \"ticks\": \"\"}, \"colorscale\": [[0.0, \"#0d0887\"], [0.1111111111111111, \"#46039f\"], [0.2222222222222222, \"#7201a8\"], [0.3333333333333333, \"#9c179e\"], [0.4444444444444444, \"#bd3786\"], [0.5555555555555556, \"#d8576b\"], [0.6666666666666666, \"#ed7953\"], [0.7777777777777778, \"#fb9f3a\"], [0.8888888888888888, \"#fdca26\"], [1.0, \"#f0f921\"]], \"type\": \"histogram2d\"}], \"histogram2dcontour\": [{\"colorbar\": {\"outlinewidth\": 0, \"ticks\": \"\"}, \"colorscale\": [[0.0, \"#0d0887\"], [0.1111111111111111, \"#46039f\"], [0.2222222222222222, \"#7201a8\"], [0.3333333333333333, \"#9c179e\"], [0.4444444444444444, \"#bd3786\"], [0.5555555555555556, \"#d8576b\"], [0.6666666666666666, \"#ed7953\"], [0.7777777777777778, \"#fb9f3a\"], [0.8888888888888888, \"#fdca26\"], [1.0, \"#f0f921\"]], \"type\": \"histogram2dcontour\"}], \"mesh3d\": [{\"colorbar\": {\"outlinewidth\": 0, \"ticks\": \"\"}, \"type\": \"mesh3d\"}], \"parcoords\": [{\"line\": {\"colorbar\": {\"outlinewidth\": 0, \"ticks\": \"\"}}, \"type\": \"parcoords\"}], \"pie\": [{\"automargin\": true, \"type\": \"pie\"}], \"scatter\": [{\"marker\": {\"colorbar\": {\"outlinewidth\": 0, \"ticks\": \"\"}}, \"type\": \"scatter\"}], \"scatter3d\": [{\"line\": {\"colorbar\": {\"outlinewidth\": 0, \"ticks\": \"\"}}, \"marker\": {\"colorbar\": {\"outlinewidth\": 0, \"ticks\": \"\"}}, \"type\": \"scatter3d\"}], \"scattercarpet\": [{\"marker\": {\"colorbar\": {\"outlinewidth\": 0, \"ticks\": \"\"}}, \"type\": \"scattercarpet\"}], \"scattergeo\": [{\"marker\": {\"colorbar\": {\"outlinewidth\": 0, \"ticks\": \"\"}}, \"type\": \"scattergeo\"}], \"scattergl\": [{\"marker\": {\"colorbar\": {\"outlinewidth\": 0, \"ticks\": \"\"}}, \"type\": \"scattergl\"}], \"scattermapbox\": [{\"marker\": {\"colorbar\": {\"outlinewidth\": 0, \"ticks\": \"\"}}, \"type\": \"scattermapbox\"}], \"scatterpolar\": [{\"marker\": {\"colorbar\": {\"outlinewidth\": 0, \"ticks\": \"\"}}, \"type\": \"scatterpolar\"}], \"scatterpolargl\": [{\"marker\": {\"colorbar\": {\"outlinewidth\": 0, \"ticks\": \"\"}}, \"type\": \"scatterpolargl\"}], \"scatterternary\": [{\"marker\": {\"colorbar\": {\"outlinewidth\": 0, \"ticks\": \"\"}}, \"type\": \"scatterternary\"}], \"surface\": [{\"colorbar\": {\"outlinewidth\": 0, \"ticks\": \"\"}, \"colorscale\": [[0.0, \"#0d0887\"], [0.1111111111111111, \"#46039f\"], [0.2222222222222222, \"#7201a8\"], [0.3333333333333333, \"#9c179e\"], [0.4444444444444444, \"#bd3786\"], [0.5555555555555556, \"#d8576b\"], [0.6666666666666666, \"#ed7953\"], [0.7777777777777778, \"#fb9f3a\"], [0.8888888888888888, \"#fdca26\"], [1.0, \"#f0f921\"]], \"type\": \"surface\"}], \"table\": [{\"cells\": {\"fill\": {\"color\": \"#EBF0F8\"}, \"line\": {\"color\": \"white\"}}, \"header\": {\"fill\": {\"color\": \"#C8D4E3\"}, \"line\": {\"color\": \"white\"}}, \"type\": \"table\"}]}, \"layout\": {\"annotationdefaults\": {\"arrowcolor\": \"#2a3f5f\", \"arrowhead\": 0, \"arrowwidth\": 1}, \"coloraxis\": {\"colorbar\": {\"outlinewidth\": 0, \"ticks\": \"\"}}, \"colorscale\": {\"diverging\": [[0, \"#8e0152\"], [0.1, \"#c51b7d\"], [0.2, \"#de77ae\"], [0.3, \"#f1b6da\"], [0.4, \"#fde0ef\"], [0.5, \"#f7f7f7\"], [0.6, \"#e6f5d0\"], [0.7, \"#b8e186\"], [0.8, \"#7fbc41\"], [0.9, \"#4d9221\"], [1, \"#276419\"]], \"sequential\": [[0.0, \"#0d0887\"], [0.1111111111111111, \"#46039f\"], [0.2222222222222222, \"#7201a8\"], [0.3333333333333333, \"#9c179e\"], [0.4444444444444444, \"#bd3786\"], [0.5555555555555556, \"#d8576b\"], [0.6666666666666666, \"#ed7953\"], [0.7777777777777778, \"#fb9f3a\"], [0.8888888888888888, \"#fdca26\"], [1.0, \"#f0f921\"]], \"sequentialminus\": [[0.0, \"#0d0887\"], [0.1111111111111111, \"#46039f\"], [0.2222222222222222, \"#7201a8\"], [0.3333333333333333, \"#9c179e\"], [0.4444444444444444, \"#bd3786\"], [0.5555555555555556, \"#d8576b\"], [0.6666666666666666, \"#ed7953\"], [0.7777777777777778, \"#fb9f3a\"], [0.8888888888888888, \"#fdca26\"], [1.0, \"#f0f921\"]]}, \"colorway\": [\"#636efa\", \"#EF553B\", \"#00cc96\", \"#ab63fa\", \"#FFA15A\", \"#19d3f3\", \"#FF6692\", \"#B6E880\", \"#FF97FF\", \"#FECB52\"], \"font\": {\"color\": \"#2a3f5f\"}, \"geo\": {\"bgcolor\": \"white\", \"lakecolor\": \"white\", \"landcolor\": \"#E5ECF6\", \"showlakes\": true, \"showland\": true, \"subunitcolor\": \"white\"}, \"hoverlabel\": {\"align\": \"left\"}, \"hovermode\": \"closest\", \"mapbox\": {\"style\": \"light\"}, \"paper_bgcolor\": \"white\", \"plot_bgcolor\": \"#E5ECF6\", \"polar\": {\"angularaxis\": {\"gridcolor\": \"white\", \"linecolor\": \"white\", \"ticks\": \"\"}, \"bgcolor\": \"#E5ECF6\", \"radialaxis\": {\"gridcolor\": \"white\", \"linecolor\": \"white\", \"ticks\": \"\"}}, \"scene\": {\"xaxis\": {\"backgroundcolor\": \"#E5ECF6\", \"gridcolor\": \"white\", \"gridwidth\": 2, \"linecolor\": \"white\", \"showbackground\": true, \"ticks\": \"\", \"zerolinecolor\": \"white\"}, \"yaxis\": {\"backgroundcolor\": \"#E5ECF6\", \"gridcolor\": \"white\", \"gridwidth\": 2, \"linecolor\": \"white\", \"showbackground\": true, \"ticks\": \"\", \"zerolinecolor\": \"white\"}, \"zaxis\": {\"backgroundcolor\": \"#E5ECF6\", \"gridcolor\": \"white\", \"gridwidth\": 2, \"linecolor\": \"white\", \"showbackground\": true, \"ticks\": \"\", \"zerolinecolor\": \"white\"}}, \"shapedefaults\": {\"line\": {\"color\": \"#2a3f5f\"}}, \"ternary\": {\"aaxis\": {\"gridcolor\": \"white\", \"linecolor\": \"white\", \"ticks\": \"\"}, \"baxis\": {\"gridcolor\": \"white\", \"linecolor\": \"white\", \"ticks\": \"\"}, \"bgcolor\": \"#E5ECF6\", \"caxis\": {\"gridcolor\": \"white\", \"linecolor\": \"white\", \"ticks\": \"\"}}, \"title\": {\"x\": 0.05}, \"xaxis\": {\"automargin\": true, \"gridcolor\": \"white\", \"linecolor\": \"white\", \"ticks\": \"\", \"title\": {\"standoff\": 15}, \"zerolinecolor\": \"white\", \"zerolinewidth\": 2}, \"yaxis\": {\"automargin\": true, \"gridcolor\": \"white\", \"linecolor\": \"white\", \"ticks\": \"\", \"title\": {\"standoff\": 15}, \"zerolinecolor\": \"white\", \"zerolinewidth\": 2}}}, \"title\": {\"text\": \"Les pays les plus impact\\u00e9s par COVID-19 (Dec\\u00e8s)\"}, \"width\": 800, \"xaxis\": {\"anchor\": \"y\", \"domain\": [0.0, 1.0], \"title\": {\"text\": \"Country_Region\"}}, \"yaxis\": {\"anchor\": \"x\", \"domain\": [0.0, 1.0], \"title\": {\"text\": \"Deaths\"}}},\n",
              "                        {\"responsive\": true}\n",
              "                    ).then(function(){\n",
              "                            \n",
              "var gd = document.getElementById('c86fe6c4-2eb5-47d0-9fc4-4c639cd220ee');\n",
              "var x = new MutationObserver(function (mutations, observer) {{\n",
              "        var display = window.getComputedStyle(gd).display;\n",
              "        if (!display || display === 'none') {{\n",
              "            console.log([gd, 'removed!']);\n",
              "            Plotly.purge(gd);\n",
              "            observer.disconnect();\n",
              "        }}\n",
              "}});\n",
              "\n",
              "// Listen for the removal of the full notebook cells\n",
              "var notebookContainer = gd.closest('#notebook-container');\n",
              "if (notebookContainer) {{\n",
              "    x.observe(notebookContainer, {childList: true});\n",
              "}}\n",
              "\n",
              "// Listen for the clearing of the current output cell\n",
              "var outputEl = gd.closest('.output');\n",
              "if (outputEl) {{\n",
              "    x.observe(outputEl, {childList: true});\n",
              "}}\n",
              "\n",
              "                        })\n",
              "                };\n",
              "                \n",
              "            </script>\n",
              "        </div>\n",
              "</body>\n",
              "</html>"
            ]
          },
          "metadata": {
            "tags": []
          }
        }
      ]
    },
    {
      "cell_type": "code",
      "metadata": {
        "colab": {
          "base_uri": "https://localhost:8080/",
          "height": 517
        },
        "id": "vUCD6MoYU_z3",
        "outputId": "bf8d742e-21e0-47be-d063-d3daa0ebf8f0"
      },
      "source": [
        "px.bar(\n",
        "    etat_class_df.head(10),\n",
        "    x='Country_Region',\n",
        "    y='Recovered',\n",
        "  title='Les pays les plus impactés par COVID-19 (Recovred)',\n",
        "  color_discrete_sequence=['Green'],\n",
        "  height=500,\n",
        "  width=800\n",
        ")"
      ],
      "execution_count": 27,
      "outputs": [
        {
          "output_type": "display_data",
          "data": {
            "text/html": [
              "<html>\n",
              "<head><meta charset=\"utf-8\" /></head>\n",
              "<body>\n",
              "    <div>\n",
              "            <script src=\"https://cdnjs.cloudflare.com/ajax/libs/mathjax/2.7.5/MathJax.js?config=TeX-AMS-MML_SVG\"></script><script type=\"text/javascript\">if (window.MathJax) {MathJax.Hub.Config({SVG: {font: \"STIX-Web\"}});}</script>\n",
              "                <script type=\"text/javascript\">window.PlotlyConfig = {MathJaxConfig: 'local'};</script>\n",
              "        <script src=\"https://cdn.plot.ly/plotly-latest.min.js\"></script>    \n",
              "            <div id=\"05a5efab-a314-4041-8672-0d815a3d12b4\" class=\"plotly-graph-div\" style=\"height:500px; width:800px;\"></div>\n",
              "            <script type=\"text/javascript\">\n",
              "                \n",
              "                    window.PLOTLYENV=window.PLOTLYENV || {};\n",
              "                    \n",
              "                if (document.getElementById(\"05a5efab-a314-4041-8672-0d815a3d12b4\")) {\n",
              "                    Plotly.newPlot(\n",
              "                        '05a5efab-a314-4041-8672-0d815a3d12b4',\n",
              "                        [{\"alignmentgroup\": \"True\", \"hoverlabel\": {\"namelength\": 0}, \"hovertemplate\": \"Country_Region=%{x}<br>Recovered=%{y}\", \"legendgroup\": \"\", \"marker\": {\"color\": \"Green\"}, \"name\": \"\", \"offsetgroup\": \"\", \"orientation\": \"v\", \"showlegend\": false, \"textposition\": \"auto\", \"type\": \"bar\", \"x\": [\"US\", \"Brazil\", \"India\", \"France\", \"Russia\", \"United Kingdom\", \"Italy\", \"Turkey\", \"Spain\", \"Germany\"], \"xaxis\": \"x\", \"y\": [null, 11181371.0, 11474683.0, 301467.0, 4128769.0, 13074.0, 2913045.0, 3014226.0, 150376.0, 2539690.0], \"yaxis\": \"y\"}],\n",
              "                        {\"barmode\": \"relative\", \"height\": 500, \"legend\": {\"tracegroupgap\": 0}, \"template\": {\"data\": {\"bar\": [{\"error_x\": {\"color\": \"#2a3f5f\"}, \"error_y\": {\"color\": \"#2a3f5f\"}, \"marker\": {\"line\": {\"color\": \"#E5ECF6\", \"width\": 0.5}}, \"type\": \"bar\"}], \"barpolar\": [{\"marker\": {\"line\": {\"color\": \"#E5ECF6\", \"width\": 0.5}}, \"type\": \"barpolar\"}], \"carpet\": [{\"aaxis\": {\"endlinecolor\": \"#2a3f5f\", \"gridcolor\": \"white\", \"linecolor\": \"white\", \"minorgridcolor\": \"white\", \"startlinecolor\": \"#2a3f5f\"}, \"baxis\": {\"endlinecolor\": \"#2a3f5f\", \"gridcolor\": \"white\", \"linecolor\": \"white\", \"minorgridcolor\": \"white\", \"startlinecolor\": \"#2a3f5f\"}, \"type\": \"carpet\"}], \"choropleth\": [{\"colorbar\": {\"outlinewidth\": 0, \"ticks\": \"\"}, \"type\": \"choropleth\"}], \"contour\": [{\"colorbar\": {\"outlinewidth\": 0, \"ticks\": \"\"}, \"colorscale\": [[0.0, \"#0d0887\"], [0.1111111111111111, \"#46039f\"], [0.2222222222222222, \"#7201a8\"], [0.3333333333333333, \"#9c179e\"], [0.4444444444444444, \"#bd3786\"], [0.5555555555555556, \"#d8576b\"], [0.6666666666666666, \"#ed7953\"], [0.7777777777777778, \"#fb9f3a\"], [0.8888888888888888, \"#fdca26\"], [1.0, \"#f0f921\"]], \"type\": \"contour\"}], \"contourcarpet\": [{\"colorbar\": {\"outlinewidth\": 0, \"ticks\": \"\"}, \"type\": \"contourcarpet\"}], \"heatmap\": [{\"colorbar\": {\"outlinewidth\": 0, \"ticks\": \"\"}, \"colorscale\": [[0.0, \"#0d0887\"], [0.1111111111111111, \"#46039f\"], [0.2222222222222222, \"#7201a8\"], [0.3333333333333333, \"#9c179e\"], [0.4444444444444444, \"#bd3786\"], [0.5555555555555556, \"#d8576b\"], [0.6666666666666666, \"#ed7953\"], [0.7777777777777778, \"#fb9f3a\"], [0.8888888888888888, \"#fdca26\"], [1.0, \"#f0f921\"]], \"type\": \"heatmap\"}], \"heatmapgl\": [{\"colorbar\": {\"outlinewidth\": 0, \"ticks\": \"\"}, \"colorscale\": [[0.0, \"#0d0887\"], [0.1111111111111111, \"#46039f\"], [0.2222222222222222, \"#7201a8\"], [0.3333333333333333, \"#9c179e\"], [0.4444444444444444, \"#bd3786\"], [0.5555555555555556, \"#d8576b\"], [0.6666666666666666, \"#ed7953\"], [0.7777777777777778, \"#fb9f3a\"], [0.8888888888888888, \"#fdca26\"], [1.0, \"#f0f921\"]], \"type\": \"heatmapgl\"}], \"histogram\": [{\"marker\": {\"colorbar\": {\"outlinewidth\": 0, \"ticks\": \"\"}}, \"type\": \"histogram\"}], \"histogram2d\": [{\"colorbar\": {\"outlinewidth\": 0, \"ticks\": \"\"}, \"colorscale\": [[0.0, \"#0d0887\"], [0.1111111111111111, \"#46039f\"], [0.2222222222222222, \"#7201a8\"], [0.3333333333333333, \"#9c179e\"], [0.4444444444444444, \"#bd3786\"], [0.5555555555555556, \"#d8576b\"], [0.6666666666666666, \"#ed7953\"], [0.7777777777777778, \"#fb9f3a\"], [0.8888888888888888, \"#fdca26\"], [1.0, \"#f0f921\"]], \"type\": \"histogram2d\"}], \"histogram2dcontour\": [{\"colorbar\": {\"outlinewidth\": 0, \"ticks\": \"\"}, \"colorscale\": [[0.0, \"#0d0887\"], [0.1111111111111111, \"#46039f\"], [0.2222222222222222, \"#7201a8\"], [0.3333333333333333, \"#9c179e\"], [0.4444444444444444, \"#bd3786\"], [0.5555555555555556, \"#d8576b\"], [0.6666666666666666, \"#ed7953\"], [0.7777777777777778, \"#fb9f3a\"], [0.8888888888888888, \"#fdca26\"], [1.0, \"#f0f921\"]], \"type\": \"histogram2dcontour\"}], \"mesh3d\": [{\"colorbar\": {\"outlinewidth\": 0, \"ticks\": \"\"}, \"type\": \"mesh3d\"}], \"parcoords\": [{\"line\": {\"colorbar\": {\"outlinewidth\": 0, \"ticks\": \"\"}}, \"type\": \"parcoords\"}], \"pie\": [{\"automargin\": true, \"type\": \"pie\"}], \"scatter\": [{\"marker\": {\"colorbar\": {\"outlinewidth\": 0, \"ticks\": \"\"}}, \"type\": \"scatter\"}], \"scatter3d\": [{\"line\": {\"colorbar\": {\"outlinewidth\": 0, \"ticks\": \"\"}}, \"marker\": {\"colorbar\": {\"outlinewidth\": 0, \"ticks\": \"\"}}, \"type\": \"scatter3d\"}], \"scattercarpet\": [{\"marker\": {\"colorbar\": {\"outlinewidth\": 0, \"ticks\": \"\"}}, \"type\": \"scattercarpet\"}], \"scattergeo\": [{\"marker\": {\"colorbar\": {\"outlinewidth\": 0, \"ticks\": \"\"}}, \"type\": \"scattergeo\"}], \"scattergl\": [{\"marker\": {\"colorbar\": {\"outlinewidth\": 0, \"ticks\": \"\"}}, \"type\": \"scattergl\"}], \"scattermapbox\": [{\"marker\": {\"colorbar\": {\"outlinewidth\": 0, \"ticks\": \"\"}}, \"type\": \"scattermapbox\"}], \"scatterpolar\": [{\"marker\": {\"colorbar\": {\"outlinewidth\": 0, \"ticks\": \"\"}}, \"type\": \"scatterpolar\"}], \"scatterpolargl\": [{\"marker\": {\"colorbar\": {\"outlinewidth\": 0, \"ticks\": \"\"}}, \"type\": \"scatterpolargl\"}], \"scatterternary\": [{\"marker\": {\"colorbar\": {\"outlinewidth\": 0, \"ticks\": \"\"}}, \"type\": \"scatterternary\"}], \"surface\": [{\"colorbar\": {\"outlinewidth\": 0, \"ticks\": \"\"}, \"colorscale\": [[0.0, \"#0d0887\"], [0.1111111111111111, \"#46039f\"], [0.2222222222222222, \"#7201a8\"], [0.3333333333333333, \"#9c179e\"], [0.4444444444444444, \"#bd3786\"], [0.5555555555555556, \"#d8576b\"], [0.6666666666666666, \"#ed7953\"], [0.7777777777777778, \"#fb9f3a\"], [0.8888888888888888, \"#fdca26\"], [1.0, \"#f0f921\"]], \"type\": \"surface\"}], \"table\": [{\"cells\": {\"fill\": {\"color\": \"#EBF0F8\"}, \"line\": {\"color\": \"white\"}}, \"header\": {\"fill\": {\"color\": \"#C8D4E3\"}, \"line\": {\"color\": \"white\"}}, \"type\": \"table\"}]}, \"layout\": {\"annotationdefaults\": {\"arrowcolor\": \"#2a3f5f\", \"arrowhead\": 0, \"arrowwidth\": 1}, \"coloraxis\": {\"colorbar\": {\"outlinewidth\": 0, \"ticks\": \"\"}}, \"colorscale\": {\"diverging\": [[0, \"#8e0152\"], [0.1, \"#c51b7d\"], [0.2, \"#de77ae\"], [0.3, \"#f1b6da\"], [0.4, \"#fde0ef\"], [0.5, \"#f7f7f7\"], [0.6, \"#e6f5d0\"], [0.7, \"#b8e186\"], [0.8, \"#7fbc41\"], [0.9, \"#4d9221\"], [1, \"#276419\"]], \"sequential\": [[0.0, \"#0d0887\"], [0.1111111111111111, \"#46039f\"], [0.2222222222222222, \"#7201a8\"], [0.3333333333333333, \"#9c179e\"], [0.4444444444444444, \"#bd3786\"], [0.5555555555555556, \"#d8576b\"], [0.6666666666666666, \"#ed7953\"], [0.7777777777777778, \"#fb9f3a\"], [0.8888888888888888, \"#fdca26\"], [1.0, \"#f0f921\"]], \"sequentialminus\": [[0.0, \"#0d0887\"], [0.1111111111111111, \"#46039f\"], [0.2222222222222222, \"#7201a8\"], [0.3333333333333333, \"#9c179e\"], [0.4444444444444444, \"#bd3786\"], [0.5555555555555556, \"#d8576b\"], [0.6666666666666666, \"#ed7953\"], [0.7777777777777778, \"#fb9f3a\"], [0.8888888888888888, \"#fdca26\"], [1.0, \"#f0f921\"]]}, \"colorway\": [\"#636efa\", \"#EF553B\", \"#00cc96\", \"#ab63fa\", \"#FFA15A\", \"#19d3f3\", \"#FF6692\", \"#B6E880\", \"#FF97FF\", \"#FECB52\"], \"font\": {\"color\": \"#2a3f5f\"}, \"geo\": {\"bgcolor\": \"white\", \"lakecolor\": \"white\", \"landcolor\": \"#E5ECF6\", \"showlakes\": true, \"showland\": true, \"subunitcolor\": \"white\"}, \"hoverlabel\": {\"align\": \"left\"}, \"hovermode\": \"closest\", \"mapbox\": {\"style\": \"light\"}, \"paper_bgcolor\": \"white\", \"plot_bgcolor\": \"#E5ECF6\", \"polar\": {\"angularaxis\": {\"gridcolor\": \"white\", \"linecolor\": \"white\", \"ticks\": \"\"}, \"bgcolor\": \"#E5ECF6\", \"radialaxis\": {\"gridcolor\": \"white\", \"linecolor\": \"white\", \"ticks\": \"\"}}, \"scene\": {\"xaxis\": {\"backgroundcolor\": \"#E5ECF6\", \"gridcolor\": \"white\", \"gridwidth\": 2, \"linecolor\": \"white\", \"showbackground\": true, \"ticks\": \"\", \"zerolinecolor\": \"white\"}, \"yaxis\": {\"backgroundcolor\": \"#E5ECF6\", \"gridcolor\": \"white\", \"gridwidth\": 2, \"linecolor\": \"white\", \"showbackground\": true, \"ticks\": \"\", \"zerolinecolor\": \"white\"}, \"zaxis\": {\"backgroundcolor\": \"#E5ECF6\", \"gridcolor\": \"white\", \"gridwidth\": 2, \"linecolor\": \"white\", \"showbackground\": true, \"ticks\": \"\", \"zerolinecolor\": \"white\"}}, \"shapedefaults\": {\"line\": {\"color\": \"#2a3f5f\"}}, \"ternary\": {\"aaxis\": {\"gridcolor\": \"white\", \"linecolor\": \"white\", \"ticks\": \"\"}, \"baxis\": {\"gridcolor\": \"white\", \"linecolor\": \"white\", \"ticks\": \"\"}, \"bgcolor\": \"#E5ECF6\", \"caxis\": {\"gridcolor\": \"white\", \"linecolor\": \"white\", \"ticks\": \"\"}}, \"title\": {\"x\": 0.05}, \"xaxis\": {\"automargin\": true, \"gridcolor\": \"white\", \"linecolor\": \"white\", \"ticks\": \"\", \"title\": {\"standoff\": 15}, \"zerolinecolor\": \"white\", \"zerolinewidth\": 2}, \"yaxis\": {\"automargin\": true, \"gridcolor\": \"white\", \"linecolor\": \"white\", \"ticks\": \"\", \"title\": {\"standoff\": 15}, \"zerolinecolor\": \"white\", \"zerolinewidth\": 2}}}, \"title\": {\"text\": \"Les pays les plus impact\\u00e9s par COVID-19 (Recovred)\"}, \"width\": 800, \"xaxis\": {\"anchor\": \"y\", \"domain\": [0.0, 1.0], \"title\": {\"text\": \"Country_Region\"}}, \"yaxis\": {\"anchor\": \"x\", \"domain\": [0.0, 1.0], \"title\": {\"text\": \"Recovered\"}}},\n",
              "                        {\"responsive\": true}\n",
              "                    ).then(function(){\n",
              "                            \n",
              "var gd = document.getElementById('05a5efab-a314-4041-8672-0d815a3d12b4');\n",
              "var x = new MutationObserver(function (mutations, observer) {{\n",
              "        var display = window.getComputedStyle(gd).display;\n",
              "        if (!display || display === 'none') {{\n",
              "            console.log([gd, 'removed!']);\n",
              "            Plotly.purge(gd);\n",
              "            observer.disconnect();\n",
              "        }}\n",
              "}});\n",
              "\n",
              "// Listen for the removal of the full notebook cells\n",
              "var notebookContainer = gd.closest('#notebook-container');\n",
              "if (notebookContainer) {{\n",
              "    x.observe(notebookContainer, {childList: true});\n",
              "}}\n",
              "\n",
              "// Listen for the clearing of the current output cell\n",
              "var outputEl = gd.closest('.output');\n",
              "if (outputEl) {{\n",
              "    x.observe(outputEl, {childList: true});\n",
              "}}\n",
              "\n",
              "                        })\n",
              "                };\n",
              "                \n",
              "            </script>\n",
              "        </div>\n",
              "</body>\n",
              "</html>"
            ]
          },
          "metadata": {
            "tags": []
          }
        }
      ]
    },
    {
      "cell_type": "code",
      "metadata": {
        "colab": {
          "base_uri": "https://localhost:8080/",
          "height": 129
        },
        "id": "A1X4vwKpWZVv",
        "outputId": "bebafc84-6929-48e1-bbe0-fd79d113cd6d"
      },
      "source": [
        "#Visualiser les données sur une carte\n",
        "m=folium.Map(location=[31.7917,-7.0926],zoom_start=6, max_zoom=12, min_zoom=2)\n",
        "for i in range(0,len(confirme_df)):\n",
        "  folium.Circle(\n",
        "      location=[confirme_df.iloc[i]['Lat'],confirme_df.iloc[i]['Long']],\n",
        "      fill=True,\n",
        "      radius=(int((np.log(confirme_df.iloc[i,-1]+1,00001)))+0.2)*50000,\n",
        "      color='red',\n",
        "      fill_color='indigo',\n",
        "      \n",
        "\n",
        "  ).add_to(m)\n",
        "m"
      ],
      "execution_count": 34,
      "outputs": [
        {
          "output_type": "error",
          "ename": "SyntaxError",
          "evalue": "ignored",
          "traceback": [
            "\u001b[0;36m  File \u001b[0;32m\"<ipython-input-34-d7616cc26c0f>\"\u001b[0;36m, line \u001b[0;32m7\u001b[0m\n\u001b[0;31m    radius=(int((np.log(confirme_df.iloc[i,-1]+1,00001)))+0.2)*50000,\u001b[0m\n\u001b[0m                                                     ^\u001b[0m\n\u001b[0;31mSyntaxError\u001b[0m\u001b[0;31m:\u001b[0m invalid token\n"
          ]
        }
      ]
    },
    {
      "cell_type": "code",
      "metadata": {
        "colab": {
          "base_uri": "https://localhost:8080/"
        },
        "id": "Xg7nOJYIZl1R",
        "outputId": "7d411e4b-e3ba-4852-aff8-38fb872b10f1"
      },
      "source": [
        "\n",
        "\n",
        "confirme_df.columns"
      ],
      "execution_count": 35,
      "outputs": [
        {
          "output_type": "execute_result",
          "data": {
            "text/plain": [
              "Index(['Province/State', 'Country/Region', 'Lat', 'Long', '1/22/20', '1/23/20',\n",
              "       '1/24/20', '1/25/20', '1/26/20', '1/27/20',\n",
              "       ...\n",
              "       '3/22/21', '3/23/21', '3/24/21', '3/25/21', '3/26/21', '3/27/21',\n",
              "       '3/28/21', '3/29/21', '3/30/21', '3/31/21'],\n",
              "      dtype='object', length=439)"
            ]
          },
          "metadata": {
            "tags": []
          },
          "execution_count": 35
        }
      ]
    },
    {
      "cell_type": "code",
      "metadata": {
        "id": "xkMNyBBgZ-E2"
      },
      "source": [
        "#Visualiser la situation au Maroc\n",
        "conf_mar=confirme_df[confirme_df['Country/Region']=='Morocco']\n",
        "dec_mar=deces_df[deces_df['Country/Region']=='Morocco']\n",
        "retab_mar=retabli_df[retabli_df['Country/Region']=='Morocco']\n",
        "\n"
      ],
      "execution_count": 40,
      "outputs": []
    },
    {
      "cell_type": "code",
      "metadata": {
        "id": "pVivhIfbrzfs"
      },
      "source": [
        "confi_mar=confirme_df[confirme_df['Country/Region']=='Morocco']\n",
        "dec_mar=deces_df[deces_df['Country/Region']=='Morocco']\n",
        "retab_mar=retabli_df[retabli_df['Country/Region']=='Morocco']"
      ],
      "execution_count": 54,
      "outputs": []
    },
    {
      "cell_type": "code",
      "metadata": {
        "colab": {
          "base_uri": "https://localhost:8080/"
        },
        "id": "ZKTbC1ngtQxq",
        "outputId": "5cdcdeeb-fbd3-4f03-e383-e185a9a30dca"
      },
      "source": [
        "confi_mar.columns"
      ],
      "execution_count": 56,
      "outputs": [
        {
          "output_type": "execute_result",
          "data": {
            "text/plain": [
              "Index(['Province/State', 'Country/Region', 'Lat', 'Long', '1/22/20', '1/23/20',\n",
              "       '1/24/20', '1/25/20', '1/26/20', '1/27/20',\n",
              "       ...\n",
              "       '3/22/21', '3/23/21', '3/24/21', '3/25/21', '3/26/21', '3/27/21',\n",
              "       '3/28/21', '3/29/21', '3/30/21', '3/31/21'],\n",
              "      dtype='object', length=439)"
            ]
          },
          "metadata": {
            "tags": []
          },
          "execution_count": 56
        }
      ]
    },
    {
      "cell_type": "code",
      "metadata": {
        "id": "j84xXXd_uA9N"
      },
      "source": [
        "#Préparation des données (MAROC)\n",
        "confi_mar=confi_mar.copy().drop(['Province/State', 'Country/Region', 'Lat', 'Long'],axis=1).sum()\n",
        "dec_mar=dec_mar.copy().drop(['Province/State', 'Country/Region', 'Lat', 'Long'],axis=1).sum()\n",
        "retab_mar=retab_mar.copy().drop(['Province/State', 'Country/Region', 'Lat', 'Long'],axis=1).sum()"
      ],
      "execution_count": null,
      "outputs": []
    },
    {
      "cell_type": "code",
      "metadata": {
        "colab": {
          "base_uri": "https://localhost:8080/",
          "height": 566
        },
        "id": "d4wIawWiuYxj",
        "outputId": "b0e1a379-4bac-4d7e-abd6-baec374aafa2"
      },
      "source": [
        "#Dessin de la courbe\n",
        "fig,ax=plt.subplots(figsize=(18,8))\n",
        "ax.plot(confi_mar.index,confi_mar.values,label='Confirmé')\n",
        "ax.plot(dec_mar.index,dec_mar.values,label='Decès')\n",
        "ax.plot(retab_mar.index,retab_mar.values,label='Retabli')\n",
        "\n",
        "plt.xticks(rotation='vertical')\n",
        "ax.set(xlabel='Date',ylabel='Nombre de Cas',title='Situation au Maroc')\n",
        "plt.legend()"
      ],
      "execution_count": 68,
      "outputs": [
        {
          "output_type": "execute_result",
          "data": {
            "text/plain": [
              "<matplotlib.legend.Legend at 0x7fba90510850>"
            ]
          },
          "metadata": {
            "tags": []
          },
          "execution_count": 68
        },
        {
          "output_type": "display_data",
          "data": {
            "image/png": "[encoded data removed]",
            "text/plain": [
              "<Figure size 1296x576 with 1 Axes>"
            ]
          },
          "metadata": {
            "tags": [],
            "needs_background": "light"
          }
        }
      ]
    }
  ]
}